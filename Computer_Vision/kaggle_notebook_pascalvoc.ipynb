{
 "cells": [
  {
   "cell_type": "markdown",
   "metadata": {
    "_cell_guid": "b47b15de-64a5-4fa9-a688-23d3efa9a2f4",
    "_uuid": "0cc385a7-98f6-4883-96eb-7b89c7c9aa1c",
    "papermill": {
     "duration": 0.016533,
     "end_time": "2022-04-12T14:48:23.471825",
     "exception": false,
     "start_time": "2022-04-12T14:48:23.455292",
     "status": "completed"
    },
    "tags": []
   },
   "source": [
    "Computer Vision\n",
    "---------------------------------------------------------------\n",
    "\n",
    "This notebook will delve into some deep learning applications for computer vision.\n",
    "\n",
    "---------------------------------------------------------------"
   ]
  },
  {
   "cell_type": "markdown",
   "metadata": {
    "_cell_guid": "35358cfb-b13d-4277-8dd5-4e663c8cd775",
    "_uuid": "3b40b846-d7da-46d8-b354-c6d5c5ded56e",
    "papermill": {
     "duration": 0.014397,
     "end_time": "2022-04-12T14:48:23.501501",
     "exception": false,
     "start_time": "2022-04-12T14:48:23.487104",
     "status": "completed"
    },
    "tags": []
   },
   "source": [
    "# 1. Overview\n",
    "This notbeook consists of *three main parts*:\n",
    "* Image classification (Sect. 2)\n",
    "* Semantic segmentation (Sect. 3)\n",
    "* Adversarial attacks (Sect. 4)\n",
    "\n",
    "In this notebook, I will train an end-to-end neural network for image classification, followed by a similar approach for semantic segmentation. For both tasks, I will focus on optimizing performance and competing with fellow students through a Kaggle competition.  \n",
    "\n",
    "Beyond model training, I will analyze the weaknesses of my classification and/or segmentation networks, aiming to find and exploit their vulnerabilities. Unlike the competition-driven sections, this part will be more self-directed, where I will define my own goals and strive for meaningful insights.  \n",
    "\n",
    "Finally, I will reflect on my findings and provide an overall discussion, linking my work to the course lectures and real-world computer vision applications."
   ]
  },
  {
   "cell_type": "markdown",
   "metadata": {
    "papermill": {
     "duration": 0.014263,
     "end_time": "2022-04-12T14:48:23.530341",
     "exception": false,
     "start_time": "2022-04-12T14:48:23.516078",
     "status": "completed"
    },
    "tags": []
   },
   "source": [
    "## 1.1 Deep learning resources\n",
    "The TensorFlow and/or Keras library is used for building deep learning models. Nice crash course [here](https://colab.research.google.com/drive/1UCJt8EYjlzCs1H1d1X0iDGYJsHKwu-NO)."
   ]
  },
  {
   "cell_type": "code",
   "execution_count": null,
   "metadata": {
    "_cell_guid": "7ddf657a-b938-4a49-87dc-b0db9af9156d",
    "_uuid": "c65ea4f1-cc90-408f-b8e0-7c7399ec7e21",
    "execution": {
     "iopub.execute_input": "2024-05-22T11:37:16.477722Z",
     "iopub.status.busy": "2024-05-22T11:37:16.477388Z",
     "iopub.status.idle": "2024-05-22T11:37:47.214648Z",
     "shell.execute_reply": "2024-05-22T11:37:47.213675Z",
     "shell.execute_reply.started": "2024-05-22T11:37:16.477694Z"
    },
    "papermill": {
     "duration": 5.416492,
     "end_time": "2022-04-12T14:48:28.96151",
     "exception": false,
     "start_time": "2022-04-12T14:48:23.545018",
     "status": "completed"
    },
    "tags": [],
    "trusted": true
   },
   "outputs": [],
   "source": [
    "# This Python 3 environment comes with many helpful analytics libraries installed\n",
    "# It is defined by the kaggle/python Docker image: https://github.com/kaggle/docker-python\n",
    "import numpy as np\n",
    "import pandas as pd\n",
    "import tensorflow as tf\n",
    "from matplotlib import pyplot as plt\n",
    "from skimage.transform import resize\n",
    "from transformers import ViTImageProcessor, ViTForImageClassification, ViTConfig\n",
    "from PIL import Image\n",
    "import requests\n",
    "import torch\n",
    "from torch import nn\n",
    "from keras.models import Sequential\n",
    "from keras.layers import Dense, Dropout, Activation, Flatten, Input\n",
    "from keras.layers import Convolution2D, MaxPooling2D, AveragePooling2D\n",
    "from keras.callbacks import EarlyStopping\n",
    "\n",
    "import os\n",
    "\n",
    "os.environ[\"KERAS_BACKEND\"] = \"tensorflow\"  # @param [\"tensorflow\", \"jax\", \"torch\"]\n",
    "\n",
    "import keras\n",
    "from keras import layers\n",
    "from keras import ops\n",
    "\n",
    "import numpy as np\n",
    "import matplotlib.pyplot as plt"
   ]
  },
  {
   "cell_type": "markdown",
   "metadata": {
    "papermill": {
     "duration": 0.014416,
     "end_time": "2022-04-12T14:48:28.990998",
     "exception": false,
     "start_time": "2022-04-12T14:48:28.976582",
     "status": "completed"
    },
    "tags": []
   },
   "source": [
    "## 1.2 PASCAL VOC 2009\n",
    "For this project I will be using the [PASCAL VOC 2009](http://host.robots.ox.ac.uk/pascal/VOC/voc2009/index.html) dataset. This dataset consists of colour images of various scenes with different object classes (e.g. animal: *bird, cat, ...*; vehicle: *aeroplane, bicycle, ...*), totalling 20 classes."
   ]
  },
  {
   "cell_type": "code",
   "execution_count": null,
   "metadata": {
    "execution": {
     "iopub.execute_input": "2024-05-22T11:37:47.216947Z",
     "iopub.status.busy": "2024-05-22T11:37:47.216411Z",
     "iopub.status.idle": "2024-05-22T11:37:47.227355Z",
     "shell.execute_reply": "2024-05-22T11:37:47.226489Z",
     "shell.execute_reply.started": "2024-05-22T11:37:47.21692Z"
    },
    "trusted": true
   },
   "outputs": [],
   "source": [
    "# Show some examples\n",
    "def plot_images(train_df, labels):\n",
    "    fig, axs = plt.subplots(2, 20, figsize=(10 * 20, 10 * 2))\n",
    "    for i, label in enumerate(labels):\n",
    "        df = train_df.loc[train_df[label] == 1]\n",
    "        axs[0, i].imshow(df.iloc[0][\"img\"], vmin=0, vmax=255)\n",
    "        axs[0, i].set_title(\"\\n\".join(label for label in labels if df.iloc[0][label] == 1), fontsize=40)\n",
    "        axs[0, i].axis(\"off\")\n",
    "        axs[1, i].imshow(df.iloc[0][\"seg\"], vmin=0, vmax=20)  # with the absolute color scale it will be clear that the arrays in the \"seg\" column are label maps (labels in [0, 20])\n",
    "        axs[1, i].axis(\"off\")\n",
    "\n",
    "    plt.show()"
   ]
  },
  {
   "cell_type": "code",
   "execution_count": null,
   "metadata": {
    "_cell_guid": "1ce67f49-6bf6-4e5c-b5e4-576e893616a9",
    "_uuid": "3b1c5fbb-757f-4349-b224-e281c540e1ad",
    "execution": {
     "iopub.execute_input": "2024-05-22T11:37:47.228805Z",
     "iopub.status.busy": "2024-05-22T11:37:47.228431Z",
     "iopub.status.idle": "2024-05-22T11:38:05.797649Z",
     "shell.execute_reply": "2024-05-22T11:38:05.796703Z",
     "shell.execute_reply.started": "2024-05-22T11:37:47.22877Z"
    },
    "papermill": {
     "duration": 21.336481,
     "end_time": "2022-04-12T14:48:50.342062",
     "exception": false,
     "start_time": "2022-04-12T14:48:29.005581",
     "status": "completed"
    },
    "tags": [],
    "trusted": true
   },
   "outputs": [],
   "source": [
    "# Loading the training data\n",
    "train_df = pd.read_csv('//kaggle/input/kul-h02a5a-computer-vision-ga2-2024/train/train_set.csv', index_col=\"Id\")\n",
    "labels = train_df.columns\n",
    "train_df[\"img\"] = [np.load('/kaggle/input/kul-h02a5a-computer-vision-ga2-2024/train/img/train_{}.npy'.format(idx)) for idx, _ in train_df.iterrows()]\n",
    "train_df[\"seg\"] = [np.load('/kaggle/input/kul-h02a5a-computer-vision-ga2-2024/train/seg/train_{}.npy'.format(idx)) for idx, _ in train_df.iterrows()]\n",
    "print(\"The training set contains {} examples.\".format(len(train_df)))\n",
    "\n",
    "#plot_images(train_df, labels)\n",
    "\n",
    "# The training dataframe contains for each image 20 columns with the ground truth classification labels and 20 column with the ground truth segmentation maps for each class\n",
    "train_df.head(1)"
   ]
  },
  {
   "cell_type": "code",
   "execution_count": null,
   "metadata": {
    "execution": {
     "iopub.execute_input": "2024-05-22T11:38:05.800322Z",
     "iopub.status.busy": "2024-05-22T11:38:05.799971Z",
     "iopub.status.idle": "2024-05-22T11:38:17.81824Z",
     "shell.execute_reply": "2024-05-22T11:38:17.817273Z",
     "shell.execute_reply.started": "2024-05-22T11:38:05.800294Z"
    },
    "papermill": {
     "duration": 11.507733,
     "end_time": "2022-04-12T14:49:02.044233",
     "exception": false,
     "start_time": "2022-04-12T14:48:50.5365",
     "status": "completed"
    },
    "tags": [],
    "trusted": true
   },
   "outputs": [],
   "source": [
    "# Loading the test data\n",
    "test_df = pd.read_csv('/kaggle/input/kul-h02a5a-computer-vision-ga2-2024/test/test_set.csv', index_col=\"Id\")\n",
    "test_df[\"img\"] = [np.load('/kaggle/input/kul-h02a5a-computer-vision-ga2-2024/test/img/test_{}.npy'.format(idx)) for idx, _ in test_df.iterrows()]\n",
    "test_df[\"seg\"] = [-1 * np.ones(img.shape[:2], dtype=np.int8) for img in test_df[\"img\"]]\n",
    "print(\"The test set contains {} examples.\".format(len(test_df)))\n",
    "\n",
    "# The test dataframe is similar to the training dataframe, but here the values are -1 --> the task is to fill in these as good as possible in Sect. 2 and Sect. 3; in Sect. 6 this dataframe is automatically transformed in the submission CSV!\n",
    "test_df.head(1)"
   ]
  },
  {
   "cell_type": "markdown",
   "metadata": {
    "papermill": {
     "duration": 0.197841,
     "end_time": "2022-04-12T14:49:02.437252",
     "exception": false,
     "start_time": "2022-04-12T14:49:02.239411",
     "status": "completed"
    },
    "tags": []
   },
   "source": [
    "## 1.3 Your Kaggle submission\n",
    "The filled test dataframe (during Sect. 2 and Sect. 3) must be converted to a submission.csv with two rows per example (one for classification and one for segmentation) and with only a single prediction column (the multi-class/label predictions running length encoded)."
   ]
  },
  {
   "cell_type": "code",
   "execution_count": null,
   "metadata": {
    "execution": {
     "iopub.execute_input": "2024-05-22T11:38:17.819744Z",
     "iopub.status.busy": "2024-05-22T11:38:17.819429Z",
     "iopub.status.idle": "2024-05-22T11:38:17.831568Z",
     "shell.execute_reply": "2024-05-22T11:38:17.830121Z",
     "shell.execute_reply.started": "2024-05-22T11:38:17.81972Z"
    },
    "papermill": {
     "duration": 0.213344,
     "end_time": "2022-04-12T14:49:02.848597",
     "exception": false,
     "start_time": "2022-04-12T14:49:02.635253",
     "status": "completed"
    },
    "tags": [],
    "trusted": true
   },
   "outputs": [],
   "source": [
    "def _rle_encode(img):\n",
    "    \"\"\"\n",
    "    Kaggle requires RLE encoded predictions for computation of the Dice score (https://www.kaggle.com/lifa08/run-length-encode-and-decode)\n",
    "\n",
    "    Parameters\n",
    "    ----------\n",
    "    img: np.ndarray - binary img array\n",
    "    \n",
    "    Returns\n",
    "    -------\n",
    "    rle: String - running length encoded version of img\n",
    "    \"\"\"\n",
    "    pixels = img.flatten()\n",
    "    pixels = np.concatenate([[0], pixels, [0]])\n",
    "    runs = np.where(pixels[1:] != pixels[:-1])[0] + 1\n",
    "    runs[1::2] -= runs[::2]\n",
    "    rle = ' '.join(str(x) for x in runs)\n",
    "    return rle\n",
    "\n",
    "def generate_submission(df):\n",
    "    \"\"\"\n",
    "    transforms and writes the test dataframe into a submission.csv file.\n",
    "    \n",
    "    Parameters\n",
    "    ----------\n",
    "    df: pd.DataFrame - filled dataframe that needs to be converted\n",
    "    \n",
    "    Returns\n",
    "    -------\n",
    "    submission_df: pd.DataFrame - df in submission format.\n",
    "    \"\"\"\n",
    "    df_dict = {\"Id\": [], \"Predicted\": []}\n",
    "    for idx, _ in df.iterrows():\n",
    "        df_dict[\"Id\"].append(f\"{idx}_classification\")\n",
    "        df_dict[\"Predicted\"].append(_rle_encode(np.array(df.loc[idx, labels])))\n",
    "        df_dict[\"Id\"].append(f\"{idx}_segmentation\")\n",
    "        df_dict[\"Predicted\"].append(_rle_encode(np.array([df.loc[idx, \"seg\"] == j + 1 for j in range(len(labels))])))\n",
    "    \n",
    "    submission_df = pd.DataFrame(data=df_dict, dtype=str).set_index(\"Id\")\n",
    "    submission_df.to_csv(\"submission.csv\")\n",
    "    return submission_df"
   ]
  },
  {
   "cell_type": "markdown",
   "metadata": {},
   "source": [
    "## 1.4 Image Augmentation\n",
    "\n",
    "Adding augmented data is a common technique to increase the amount of training data available. This is done by reducing overfitting on training data, therefore increasing the robustness of the trained model."
   ]
  },
  {
   "cell_type": "code",
   "execution_count": null,
   "metadata": {
    "execution": {
     "iopub.execute_input": "2024-05-22T11:38:17.8336Z",
     "iopub.status.busy": "2024-05-22T11:38:17.83325Z",
     "iopub.status.idle": "2024-05-22T11:38:17.849529Z",
     "shell.execute_reply": "2024-05-22T11:38:17.84861Z",
     "shell.execute_reply.started": "2024-05-22T11:38:17.833567Z"
    },
    "trusted": true
   },
   "outputs": [],
   "source": [
    "def add_gaussian_noise(image,p=0.5, mean=0, std=25):\n",
    "    if random.uniform(0, 1) > p:\n",
    "        return image\n",
    "    \"\"\"Add Gaussian noise to an image.\"\"\"\n",
    "    row, col, ch = image.shape\n",
    "    gauss = np.random.normal(mean, std, (row, col, ch))\n",
    "    noisy_image = np.clip(image + gauss, 0, 255)\n",
    "    return noisy_image.astype(np.uint8)\n",
    "\n",
    "def random_erasing(image, p=0.75, sl=0.02, sh=0.4, r1=0.3, r2=3):\n",
    "    if random.uniform(0, 1) > p:\n",
    "        return image\n",
    "\n",
    "    img_h, img_w, _ = image.shape\n",
    "    area = img_h * img_w\n",
    "\n",
    "    while True:\n",
    "        target_area = random.uniform(sl, sh) * area\n",
    "        aspect_ratio = random.uniform(r1, r2)\n",
    "        w = int(np.sqrt(target_area * aspect_ratio))\n",
    "        h = int(np.sqrt(target_area / aspect_ratio))\n",
    "        left = random.randint(0, img_w)\n",
    "        top = random.randint(0, img_h)\n",
    "\n",
    "        if left + w <= img_w and top + h <= img_h:\n",
    "            erased_image = np.copy(image)\n",
    "            erased_image[top:top + h, left:left + w, :] = np.random.rand(h, w, 3) * 255\n",
    "            return erased_image\n",
    "        \n",
    "def horizontal_flip(image,p=0.25):\n",
    "    if random.uniform(0, 1) > p:\n",
    "        return image\n",
    "    return np.fliplr(image)\n",
    "\n",
    "def adjust_brightness(image, probability=1, brightness_range=(0.7, 1.3), contrast_range=(0.7, 1.3)):\n",
    "    if random.uniform(0, 1) > probability:\n",
    "        return image\n",
    "    brightness_factor = random.uniform(*brightness_range)\n",
    "    contrast_factor = random.uniform(*contrast_range)\n",
    "    adjusted_image = cv2.convertScaleAbs(image, alpha=contrast_factor, beta=brightness_factor)\n",
    "\n",
    "    return adjusted_image\n",
    "\n",
    "def random_augmentations(image,p=0.25):\n",
    "    image = add_gaussian_noise(image)\n",
    "    image = random_erasing(image)\n",
    "    image = horizontal_flip(image)\n",
    "    image = adjust_brightness(image)\n",
    "    return image"
   ]
  },
  {
   "cell_type": "code",
   "execution_count": null,
   "metadata": {
    "execution": {
     "iopub.execute_input": "2024-05-22T11:38:17.851094Z",
     "iopub.status.busy": "2024-05-22T11:38:17.850699Z",
     "iopub.status.idle": "2024-05-22T11:38:18.287631Z",
     "shell.execute_reply": "2024-05-22T11:38:18.286662Z",
     "shell.execute_reply.started": "2024-05-22T11:38:17.851069Z"
    },
    "trusted": true
   },
   "outputs": [],
   "source": [
    "import numpy as np\n",
    "import pandas as pd\n",
    "import random\n",
    "import cv2 # OpenCV package\n",
    "import gc\n",
    "\n",
    "def generate_augmented_data(train_df):\n",
    "    augmented_data = []\n",
    "\n",
    "    for i, row in train_df.iterrows():\n",
    "        img = row['img']\n",
    "        labels = row[:20].values \n",
    "\n",
    "        img = cv2.resize(img, (224, 224))\n",
    "\n",
    "        for _ in range(2):\n",
    "            aug = random_augmentations(img, p=1)\n",
    "            aug = cv2.resize(aug, (224, 224))\n",
    "\n",
    "            # Create a new row with the augmented image and the same labels\n",
    "            new_row = pd.Series(list(labels) + [aug] + [-1], index=row.index)\n",
    "\n",
    "            # Append the new row to the list\n",
    "            augmented_data.append(new_row)\n",
    "\n",
    "    # Convert the list to a DataFrame\n",
    "    augmented_df = pd.DataFrame(augmented_data)\n",
    "\n",
    "    return augmented_df"
   ]
  },
  {
   "cell_type": "markdown",
   "metadata": {},
   "source": [
    "## 1.5 Notebook overview and information\n",
    "\n",
    "The notebook is divided into 4 main parts with each part containing different subsections:\n",
    "\n",
    "\n",
    "- **Image classification** : developed two image classifiers from scratch (a CNN and a ViT) and fine-tuned two pre-trained networks (DETR and Google's ViT). After evaluating their performance (Validating the model on a test sample visually, monitoring loss scores, gaining information from a confusion matrix), the best-performing model is selected for submission.\n",
    "- **Semantic segmentation** : made one model from scratch (U-net) and 2 pre-trained models (PSPnet and DETR). After evaluating their performance (Vissually comparing the predected mask with the ground truth, monitoring loss scores, parameter finetuning), selected the best-performing model for submission.\n",
    "- **Adversarial attack** : applied the FGSM (Fast gradient sign method) attack to perbuate an image with noise to trick the model into wrongfully classyfing an image.\n",
    "- **Discussion** : summerized the findings.\n",
    "\n",
    "---NOTE---\n",
    "\n",
    "Some code blocks are commented out to save on running time but are kept in the notebook with their output to show the findings when testing out these networks.\n"
   ]
  },
  {
   "cell_type": "markdown",
   "metadata": {
    "papermill": {
     "duration": 0.196641,
     "end_time": "2022-04-12T14:49:03.240824",
     "exception": false,
     "start_time": "2022-04-12T14:49:03.044183",
     "status": "completed"
    },
    "tags": []
   },
   "source": [
    "# 2. Image classification\n",
    "The goal here is simple: implement a classification CNN and train it to recognise all 20 classes (and/or background) using the training set and compete on the test set (by filling in the classification columns in the test dataframe)."
   ]
  },
  {
   "cell_type": "markdown",
   "metadata": {},
   "source": [
    "**Image Classification**\n",
    "\n",
    "The problem involves developing an image classification system capable of accurately identifying and classifying multiple objects present in a single image. This requires recognizing the presence of various objects and assigning correct labels to each one. This is a sub-problem of classification, called multi-label classification. "
   ]
  },
  {
   "cell_type": "markdown",
   "metadata": {},
   "source": [
    "### 2.0 Preproccesing : resize image"
   ]
  },
  {
   "cell_type": "markdown",
   "metadata": {},
   "source": [
    "Since the training and testing images have varying shapes, and models typically require consistent input dimensions, all the images must be resized to the appropriate shape before feeding them into the model."
   ]
  },
  {
   "cell_type": "code",
   "execution_count": null,
   "metadata": {
    "execution": {
     "iopub.execute_input": "2024-05-22T11:38:18.289148Z",
     "iopub.status.busy": "2024-05-22T11:38:18.288847Z",
     "iopub.status.idle": "2024-05-22T11:38:18.293963Z",
     "shell.execute_reply": "2024-05-22T11:38:18.292869Z",
     "shell.execute_reply.started": "2024-05-22T11:38:18.289123Z"
    },
    "trusted": true
   },
   "outputs": [],
   "source": [
    "def resize_images(images,img_size):\n",
    "    list_images = list()\n",
    "    for img in images:\n",
    "        img_resized = resize(img,img_size)\n",
    "        list_images.append(img_resized)\n",
    "    return np.array(list_images) "
   ]
  },
  {
   "cell_type": "code",
   "execution_count": null,
   "metadata": {
    "execution": {
     "iopub.execute_input": "2024-05-22T11:38:18.295442Z",
     "iopub.status.busy": "2024-05-22T11:38:18.29511Z",
     "iopub.status.idle": "2024-05-22T11:38:36.663305Z",
     "shell.execute_reply": "2024-05-22T11:38:36.662336Z",
     "shell.execute_reply.started": "2024-05-22T11:38:18.295403Z"
    },
    "trusted": true
   },
   "outputs": [],
   "source": [
    "input_shape = (150,150,3)\n",
    "\n",
    "X_train = resize_images(train_df[\"img\"],input_shape)\n",
    "X_test = resize_images(test_df[\"img\"],input_shape)\n",
    "\n",
    "num_classes = 20\n",
    "\n",
    "print(f\"x_train shape: {X_train.shape} - X_test shape: {X_test.shape}\")\n"
   ]
  },
  {
   "cell_type": "code",
   "execution_count": null,
   "metadata": {
    "execution": {
     "iopub.execute_input": "2024-05-22T11:38:36.667882Z",
     "iopub.status.busy": "2024-05-22T11:38:36.667593Z",
     "iopub.status.idle": "2024-05-22T11:38:36.674587Z",
     "shell.execute_reply": "2024-05-22T11:38:36.672914Z",
     "shell.execute_reply.started": "2024-05-22T11:38:36.667858Z"
    },
    "trusted": true
   },
   "outputs": [],
   "source": [
    "# Show some examples\n",
    "def plot_images_train(images):\n",
    "    \n",
    "    fig, axs = plt.subplots(1, 10, figsize=(50, 50))\n",
    "    for i, image in enumerate(images[:10]):\n",
    "        axs[i].imshow(image, vmin=0, vmax=255)\n",
    "        axs[i].axis(\"off\")\n",
    "\n",
    "    plt.show()"
   ]
  },
  {
   "cell_type": "markdown",
   "metadata": {},
   "source": [
    "Now, let's plot the appearance of the resized test and train images."
   ]
  },
  {
   "cell_type": "code",
   "execution_count": null,
   "metadata": {
    "execution": {
     "iopub.execute_input": "2024-05-22T11:38:36.676031Z",
     "iopub.status.busy": "2024-05-22T11:38:36.675695Z",
     "iopub.status.idle": "2024-05-22T11:38:38.034518Z",
     "shell.execute_reply": "2024-05-22T11:38:38.033118Z",
     "shell.execute_reply.started": "2024-05-22T11:38:36.675992Z"
    },
    "trusted": true
   },
   "outputs": [],
   "source": [
    "plot_images_train(X_train)"
   ]
  },
  {
   "cell_type": "code",
   "execution_count": null,
   "metadata": {
    "execution": {
     "iopub.execute_input": "2024-05-22T11:38:38.036259Z",
     "iopub.status.busy": "2024-05-22T11:38:38.035919Z",
     "iopub.status.idle": "2024-05-22T11:38:39.281879Z",
     "shell.execute_reply": "2024-05-22T11:38:39.280665Z",
     "shell.execute_reply.started": "2024-05-22T11:38:38.036224Z"
    },
    "trusted": true
   },
   "outputs": [],
   "source": [
    "plot_images_train(X_test)"
   ]
  },
  {
   "cell_type": "markdown",
   "metadata": {},
   "source": [
    "# 2.1 Models from scratch"
   ]
  },
  {
   "cell_type": "markdown",
   "metadata": {},
   "source": [
    "The following code produces 2 arrays :\n",
    "* **y_train** : the encoding that the model has to predict where each index corresponds with an label.\n",
    "* **label_map** : a map where each element at an index represents the label. "
   ]
  },
  {
   "cell_type": "code",
   "execution_count": null,
   "metadata": {
    "execution": {
     "iopub.execute_input": "2024-05-22T11:38:39.28356Z",
     "iopub.status.busy": "2024-05-22T11:38:39.283042Z",
     "iopub.status.idle": "2024-05-22T11:38:39.290106Z",
     "shell.execute_reply": "2024-05-22T11:38:39.289236Z",
     "shell.execute_reply.started": "2024-05-22T11:38:39.283531Z"
    },
    "trusted": true
   },
   "outputs": [],
   "source": [
    "train_df.columns[:20]"
   ]
  },
  {
   "cell_type": "code",
   "execution_count": null,
   "metadata": {
    "execution": {
     "iopub.execute_input": "2024-05-22T11:38:39.291884Z",
     "iopub.status.busy": "2024-05-22T11:38:39.291483Z",
     "iopub.status.idle": "2024-05-22T11:38:39.409471Z",
     "shell.execute_reply": "2024-05-22T11:38:39.408573Z",
     "shell.execute_reply.started": "2024-05-22T11:38:39.291856Z"
    },
    "trusted": true
   },
   "outputs": [],
   "source": [
    "# Store training set labels\n",
    "y_train = []\n",
    "label_map = train_df.columns[:20]\n",
    "for i in range(train_df['img'].shape[0]):\n",
    "    img = train_df['img'][i]\n",
    "    temp = list()\n",
    "    for i in train_df.loc[i][:20]:\n",
    "        temp.append(i)\n",
    "    y_train.append(np.array(temp))     \n",
    "y_train = np.array(y_train)\n",
    "print(\"Labels of the training images:\",np.array(y_train).shape)"
   ]
  },
  {
   "cell_type": "markdown",
   "metadata": {},
   "source": [
    "## 2.1.1 CNN from scratch "
   ]
  },
  {
   "cell_type": "markdown",
   "metadata": {},
   "source": [
    "A **Convolutional Neural Network (CNN)** is a regularized type of feed-forward neural network designed that is able  to autonomously learn feature representation through optimized filters (or kernels). CNNs are strong in processing grid-like data, such as images, due to their ability to capture spatial hierarchies of features through convolution and pooling operations. This hierarchical feature learning allows CNNs to extract meaningful patterns and representations from the input data, making them effective for tasks like image classification."
   ]
  },
  {
   "cell_type": "markdown",
   "metadata": {},
   "source": [
    "The code below defines the sequential (linear stack of layers) model. The class Sequential takes an array of layers. inspiration of AlexNet architecture is used to build this CNN model but it is modified to perform better on this case. Modifications: changing some layer parameters or removing dense layers."
   ]
  },
  {
   "cell_type": "markdown",
   "metadata": {
    "execution": {
     "iopub.execute_input": "2024-05-21T08:23:41.493737Z",
     "iopub.status.busy": "2024-05-21T08:23:41.493462Z",
     "iopub.status.idle": "2024-05-21T08:23:41.500314Z",
     "shell.execute_reply": "2024-05-21T08:23:41.499346Z",
     "shell.execute_reply.started": "2024-05-21T08:23:41.493714Z"
    }
   },
   "source": [
    "```python\n",
    "\n",
    "# Architecture of the CNN\n",
    "\n",
    "model = Sequential([\n",
    "    Input(shape=(input_shape)),\n",
    "    Convolution2D(filters=96, kernel_size=(7, 7), strides=4,activation='relu'),\n",
    "    MaxPooling2D(pool_size=(3,3), strides=(2,2)),\n",
    "    Convolution2D(256, kernel_size=(5,5), strides= 1, padding= 'same', activation= 'relu'),\n",
    "    MaxPooling2D(pool_size=(3,3), strides=(2,2)),\n",
    "\n",
    "    Convolution2D(filters=384, kernel_size=(3, 3),activation='relu', padding='same'),\n",
    "    Convolution2D(filters=384, kernel_size=(3, 3),activation='relu', padding='same'),\n",
    "    Convolution2D(filters=256, kernel_size=(3, 3),activation='relu', padding='same'),\n",
    "    MaxPooling2D(pool_size=(3,3), strides=(2,2)),\n",
    "\n",
    "    Flatten(), \n",
    "    #Dense(1000, activation= 'relu'),\n",
    "    Dense(128,activation='relu'),\n",
    "    Dense(num_classes,activation = 'softmax')\n",
    "])\n",
    "```"
   ]
  },
  {
   "cell_type": "markdown",
   "metadata": {},
   "source": [
    "# Convolutional Neural Network (CNN) Architecture  \n",
    "\n",
    "1. **Input layer**  \n",
    "Defines the size of the input images.  \n",
    "\n",
    "2. **5 Convolutional layers**  \n",
    "In these layers, filters (kernels) are learned and slide along input features to detect and extract meaningful patterns. The image is transformed into a feature map, where details are abstracted and represented more compactly. Different kernel sizes and filter counts are used in each convolutional layer, inspired by the AlexNet architecture.  \n",
    "\n",
    "3. **Pooling layers**  \n",
    "Following the convolutional layers, max pooling is applied to reduce the dimensionality of the feature maps while preserving the most important features. A max pooling layer with a (3,3) kernel and (2,2) stride is used. These layers scan a 3x3 grid of the input, selecting the maximum value before moving the grid by 2 pixels to repeat the process across the rest of the feature map.  \n",
    "\n",
    "4. **Flatten layer**  \n",
    "This step converts the 2D feature maps into a 1D array, making them suitable for input into fully connected layers.  \n",
    "\n",
    "5. **1 Dense or fully connected layer**  \n",
    "Acts as the classifier, mapping extracted features to their corresponding labels using a structure similar to a traditional multilayer perceptron (MLP).  \n",
    "\n",
    "6. **Dense output layer**  \n",
    "Produces the final prediction by applying the softmax activation function, yielding a probability distribution over all possible classes. The size of this layer corresponds to the number of classification labels.  \n"
   ]
  },
  {
   "cell_type": "markdown",
   "metadata": {},
   "source": [
    "## **Training the Model**  \n",
    "\n",
    "With the model architecture defined, training begins on the PASCAL VOC 2009 dataset. Training a neural network requires specifying certain hyperparameters, which control aspects of the learning process such as the optimizer and loss function. The following hyperparameters were used:  \n",
    "\n",
    "* **Loss = binary_crossentropy**  \n",
    "  This loss function is ideal for multi-label classification tasks, where each label is treated independently as a binary classification problem (belonging to the class or not). This makes it well-suited for the multi-label classification problem at hand.  \n",
    "\n",
    "* **Optimizer = adam**  \n",
    "  Adam (\"Adaptive Moment Estimation\") is an optimization algorithm that extends stochastic gradient descent (SGD) by adapting learning rates for each parameter dynamically.  \n",
    "\n",
    "* **Metric = categorical_accuracy**  \n",
    "  Since the model produces class probabilities using a softmax activation function, categorical accuracy is used to measure performance. It evaluates whether the predicted class (i.e., the one with the highest probability) matches the correct label.  \n",
    "\n",
    "* **EarlyStopping = 50**  \n",
    "  To prevent overfitting, early stopping monitors validation accuracy. If no improvement is seen for 50 consecutive epochs, training is halted.  \n",
    "\n",
    "* **Batch size = 128**  \n",
    "  Different batch sizes were tested, and 128 provided the best performance.  \n"
   ]
  },
  {
   "cell_type": "markdown",
   "metadata": {
    "execution": {
     "iopub.execute_input": "2024-05-21T08:23:41.501996Z",
     "iopub.status.busy": "2024-05-21T08:23:41.501668Z",
     "iopub.status.idle": "2024-05-21T08:23:41.509553Z",
     "shell.execute_reply": "2024-05-21T08:23:41.508539Z",
     "shell.execute_reply.started": "2024-05-21T08:23:41.501966Z"
    }
   },
   "source": [
    "```python\n",
    "# Configuration of learning process\n",
    "model.compile(optimizer='adam', loss='binary_crossentropy', metrics=['categorical_accuracy']) \n",
    "early_stopping_monitor = EarlyStopping(patience = 50)\n",
    "```"
   ]
  },
  {
   "cell_type": "markdown",
   "metadata": {
    "execution": {
     "iopub.execute_input": "2024-05-21T08:23:41.510927Z",
     "iopub.status.busy": "2024-05-21T08:23:41.510668Z",
     "iopub.status.idle": "2024-05-21T08:23:41.517569Z",
     "shell.execute_reply": "2024-05-21T08:23:41.516595Z",
     "shell.execute_reply.started": "2024-05-21T08:23:41.510904Z"
    }
   },
   "source": [
    "```python\n",
    "training_results = model.fit(X_train, y_train, validation_split = 0.25, epochs=150, batch_size=128, callbacks= [early_stopping_monitor]) \n",
    "```"
   ]
  },
  {
   "cell_type": "markdown",
   "metadata": {},
   "source": [
    "### **Evaluation of the CNN Model**  \n",
    "\n",
    "Examining the categorical accuracy, the training accuracy continues to increase, but validation accuracy shows only slight improvement. This suggests that the model is likely starting to overfit on the training data, reducing its ability to generalize effectively to new data.  \n",
    "\n",
    "Overall, the model trained from scratch appears to be underperforming. This is further evident in the test sample prediction below, where the model struggles to correctly identify a clearly visible bicycle.  \n"
   ]
  },
  {
   "cell_type": "markdown",
   "metadata": {
    "execution": {
     "iopub.execute_input": "2024-05-21T08:33:13.64195Z",
     "iopub.status.busy": "2024-05-21T08:33:13.641201Z",
     "iopub.status.idle": "2024-05-21T08:33:13.648645Z",
     "shell.execute_reply": "2024-05-21T08:33:13.64737Z",
     "shell.execute_reply.started": "2024-05-21T08:33:13.641916Z"
    }
   },
   "source": [
    "```python\n",
    "plt.plot(training_results.history['categorical_accuracy'],'r') \n",
    "plt.plot(training_results.history['val_categorical_accuracy'],'b') \n",
    "plt.figsize=(12,6)\n",
    "plt.xlabel(\"Iterations\")\n",
    "plt.ylabel(\"Accuracy\")\n",
    "plt.legend(['Train','Validation'])\n",
    "```"
   ]
  },
  {
   "attachments": {
    "e6329b60-3f98-4f17-828a-0fe8d4205b73.png": {
     "image/png": "[encoded data removed]"
    }
   },
   "cell_type": "markdown",
   "metadata": {},
   "source": [
    "![Screenshot 2024-05-19 235833.png](attachment:e6329b60-3f98-4f17-828a-0fe8d4205b73.png)"
   ]
  },
  {
   "cell_type": "markdown",
   "metadata": {},
   "source": [
    "#### Testing the model on a test sample"
   ]
  },
  {
   "cell_type": "markdown",
   "metadata": {
    "execution": {
     "iopub.execute_input": "2024-05-21T08:23:41.525886Z",
     "iopub.status.busy": "2024-05-21T08:23:41.52564Z",
     "iopub.status.idle": "2024-05-21T08:23:41.531764Z",
     "shell.execute_reply": "2024-05-21T08:23:41.531042Z",
     "shell.execute_reply.started": "2024-05-21T08:23:41.525865Z"
    }
   },
   "source": [
    "```python\n",
    "pred = model.predict(np.array([X_test[3]]))\n",
    "plt.imshow(X_test[3])\n",
    "plt.axis(\"off\")\n",
    "plt.title('Trained model predicted : \"' + str(label_map[pred[0].argmax()]) + '\" for the following test sample')\n",
    "```"
   ]
  },
  {
   "attachments": {
    "0cd5bfae-2133-46aa-ad51-e4ce55d0e13e.png": {
     "image/png": "[encoded data removed]"
    }
   },
   "cell_type": "markdown",
   "metadata": {},
   "source": [
    "![Screenshot 2024-05-19 235757.png](attachment:0cd5bfae-2133-46aa-ad51-e4ce55d0e13e.png)"
   ]
  },
  {
   "cell_type": "markdown",
   "metadata": {},
   "source": [
    "## 2.1.2 ViT (Visual Transformer) from scratch\n",
    "A **vision transformer (ViT)** is a transformer designed for computer vision. Transformers are extremely good in the domain of NLP but the paper \"AN IMAGE IS WORTH 16X16 WORDS: TRANSFORMERS FOR IMAGE RECOGNITION AT SCALE\" by Alexey Dosovitskiy has found use for it in the domain of computer vision. A ViT breaks down an input image into a series of patches (rather than breaking up text into tokens), serialises each patch into a vector, and maps it to a smaller dimension with a single matrix multiplication. These vector embeddings are then processed by a transformer encoder as if they were token embeddings. \n",
    "While CNNs are state-of-the-art in computer vision, the paper showed that ViT can be competitive with (or even better than) state-of-the-art CNNs. ViT has found applications in image recognition."
   ]
  },
  {
   "attachments": {
    "dd5e946a-bcce-4fb8-9157-0d378e3db7db.png": {
     "image/png": "[encoded data removed]"
    }
   },
   "cell_type": "markdown",
   "metadata": {},
   "source": [
    "As previously mentioned, ViT is a modified transformer specifically designed for processing images. While a detailed discussion of transformers is beyond the scope of this, a brief summary is provided. A transformer efficiently processes sequential data using self-attention to focus on important elements and feedforward networks to capture long-range dependencies.  \n",
    "\n",
    "The image below illustrates the model's architecture. Input images are divided into equal-sized patches, which are then transformed into 1D vectors. Since the transformer maintains a constant latent vector size \\( D \\) across its layers, these vectors are mapped to a \\( D \\)-dimensional space using a trainable linear projection. Additionally, positional information is embedded into the transformed patches to indicate their spatial location within the image. A learnable embedding is also added at position 0 of the sequence, which is essential for classification.  \n",
    "\n",
    "After passing through the transformer, the output is fed into a Multi-Layer Perceptron (MLP) to predict the probability of each class.  \n",
    "\n",
    "![Screenshot 2024-05-19 235621.png](attachment:dd5e946a-bcce-4fb8-9157-0d378e3db7db.png)  \n"
   ]
  },
  {
   "cell_type": "markdown",
   "metadata": {},
   "source": [
    "Due to the model's complexity, several parameters must be configured to influence both the learning process and the architecture. The most important ones are highlighted below:  \n",
    "\n",
    "* **image_size**  \n",
    "  Images are resized to a shape of (image_size, image_size) before being processed.  \n",
    "\n",
    "* **patch_size**  \n",
    "  Defines the size of each patch. This value must be a divisor of image_size to ensure the image is evenly divided into patches.  \n",
    "\n",
    "* **projection_dim**  \n",
    "  Specifies the dimension of the latent vector. In transformers, this parameter affects the model’s capacity and ability to encode information.  \n",
    "\n",
    "Other parameters are specific to the transformer architecture or the learning process and will not be discussed here.  \n"
   ]
  },
  {
   "cell_type": "code",
   "execution_count": null,
   "metadata": {
    "execution": {
     "iopub.execute_input": "2024-05-22T11:38:39.410948Z",
     "iopub.status.busy": "2024-05-22T11:38:39.410669Z",
     "iopub.status.idle": "2024-05-22T11:38:39.416792Z",
     "shell.execute_reply": "2024-05-22T11:38:39.415831Z",
     "shell.execute_reply.started": "2024-05-22T11:38:39.410924Z"
    },
    "trusted": true
   },
   "outputs": [],
   "source": [
    "learning_rate = 0.001\n",
    "weight_decay = 0.0001\n",
    "batch_size = 256\n",
    "num_epochs = 100\n",
    "image_size = 72  # resize input images to this size\n",
    "patch_size = 6  # Size of the patches to be extract from the input images\n",
    "num_patches = (image_size // patch_size) ** 2\n",
    "projection_dim = 64\n",
    "num_heads = 4\n",
    "transformer_units = [\n",
    "    projection_dim * 2,\n",
    "    projection_dim,\n",
    "]  # Size of the transformer layers\n",
    "transformer_layers = 8\n",
    "mlp_head_units = [\n",
    "    2048,\n",
    "    1024,\n",
    "]  # Size of the dense layers of the final classifier"
   ]
  },
  {
   "cell_type": "markdown",
   "metadata": {},
   "source": [
    "The first layer is the **data_augmentation** layer. The responsibility of this layer is to resizes the images to the constant input size for the model. It also does some random augmentation like flipping or rotating the input to make the model more robust."
   ]
  },
  {
   "cell_type": "code",
   "execution_count": null,
   "metadata": {
    "execution": {
     "iopub.execute_input": "2024-05-22T11:38:39.418622Z",
     "iopub.status.busy": "2024-05-22T11:38:39.418247Z",
     "iopub.status.idle": "2024-05-22T11:38:40.079505Z",
     "shell.execute_reply": "2024-05-22T11:38:40.07843Z",
     "shell.execute_reply.started": "2024-05-22T11:38:39.418589Z"
    },
    "trusted": true
   },
   "outputs": [],
   "source": [
    "data_augmentation = keras.Sequential(\n",
    "    [\n",
    "        layers.Normalization(),\n",
    "        layers.Resizing(image_size, image_size),\n",
    "        layers.RandomFlip(\"horizontal\"),\n",
    "        layers.RandomRotation(factor=0.02),\n",
    "        layers.RandomZoom(height_factor=0.2, width_factor=0.2),\n",
    "    ],\n",
    "    name=\"data_augmentation\",\n",
    ")"
   ]
  },
  {
   "cell_type": "code",
   "execution_count": null,
   "metadata": {
    "execution": {
     "iopub.execute_input": "2024-05-22T11:38:40.080927Z",
     "iopub.status.busy": "2024-05-22T11:38:40.080637Z",
     "iopub.status.idle": "2024-05-22T11:38:40.086511Z",
     "shell.execute_reply": "2024-05-22T11:38:40.085471Z",
     "shell.execute_reply.started": "2024-05-22T11:38:40.080901Z"
    },
    "trusted": true
   },
   "outputs": [],
   "source": [
    "# function to easily add mlp layers\n",
    "def mlp(x, hidden_units, dropout_rate):\n",
    "    for units in hidden_units:\n",
    "        x = layers.Dense(units, activation=keras.activations.gelu)(x)\n",
    "        x = layers.Dropout(dropout_rate)(x)\n",
    "    return x"
   ]
  },
  {
   "cell_type": "markdown",
   "metadata": {},
   "source": [
    "The transformation steps discussed earlier are implemented as a layer within the model. The code below defines two classes to handle these transformations:  \n",
    "\n",
    "* **Patches**  \n",
    "  Divides the input image into smaller patches.  \n",
    "\n",
    "* **PatchEncoder**  \n",
    "  Projects the patches into the correct dimension and encodes their positional information.  \n"
   ]
  },
  {
   "cell_type": "code",
   "execution_count": null,
   "metadata": {
    "execution": {
     "iopub.execute_input": "2024-05-22T11:38:40.088019Z",
     "iopub.status.busy": "2024-05-22T11:38:40.087688Z",
     "iopub.status.idle": "2024-05-22T11:38:40.098386Z",
     "shell.execute_reply": "2024-05-22T11:38:40.097565Z",
     "shell.execute_reply.started": "2024-05-22T11:38:40.087994Z"
    },
    "trusted": true
   },
   "outputs": [],
   "source": [
    "class Patches(layers.Layer):\n",
    "    def __init__(self, patch_size):\n",
    "        super().__init__()\n",
    "        self.patch_size = patch_size\n",
    "\n",
    "    def call(self, images):\n",
    "        input_shape = ops.shape(images)\n",
    "        batch_size = input_shape[0]\n",
    "        height = input_shape[1]\n",
    "        width = input_shape[2]\n",
    "        channels = input_shape[3]\n",
    "        num_patches_h = height // self.patch_size\n",
    "        num_patches_w = width // self.patch_size\n",
    "        patches = keras.ops.image.extract_patches(images, size=self.patch_size)\n",
    "        patches = ops.reshape(\n",
    "            patches,\n",
    "            (\n",
    "                batch_size,\n",
    "                num_patches_h * num_patches_w,\n",
    "                self.patch_size * self.patch_size * channels,\n",
    "            ),\n",
    "        )\n",
    "        return patches\n",
    "\n",
    "    def get_config(self):\n",
    "        config = super().get_config()\n",
    "        config.update({\"patch_size\": self.patch_size})\n",
    "        return config"
   ]
  },
  {
   "cell_type": "markdown",
   "metadata": {},
   "source": [
    "The **Patches** layer can be called independently of the model, allowing for direct visualization of its output. This feature provides insight into how the image is divided into patches.  \n"
   ]
  },
  {
   "cell_type": "code",
   "execution_count": null,
   "metadata": {
    "execution": {
     "iopub.execute_input": "2024-05-22T11:38:40.099667Z",
     "iopub.status.busy": "2024-05-22T11:38:40.099411Z",
     "iopub.status.idle": "2024-05-22T11:38:46.307821Z",
     "shell.execute_reply": "2024-05-22T11:38:46.306864Z",
     "shell.execute_reply.started": "2024-05-22T11:38:40.099645Z"
    },
    "trusted": true
   },
   "outputs": [],
   "source": [
    "plt.figure(figsize=(4, 4))\n",
    "image = X_train[np.random.choice(range(X_train.shape[0]))]\n",
    "plt.imshow(image)\n",
    "plt.axis(\"off\")\n",
    "\n",
    "resized_image = ops.image.resize(\n",
    "    ops.convert_to_tensor([image]), size=(image_size, image_size)\n",
    ")\n",
    "patches = Patches(patch_size)(resized_image)\n",
    "print(f\"Image size: {image_size} X {image_size}\")\n",
    "print(f\"Patch size: {patch_size} X {patch_size}\")\n",
    "print(f\"Patches per image: {patches.shape[1]}\")\n",
    "print(f\"Elements per patch: {patches.shape[-1]}\")\n",
    "\n",
    "n = int(np.sqrt(patches.shape[1]))\n",
    "plt.figure(figsize=(4, 4))\n",
    "for i, patch in enumerate(patches[0]):\n",
    "    ax = plt.subplot(n, n, i + 1)\n",
    "    patch_img = ops.reshape(patch, (patch_size, patch_size, 3))\n",
    "    plt.imshow(ops.convert_to_numpy(patch_img))\n",
    "    plt.axis(\"off\")"
   ]
  },
  {
   "cell_type": "code",
   "execution_count": null,
   "metadata": {
    "execution": {
     "iopub.execute_input": "2024-05-22T11:38:46.309302Z",
     "iopub.status.busy": "2024-05-22T11:38:46.308999Z",
     "iopub.status.idle": "2024-05-22T11:38:46.319775Z",
     "shell.execute_reply": "2024-05-22T11:38:46.318986Z",
     "shell.execute_reply.started": "2024-05-22T11:38:46.309277Z"
    },
    "trusted": true
   },
   "outputs": [],
   "source": [
    "class PatchEncoder(layers.Layer):\n",
    "    def __init__(self, num_patches, projection_dim):\n",
    "        super().__init__()\n",
    "        self.num_patches = num_patches\n",
    "        self.projection = layers.Dense(units=projection_dim)\n",
    "        self.position_embedding = layers.Embedding(\n",
    "            input_dim=num_patches, output_dim=projection_dim\n",
    "        )\n",
    "\n",
    "    def call(self, patch):\n",
    "        positions = ops.expand_dims(\n",
    "            ops.arange(start=0, stop=self.num_patches, step=1), axis=0\n",
    "        )\n",
    "        projected_patches = self.projection(patch)\n",
    "        encoded = projected_patches + self.position_embedding(positions)\n",
    "        return encoded\n",
    "\n",
    "    def get_config(self):\n",
    "        config = super().get_config()\n",
    "        config.update({\"num_patches\": self.num_patches})\n",
    "        return config"
   ]
  },
  {
   "cell_type": "markdown",
   "metadata": {},
   "source": [
    "The function below constructs a Vision Transformer (ViT) classifier. While different parameters can modify specific aspects of the model, the overall architecture remains the same:  \n",
    "1. **Input layer**\n",
    "2. **Augmentation layer**\n",
    "3. **Patching layer**\n",
    "4. **Patch encoding layer**\n",
    "5. **Transform layer** (consisting of different transform layers)\n",
    "6. **MLP layers**\n",
    "7. **Output layer** using softmax activation function"
   ]
  },
  {
   "cell_type": "code",
   "execution_count": null,
   "metadata": {
    "execution": {
     "iopub.execute_input": "2024-05-22T11:38:46.321555Z",
     "iopub.status.busy": "2024-05-22T11:38:46.320936Z",
     "iopub.status.idle": "2024-05-22T11:38:46.33155Z",
     "shell.execute_reply": "2024-05-22T11:38:46.330755Z",
     "shell.execute_reply.started": "2024-05-22T11:38:46.321522Z"
    },
    "trusted": true
   },
   "outputs": [],
   "source": [
    "def create_vit_classifier():\n",
    "    inputs = keras.Input(shape=input_shape)\n",
    "    # Augment data.\n",
    "    augmented = data_augmentation(inputs)\n",
    "    # Create patches.\n",
    "    patches = Patches(patch_size)(augmented)\n",
    "    # Encode patches.\n",
    "    encoded_patches = PatchEncoder(num_patches, projection_dim)(patches)\n",
    "\n",
    "    # Create multiple layers of the Transformer block.\n",
    "    for _ in range(transformer_layers):\n",
    "        # Layer normalization 1.\n",
    "        x1 = layers.LayerNormalization(epsilon=1e-6)(encoded_patches)\n",
    "        # Create a multi-head attention layer.\n",
    "        attention_output = layers.MultiHeadAttention(\n",
    "            num_heads=num_heads, key_dim=projection_dim, dropout=0.1\n",
    "        )(x1, x1)\n",
    "        # Skip connection 1.\n",
    "        x2 = layers.Add()([attention_output, encoded_patches])\n",
    "        # Layer normalization 2.\n",
    "        x3 = layers.LayerNormalization(epsilon=1e-6)(x2)\n",
    "        # MLP.\n",
    "        x3 = mlp(x3, hidden_units=transformer_units, dropout_rate=0.1)\n",
    "        # Skip connection 2.\n",
    "        encoded_patches = layers.Add()([x3, x2])\n",
    "\n",
    "    # Create a [batch_size, projection_dim] tensor.\n",
    "    representation = layers.LayerNormalization(epsilon=1e-6)(encoded_patches)\n",
    "    representation = layers.Flatten()(representation)\n",
    "    representation = layers.Dropout(0.3)(representation)\n",
    "    # Add MLP.\n",
    "    features = mlp(representation, hidden_units=mlp_head_units, dropout_rate=0.5)\n",
    "    # Classify outputs.\n",
    "    logits = layers.Dense(num_classes, activation = 'softmax')(features)\n",
    "    # Create the Keras model.\n",
    "    model = keras.Model(inputs=inputs, outputs=logits)\n",
    "    return model"
   ]
  },
  {
   "cell_type": "code",
   "execution_count": null,
   "metadata": {
    "execution": {
     "iopub.execute_input": "2024-05-22T11:38:46.332955Z",
     "iopub.status.busy": "2024-05-22T11:38:46.332695Z",
     "iopub.status.idle": "2024-05-22T11:38:46.346858Z",
     "shell.execute_reply": "2024-05-22T11:38:46.346104Z",
     "shell.execute_reply.started": "2024-05-22T11:38:46.332928Z"
    },
    "trusted": true
   },
   "outputs": [],
   "source": [
    "def run_experiment(model):\n",
    "    optimizer = keras.optimizers.AdamW(\n",
    "        learning_rate=learning_rate, weight_decay=weight_decay\n",
    "    )\n",
    "\n",
    "    model.compile(\n",
    "        optimizer=optimizer, loss='binary_crossentropy', metrics=['categorical_accuracy']\n",
    "    )\n",
    "\n",
    "    checkpoint_filepath = \"/tmp/checkpoint.weights.h5\"\n",
    "    checkpoint_callback = keras.callbacks.ModelCheckpoint(\n",
    "        checkpoint_filepath,\n",
    "        monitor=\"val_accuracy\",\n",
    "        save_best_only=True,\n",
    "        save_weights_only=True,\n",
    "    )\n",
    "    \n",
    "    history = model.fit(\n",
    "        x=X_train,\n",
    "        y=y_train,\n",
    "        batch_size=batch_size,\n",
    "        epochs=num_epochs,\n",
    "        validation_split=0.1,\n",
    "        callbacks=[checkpoint_callback],\n",
    "    )\n",
    "\n",
    "    return history\n",
    "\n",
    "\n",
    "# vit_classifier = create_vit_classifier()\n",
    "# history = run_experiment(vit_classifier)\n",
    "\n",
    "\n",
    "def plot_history(item):\n",
    "    plt.plot(history.history[item], label=item)\n",
    "    plt.plot(history.history[\"val_\" + item], label=\"val_\" + item)\n",
    "    plt.xlabel(\"Epochs\")\n",
    "    plt.ylabel(item)\n",
    "    plt.title(\"Train and Validation {} Over Epochs\".format(item), fontsize=14)\n",
    "    plt.legend()\n",
    "    plt.grid()\n",
    "    plt.show()\n",
    "\n",
    "\n",
    "# plot_history(\"loss\")\n",
    "# plot_history(\"categorical_accuracy\")"
   ]
  },
  {
   "cell_type": "markdown",
   "metadata": {},
   "source": [
    "### **Evaluation of the ViT Model**  \n",
    "\n",
    "Examining the categorical accuracy, the training accuracy continues to increase, but validation accuracy shows little to no improvement. This suggests that the model is likely starting to overfit on the training data, limiting its ability to generalize effectively.  \n",
    "\n",
    "ViTs often struggle with small datasets. The state-of-the-art results reported in the paper *\"An Image is Worth 16x16 Words: Transformers for Image Recognition at Scale\"* were achieved by pre-training the ViT model on the JFT-300M dataset, followed by fine-tuning on the target dataset. Later in this notebook, a pre-trained ViT model will be explored.  \n",
    "\n",
    "Overall, the model trained from scratch appears to be underperforming. This is further evident in the test sample prediction below, where the image clearly depicts a bicycle, yet the model incorrectly predicts \"person.\"  \n"
   ]
  },
  {
   "attachments": {
    "992eae8f-d74d-4c7a-bc53-ca34c0ff9274.png": {
     "image/png": "[encoded data removed]"
    }
   },
   "cell_type": "markdown",
   "metadata": {},
   "source": [
    "![image.png](attachment:992eae8f-d74d-4c7a-bc53-ca34c0ff9274.png)"
   ]
  },
  {
   "cell_type": "markdown",
   "metadata": {},
   "source": [
    "#### Testing the model on a test sample"
   ]
  },
  {
   "cell_type": "markdown",
   "metadata": {
    "execution": {
     "iopub.execute_input": "2024-05-21T08:35:49.895128Z",
     "iopub.status.busy": "2024-05-21T08:35:49.894857Z",
     "iopub.status.idle": "2024-05-21T08:35:49.961487Z",
     "shell.execute_reply": "2024-05-21T08:35:49.960765Z",
     "shell.execute_reply.started": "2024-05-21T08:35:49.895105Z"
    }
   },
   "source": [
    "```python\n",
    "res = vit_classifier.predict(np.array([X_test[3]]))\n",
    "```"
   ]
  },
  {
   "cell_type": "markdown",
   "metadata": {},
   "source": [
    "```python\n",
    "plt.imshow(X_test[3])\n",
    "plt.axis(\"off\")\n",
    "plt.title('Trained model predicted : \"' + str(label_map[res[0].argmax()]) + '\" for the following test sample')\n",
    "```"
   ]
  },
  {
   "attachments": {
    "613e5cfa-8e0b-4f49-b2f9-e962d011a2e1.jpg": {
     "image/jpeg": "[encoded data removed]"
    }
   },
   "cell_type": "markdown",
   "metadata": {},
   "source": [
    "![Schermafbeelding 2024-05-21 103755.jpg](attachment:613e5cfa-8e0b-4f49-b2f9-e962d011a2e1.jpg)"
   ]
  },
  {
   "cell_type": "markdown",
   "metadata": {},
   "source": [
    "### **Conclusion**  \n",
    "\n",
    "Training a model from scratch is challenging, especially when the training dataset is relatively small. Both models trained from scratch exhibited overfitting, failing to generalize effectively to the task. Fine-tuning parameters led to only minor improvements in training accuracy.  \n",
    "\n",
    "The results clearly indicate that a pre-trained model is necessary to achieve more accurate predictions.  \n"
   ]
  },
  {
   "cell_type": "markdown",
   "metadata": {},
   "source": [
    "# 2.2 Pretrained model\n",
    "\n",
    "Training a model from scratch might not always be the best option, especially when there isn't a lot of training data. A solution to this problem is to use a pre-trained model. These models already had their weights trained on huge datasets and can be easily fine-tuned on our own dataset."
   ]
  },
  {
   "cell_type": "markdown",
   "metadata": {},
   "source": [
    "## 2.2.1 DETR\n",
    "\n",
    "DETR models use transformers to do end-to-end image detection. More specifically, they use an encoder-decoder transformer on top of a convolutional backbone. For the image detection, object queries are used. These models were first introduced in the paper \"End-to-End Object Detection with Transformers\" from N. Carion et al.\n",
    "\n",
    "This model has been shown to work well for the object detection task. The one used in the following example is developed by Facebook and can be found here: https://huggingface.co/facebook/detr-resnet-50.\n",
    "\n",
    "This model is trained on the COCO 2017 object detection dataset. Interestingly for this example, the output lables of this model contained all the labels for our dataset. Therefore, this model can be used for object detection in our data without the need to adapt or fine-tune the model. This model will explore the performance out of the box, later a fine-tuned model will also be highlighted.\n",
    "\n",
    "Examples like these highlight the power of these pre-trained models, given that you can find a similar dataset to your own, these models can be almost plug-and-play."
   ]
  },
  {
   "cell_type": "code",
   "execution_count": null,
   "metadata": {
    "execution": {
     "iopub.execute_input": "2024-05-22T11:38:46.348493Z",
     "iopub.status.busy": "2024-05-22T11:38:46.348177Z",
     "iopub.status.idle": "2024-05-22T11:40:23.846237Z",
     "shell.execute_reply": "2024-05-22T11:40:23.844966Z",
     "shell.execute_reply.started": "2024-05-22T11:38:46.34847Z"
    },
    "trusted": true
   },
   "outputs": [],
   "source": [
    "from transformers import DetrImageProcessor, DetrForObjectDetection\n",
    "import torch\n",
    "from PIL import Image\n",
    "import requests\n",
    "from time import time\n",
    "import pandas as pd\n",
    "import numpy as np\n",
    "\n",
    "# A function to get and run the detr model on a given dataframe\n",
    "def run_pre_trained_detr_model(input_df):\n",
    "    # Initialize the pre-trained model and processor\n",
    "    processor = DetrImageProcessor.from_pretrained(\"facebook/detr-resnet-50\", revision=\"no_timm\")\n",
    "    model = DetrForObjectDetection.from_pretrained(\"facebook/detr-resnet-50\", revision=\"no_timm\")\n",
    "\n",
    "    # Add GPU support to speed up computations\n",
    "    device = torch.device('cuda:1' if torch.cuda.is_available() else 'cpu')\n",
    "    model = model.to(device)\n",
    "\n",
    "    one_hot_lst = []\n",
    "    start = time()\n",
    "\n",
    "    # Iteratively give the images to the model and get the predictions\n",
    "    torch.cuda.empty_cache()\n",
    "    for i in range(len(input_df)):\n",
    "        # Extract and convert the np_array from the test_df to an image\n",
    "        image = Image.fromarray(input_df[\"img\"][i])\n",
    "        # Feed the image to the model and predict the classes\n",
    "        inputs = processor(images=image, return_tensors=\"pt\").to(device)\n",
    "        outputs = model(**inputs)\n",
    "        target_sizes = torch.tensor([image.size[::-1]])\n",
    "        # Threshold the prediction to 0.9, we only want classes with high confidence\n",
    "        results = processor.post_process_object_detection(outputs, \n",
    "                                                          target_sizes=target_sizes, \n",
    "                                                          threshold=0.9)[0]\n",
    "\n",
    "        one_hot_row = pd.Series(np.zeros(len(labels)), index=labels)\n",
    "\n",
    "        # get the lable from the prediction\n",
    "        for score, label, box in zip(results[\"scores\"], results[\"labels\"], results[\"boxes\"]):\n",
    "            detected_label = model.config.id2label[label.item()]\n",
    "\n",
    "            # Some of the lables had different names\n",
    "            if detected_label == \"airplane\":\n",
    "                detected_label = \"aeroplane\"\n",
    "            if detected_label == \"dining table\":\n",
    "                detected_label = \"diningtable\"\n",
    "            if detected_label == \"motorcycle\":\n",
    "                detected_label = \"motorbike\"\n",
    "            if detected_label == \"potted plant\":\n",
    "                detected_label = \"pottedplant\"\n",
    "            if detected_label == \"couch\":\n",
    "                detected_label = \"sofa\"\n",
    "            if detected_label == \"tv\":\n",
    "                detected_label = \"tvmonitor\"\n",
    "\n",
    "            if detected_label in labels:\n",
    "                one_hot_row[detected_label] = 1\n",
    "\n",
    "        # Append the one-hot encoded row to the dataframe\n",
    "        #print(one_hot_row)\n",
    "        one_hot_lst.append(one_hot_row)\n",
    "    end = time()\n",
    "    print(f'took: {(end - start)/60} minutes')\n",
    "    return one_hot_lst\n",
    "\n",
    "torch.cuda.empty_cache()\n",
    "\n",
    "# Get the predictions from the detr model and convert it to a DataFrame\n",
    "detr_predict = run_pre_trained_detr_model(test_df)\n",
    "detr_predict_df = pd.DataFrame(detr_predict, columns=labels)\n",
    "detr_predict_df['img'] = test_df['img']\n",
    "#print(one_hot_df)\n"
   ]
  },
  {
   "cell_type": "markdown",
   "metadata": {},
   "source": [
    "The previous code block demonstrates how to classify images from `train_df` and create a new dataframe, **detr_predict_df**, containing the predicted labels.  \n",
    "\n",
    "Since the training data is not used to build the model, it provides an ideal dataset with labeled images to evaluate the model's performance. The following code block calculates the percentage of matching labels between the predictions and the original training data.  \n"
   ]
  },
  {
   "cell_type": "code",
   "execution_count": null,
   "metadata": {
    "execution": {
     "iopub.execute_input": "2024-05-22T11:40:23.848103Z",
     "iopub.status.busy": "2024-05-22T11:40:23.847738Z",
     "iopub.status.idle": "2024-05-22T11:41:55.271575Z",
     "shell.execute_reply": "2024-05-22T11:41:55.270559Z",
     "shell.execute_reply.started": "2024-05-22T11:40:23.848076Z"
    },
    "trusted": true
   },
   "outputs": [],
   "source": [
    "#As the model wasn't trained on the same data, labled training data could be used to validate the performance\n",
    "detr_predict_train = run_pre_trained_detr_model(train_df)\n",
    "detr_predict_df_train = pd.DataFrame(detr_predict_train, columns=labels)\n",
    "subset_train_df = train_df.iloc[:749, :20]\n",
    "\n",
    "# Compare the DataFrames\n",
    "comparison_df = detr_predict_df_train.eq(subset_train_df)\n",
    "# Calculate the percentage of matching labels\n",
    "percentage_matching = (comparison_df.sum().sum() / comparison_df.size) * 100\n",
    "\n",
    "print(f\"The percentage of matching labels is {percentage_matching}%\")\n"
   ]
  },
  {
   "cell_type": "markdown",
   "metadata": {},
   "source": [
    "```python\n",
    "```\n",
    "took: 1.515708065032959 minutes\n",
    "\n",
    "The percentage of matching labels is 98.36448598130842%"
   ]
  },
  {
   "cell_type": "markdown",
   "metadata": {},
   "source": [
    "#### Testing the model on a test sample"
   ]
  },
  {
   "cell_type": "markdown",
   "metadata": {
    "execution": {
     "iopub.execute_input": "2024-05-19T21:18:01.797312Z",
     "iopub.status.busy": "2024-05-19T21:18:01.79685Z",
     "iopub.status.idle": "2024-05-19T21:18:02.107873Z",
     "shell.execute_reply": "2024-05-19T21:18:02.106984Z",
     "shell.execute_reply.started": "2024-05-19T21:18:01.797275Z"
    }
   },
   "source": [
    "```python\n",
    "plt.imshow(X_test[3])\n",
    "plt.axis(\"off\")\n",
    "plt.title('Trained model predicted : \"' + str(label_map[detr_predict[3].argmax()]) + '\" for the following test sample')\n",
    "```"
   ]
  },
  {
   "attachments": {
    "5f86b154-3846-4742-8558-06d23fa56d71.png": {
     "image/png": "[encoded data removed]"
    }
   },
   "cell_type": "markdown",
   "metadata": {},
   "source": [
    "![Screenshot 2024-05-19 230735.png](attachment:5f86b154-3846-4742-8558-06d23fa56d71.png)"
   ]
  },
  {
   "cell_type": "markdown",
   "metadata": {},
   "source": [
    "### Prediction performance summary\n",
    "\n",
    "The bar chart below demonstrates the model's impressive accuracy on the training data, correctly classifying most image classes. Although there are instances where the model fails to detect an object, as indicated by the red bars, these errors are relatively infrequent compared to its successful detections. Additionally, the chart shows that the model occasionally identifies too many objects in an image, detecting objects that are not actually present."
   ]
  },
  {
   "cell_type": "code",
   "execution_count": null,
   "metadata": {
    "execution": {
     "iopub.execute_input": "2024-05-22T11:41:55.273131Z",
     "iopub.status.busy": "2024-05-22T11:41:55.272826Z",
     "iopub.status.idle": "2024-05-22T11:41:55.298719Z",
     "shell.execute_reply": "2024-05-22T11:41:55.297855Z",
     "shell.execute_reply.started": "2024-05-22T11:41:55.273106Z"
    },
    "trusted": true
   },
   "outputs": [],
   "source": [
    "preds = []\n",
    "for pred_instace in detr_predict_train:\n",
    "    pred_classes = []\n",
    "    for col_index, col_value in enumerate(pred_instace):\n",
    "        if col_value == 1:\n",
    "            pred_classes.append(col_index)\n",
    "    preds.append(pred_classes)\n",
    "\n",
    "y_true = []\n",
    "for outcome in y_train:\n",
    "    classes = []\n",
    "    for col_index, col_value in enumerate(outcome):\n",
    "        if col_value == 1:\n",
    "            classes.append(col_index)\n",
    "    y_true.append(classes)\n",
    "    \n",
    "flat_preds = []\n",
    "flat_true = []\n",
    "all_missed = []\n",
    "all_to_much = []\n",
    "# classes_pred and classes_true are sorted\n",
    "for classes_pred, classes_true in zip(preds, y_true):\n",
    "        # Convert lists to sets for set operations\n",
    "        set_search = set(classes_true)\n",
    "        set_found = set(classes_pred)\n",
    "\n",
    "        # Elements in array_search but not in array_found\n",
    "        missed = list(set_search - set_found)\n",
    "\n",
    "        # Elements in array_found but not in array_search\n",
    "        to_much = list(set_found - set_search)\n",
    "\n",
    "        # Elements in both array_search and array_found\n",
    "        overlapping = list(set_search & set_found)\n",
    "\n",
    "        # Print results\n",
    "        all_missed = all_missed + missed\n",
    "        all_to_much = all_to_much + to_much\n",
    "        for i in overlapping:\n",
    "            flat_preds.append(i)\n",
    "            flat_true.append(i)\n"
   ]
  },
  {
   "cell_type": "code",
   "execution_count": null,
   "metadata": {
    "execution": {
     "iopub.execute_input": "2024-05-22T11:41:55.300315Z",
     "iopub.status.busy": "2024-05-22T11:41:55.299955Z",
     "iopub.status.idle": "2024-05-22T11:41:55.316912Z",
     "shell.execute_reply": "2024-05-22T11:41:55.316255Z",
     "shell.execute_reply.started": "2024-05-22T11:41:55.30029Z"
    },
    "trusted": true
   },
   "outputs": [],
   "source": [
    "from collections import Counter\n",
    "\n",
    "def count_occurrences(array):\n",
    "    return dict(Counter(array))\n",
    "\n",
    "def to_class_name(array):\n",
    "    class_names = []\n",
    "    for name_indx in array:\n",
    "        class_names.append(label_map[name_indx])\n",
    "    return class_names\n",
    "\n",
    "def match_keys(map1, map2):\n",
    "    for key in map1:\n",
    "        if key not in map2:\n",
    "            map2[key] = 0\n",
    "    return map2"
   ]
  },
  {
   "cell_type": "code",
   "execution_count": null,
   "metadata": {
    "execution": {
     "iopub.execute_input": "2024-05-22T11:41:55.318725Z",
     "iopub.status.busy": "2024-05-22T11:41:55.318136Z",
     "iopub.status.idle": "2024-05-22T11:41:55.332549Z",
     "shell.execute_reply": "2024-05-22T11:41:55.331689Z",
     "shell.execute_reply.started": "2024-05-22T11:41:55.31869Z"
    },
    "trusted": true
   },
   "outputs": [],
   "source": [
    "occurrences_correct = count_occurrences(to_class_name(flat_preds))\n",
    "\n",
    "occurrences_missed = match_keys(occurrences_correct, count_occurrences(to_class_name(all_missed)))\n",
    "\n",
    "occurrences_to_much = match_keys(occurrences_correct, count_occurrences(to_class_name(all_to_much)))\n",
    "\n",
    "print(\"Amount of correctly detected objects\")\n",
    "print(occurrences_correct)\n",
    "print()\n",
    "print(\"True labels that were not predicted\")\n",
    "print(occurrences_missed)\n",
    "print()\n",
    "print(\"Predicted classes that are not in images \")\n",
    "print(occurrences_to_much)"
   ]
  },
  {
   "cell_type": "code",
   "execution_count": null,
   "metadata": {
    "execution": {
     "iopub.execute_input": "2024-05-22T11:41:55.341756Z",
     "iopub.status.busy": "2024-05-22T11:41:55.341464Z",
     "iopub.status.idle": "2024-05-22T11:41:55.834638Z",
     "shell.execute_reply": "2024-05-22T11:41:55.833747Z",
     "shell.execute_reply.started": "2024-05-22T11:41:55.341733Z"
    },
    "trusted": true
   },
   "outputs": [],
   "source": [
    "# importing package\n",
    "import matplotlib.pyplot as plt\n",
    "\n",
    "\n",
    "sorted_correct = dict(sorted(occurrences_correct.items(),key=lambda x:x[0]))\n",
    "sorted_missed = dict(sorted(occurrences_missed.items(),key=lambda x:x[0]))\n",
    "sorted_to_much = dict(sorted(occurrences_to_much.items(),key=lambda x:x[0]))\n",
    "\n",
    "\n",
    "# create data\n",
    "x = list(sorted_correct.keys())\n",
    "correct = np.array(list(sorted_correct.values()))\n",
    "missed = np.array(list(sorted_missed.values()))\n",
    "to_much = np.array(list(sorted_to_much.values()))\n",
    " \n",
    "fig, ax = plt.subplots()\n",
    "\n",
    "# plot bars in stack manner\n",
    "ax.bar(x, correct, color='g')\n",
    "ax.bar(x, missed, bottom=correct, color='r')\n",
    "ax.bar(x, to_much, bottom=correct + missed, color='b')\n",
    "\n",
    "ax.set_xlabel('Classes')\n",
    "ax.set_ylabel('Amount')\n",
    "ax.set_title('Performance chart')\n",
    "ax.tick_params(axis='x', rotation=75)\n",
    "\n",
    "colors = {'Correct':'green', 'Missed':'red', 'To much' : 'blue'}         \n",
    "labels = list(colors.keys())\n",
    "handles = [plt.Rectangle((0,0),1,1, color=colors[label]) for label in labels]\n",
    "ax.legend(handles, labels)\n",
    "\n",
    "plt.show()"
   ]
  },
  {
   "cell_type": "markdown",
   "metadata": {},
   "source": [
    "## **2.2.2 Vision Transformer (ViT)**  \n",
    "\n",
    "The pre-trained model used in this section is a Vision Transformer (ViT), as previously discussed. Instead of building a model from scratch, this ViT model has already been pre-trained on the ImageNet-21k dataset (14 million images, 21,843 classes) at a resolution of 224×224 and further fine-tuned on ImageNet 2012 (1 million images, 1,000 classes) at the same resolution. The model is available at: [Hugging Face - ViT Base Patch16 224](https://huggingface.co/google/vit-base-patch16-224).  \n",
    "\n",
    "Unlike the previous pre-trained model, this one will be fine-tuned on the dataset. The final layer will be modified to predict only the required labels, making it a more practical approach when a pre-trained model cannot predict all target labels or when sufficient data is available for fine-tuning.  \n"
   ]
  },
  {
   "cell_type": "markdown",
   "metadata": {
    "execution": {
     "iopub.execute_input": "2024-05-21T13:54:26.360462Z",
     "iopub.status.busy": "2024-05-21T13:54:26.359499Z",
     "iopub.status.idle": "2024-05-21T13:54:26.90026Z",
     "shell.execute_reply": "2024-05-21T13:54:26.898949Z",
     "shell.execute_reply.started": "2024-05-21T13:54:26.36042Z"
    }
   },
   "source": [
    "```python\n",
    "from transformers import ViTFeatureExtractor\n",
    "\n",
    "# Load the model and initialize the processor\n",
    "# The processor will be used to prepare the data for the model\n",
    "model_id = \"google/vit-base-patch16-224\"\n",
    "processor = ViTImageProcessor.from_pretrained('google/vit-base-patch16-224')\n",
    "```"
   ]
  },
  {
   "cell_type": "markdown",
   "metadata": {
    "execution": {
     "iopub.execute_input": "2024-05-21T13:54:39.397862Z",
     "iopub.status.busy": "2024-05-21T13:54:39.397426Z",
     "iopub.status.idle": "2024-05-21T13:54:39.866903Z",
     "shell.execute_reply": "2024-05-21T13:54:39.86589Z",
     "shell.execute_reply.started": "2024-05-21T13:54:39.397827Z"
    }
   },
   "source": [
    "```python\n",
    "from datasets import Dataset\n",
    "\n",
    "# Helper function to process the data for the pre-trained model\n",
    "def process(batch):\n",
    "    # Take a list of images and turn them into pixel values\n",
    "    inputs = processor([x for x in batch['img']], return_tensors='pt')\n",
    "    \n",
    "    # Add the tables\n",
    "    inputs['labels'] = batch[labels]\n",
    "    return inputs\n",
    "```"
   ]
  },
  {
   "cell_type": "markdown",
   "metadata": {
    "execution": {
     "iopub.execute_input": "2024-05-21T13:54:50.52978Z",
     "iopub.status.busy": "2024-05-21T13:54:50.528857Z",
     "iopub.status.idle": "2024-05-21T13:54:50.535942Z",
     "shell.execute_reply": "2024-05-21T13:54:50.534705Z",
     "shell.execute_reply.started": "2024-05-21T13:54:50.52974Z"
    }
   },
   "source": [
    "```python\n",
    "from huggingface_hub import HfFolder\n",
    "import tensorflow as tf\n",
    "\n",
    "train_batch_size = 32\n",
    "val_batch_size = 32\n",
    "```"
   ]
  },
  {
   "cell_type": "markdown",
   "metadata": {
    "execution": {
     "iopub.execute_input": "2024-05-21T13:55:02.267562Z",
     "iopub.status.busy": "2024-05-21T13:55:02.267137Z",
     "iopub.status.idle": "2024-05-21T13:55:07.878548Z",
     "shell.execute_reply": "2024-05-21T13:55:07.877354Z",
     "shell.execute_reply.started": "2024-05-21T13:55:02.267528Z"
    }
   },
   "source": [
    "```python\n",
    "# Add augmented data, this is a good way to make the model more robust\n",
    "augmented_df = generate_augmented_data(train_df)\n",
    "```"
   ]
  },
  {
   "cell_type": "markdown",
   "metadata": {},
   "source": [
    "Construct a dataset with a validation split for testing the performance of the pre-trained model. A validation set will reduce the overall training data, but gives us important insight to the performance while the model is training. This can be used to fine tune hyper parameters."
   ]
  },
  {
   "cell_type": "markdown",
   "metadata": {
    "execution": {
     "iopub.execute_input": "2024-05-21T13:55:18.738597Z",
     "iopub.status.busy": "2024-05-21T13:55:18.738152Z",
     "iopub.status.idle": "2024-05-21T13:55:26.46165Z",
     "shell.execute_reply": "2024-05-21T13:55:26.460707Z",
     "shell.execute_reply.started": "2024-05-21T13:55:18.738562Z"
    }
   },
   "source": [
    "```python\n",
    "from transformers import DefaultDataCollator\n",
    "from sklearn.model_selection import train_test_split\n",
    "\n",
    "# Process the dataframes\n",
    "processed_df_train = process(augmented_df)\n",
    "\n",
    "# Convert the processed data to tensors\n",
    "pixel_values_train = tf.convert_to_tensor(processed_df_train['pixel_values'])\n",
    "labels_train = tf.convert_to_tensor(processed_df_train['labels'])\n",
    "\n",
    "# Convert the tensors back to numpy arrays for the split\n",
    "pixel_values_np = pixel_values_train.numpy()\n",
    "labels_np = labels_train.numpy()\n",
    "\n",
    "# Split the data into training and validation splits\n",
    "pixel_values_train_np, pixel_values_val_np, labels_train_np, labels_val_np = train_test_split(pixel_values_np, \n",
    "                                                                                              labels_np, \n",
    "                                                                                              test_size=0.1, \n",
    "                                                                                              random_state=60)\n",
    "# Convert the numpy arrays back to tensors\n",
    "pixel_values_train = tf.convert_to_tensor(pixel_values_train_np)\n",
    "pixel_values_val = tf.convert_to_tensor(pixel_values_val_np)\n",
    "labels_train = tf.convert_to_tensor(labels_train_np)\n",
    "labels_val = tf.convert_to_tensor(labels_val_np)\n",
    "\n",
    "# Create tf.data.Datasets\n",
    "tf_train_dataset_val = tf.data.Dataset.from_tensor_slices((pixel_values_train, labels_train))\n",
    "tf_val_dataset = tf.data.Dataset.from_tensor_slices((pixel_values_val, labels_val))\n",
    "\n",
    "# Shuffle and batch the datasets\n",
    "tf_train_dataset_val = tf_train_dataset_val.shuffle(1000).batch(train_batch_size)\n",
    "tf_val_dataset = tf_val_dataset.batch(val_batch_size)\n",
    "```"
   ]
  },
  {
   "cell_type": "markdown",
   "metadata": {},
   "source": [
    "Construct a dataset without validation in order to get the most training data."
   ]
  },
  {
   "cell_type": "markdown",
   "metadata": {
    "execution": {
     "iopub.execute_input": "2024-05-21T13:55:31.126895Z",
     "iopub.status.busy": "2024-05-21T13:55:31.126353Z",
     "iopub.status.idle": "2024-05-21T13:55:36.031478Z",
     "shell.execute_reply": "2024-05-21T13:55:36.030465Z",
     "shell.execute_reply.started": "2024-05-21T13:55:31.126859Z"
    }
   },
   "source": [
    "```python\n",
    "from transformers import DefaultDataCollator\n",
    "\n",
    "# Data collator that will dynamically pad the inputs received, as well as the labels.\n",
    "#data_collator = DefaultDataCollator(return_tensors=\"tf\")\n",
    "\n",
    "# Process the dataframes\n",
    "processed_df_train = process(augmented_df) #process(train_df)\n",
    "\n",
    "# Convert the processed data to tensors\n",
    "pixel_values_train = tf.convert_to_tensor(processed_df_train['pixel_values'])\n",
    "labels_train = tf.convert_to_tensor(processed_df_train['labels'])\n",
    "\n",
    "# Create tf.data.Datasets\n",
    "tf_train_dataset = tf.data.Dataset.from_tensor_slices((pixel_values_train, labels_train))\n",
    "\n",
    "# Shuffle and batch the datasets\n",
    "tf_train_dataset = tf_train_dataset.shuffle(75).batch(train_batch_size)\n",
    "```"
   ]
  },
  {
   "cell_type": "markdown",
   "metadata": {},
   "source": [
    "In pre-trained models, all layers already have initialized weights. Generally, these weights are not modified during fine-tuning. Instead, new layers are added on top of the pre-trained model to adapt it to the specific task. In the following example, three additional layers are introduced:  \n",
    "\n",
    "- **Fully connected dense layer** with ReLU activation. The output size (128) is a tunable hyperparameter. This layer introduces non-linearity and helps capture complex patterns.  \n",
    "- **Dropout layer** with a rate of 0.1. Dropout is used to reduce overfitting, and due to the limited training data, a lower dropout rate was chosen.  \n",
    "- **Dense output layer** with softmax activation. This layer serves as the model’s new prediction layer. The output size (20) corresponds to the number of labels being classified, and the softmax function enables multi-class labeling.  \n",
    "\n",
    "Since only these newly added layers will be trained, a small number of epochs is sufficient.  \n"
   ]
  },
  {
   "cell_type": "markdown",
   "metadata": {
    "execution": {
     "iopub.execute_input": "2024-05-21T13:55:41.859013Z",
     "iopub.status.busy": "2024-05-21T13:55:41.858219Z",
     "iopub.status.idle": "2024-05-21T13:55:42.490095Z",
     "shell.execute_reply": "2024-05-21T13:55:42.488745Z",
     "shell.execute_reply.started": "2024-05-21T13:55:41.858973Z"
    }
   },
   "source": [
    "```python\n",
    "from transformers import TFViTForImageClassification, TFViTModel\n",
    "import tensorflow as tf\n",
    "\n",
    "eval_batch_size = 32\n",
    "num_train_epochs = 3\n",
    "\n",
    "# Construct the fine-tuned pre-trained model\n",
    "def build_pre_trained_vit_model():\n",
    "    # Load a pre-trained vit model \n",
    "    config = ViTConfig.from_pretrained('google/vit-base-patch16-224')\n",
    "    base_model = TFViTModel.from_pretrained('google/vit-base-patch16-224', config=config)\n",
    "    # Make the layers of the pre-trained model not trainable\n",
    "    base_model.trainable = False\n",
    "\n",
    "    # inputs\n",
    "    pixel_values = tf.keras.layers.Input(shape=(3,224,224), name='pixel_values', dtype='float32')\n",
    "    \n",
    "    vit_outputs = base_model(pixel_values)\n",
    "    vit = vit_outputs.last_hidden_state\n",
    "    \n",
    "    # Add layers on top of pre-trained model to fine tune for our dataset\n",
    "    classifier = tf.keras.layers.Dense(128, activation='relu')(vit[:, 0, :])\n",
    "    classifier = tf.keras.layers.Dropout(0.1)(classifier)\n",
    "    classifier = tf.keras.layers.Dense(20, activation='softmax')(classifier)\n",
    "    \n",
    "    keras_model = tf.keras.Model(inputs=pixel_values, outputs=classifier)\n",
    "\n",
    "    # Add some metrics to see how the model improves each epoch\n",
    "    metrics=[\n",
    "        tf.keras.metrics.CategoricalAccuracy(name=\"accuracy\"),\n",
    "        tf.keras.metrics.Precision(name='precision'),\n",
    "        tf.keras.metrics.Recall(name='recall'),\n",
    "    ]\n",
    "    \n",
    "    # Compile the new model\n",
    "    keras_model.compile(optimizer=\"adam\",\n",
    "                  loss='categorical_crossentropy',\n",
    "                  metrics=metrics\n",
    "                  )\n",
    "    return keras_model\n",
    "```"
   ]
  },
  {
   "cell_type": "markdown",
   "metadata": {},
   "source": [
    "The validation dataset provides a way to assess the model's performance. The accuracy showed a steady increase while the loss decreased, indicating that the model was improving. After four epochs, validation accuracy peaked at 70%, but then it began to decline.  \n"
   ]
  },
  {
   "cell_type": "markdown",
   "metadata": {
    "execution": {
     "iopub.execute_input": "2024-05-21T13:55:55.463849Z",
     "iopub.status.busy": "2024-05-21T13:55:55.463372Z",
     "iopub.status.idle": "2024-05-21T14:25:22.583765Z",
     "shell.execute_reply": "2024-05-21T14:25:22.58261Z",
     "shell.execute_reply.started": "2024-05-21T13:55:55.463814Z"
    }
   },
   "source": [
    "```python\n",
    "# Fine-tune the added layers on our data\n",
    "pre_trained_vit_model = build_pre_trained_vit_model()\n",
    "train_results = pre_trained_vit_model.fit(\n",
    "    tf_train_dataset_val,\n",
    "    validation_data=tf_val_dataset, \n",
    "    #callbacks=callbacks,\n",
    "    epochs=num_train_epochs,\n",
    ")\n",
    "```"
   ]
  },
  {
   "cell_type": "markdown",
   "metadata": {},
   "source": [
    "The predictions are thresholded by taking the most confident label and taking this times 0.5. This was done to deal with the model occasionally not being very confident in any prediction, or some label being way more confident than others. The value 0.5 was experimentally found."
   ]
  },
  {
   "cell_type": "markdown",
   "metadata": {
    "execution": {
     "iopub.execute_input": "2024-05-21T15:12:19.92654Z",
     "iopub.status.busy": "2024-05-21T15:12:19.926209Z",
     "iopub.status.idle": "2024-05-21T15:17:11.170046Z",
     "shell.execute_reply": "2024-05-21T15:17:11.168938Z",
     "shell.execute_reply.started": "2024-05-21T15:12:19.926512Z"
    }
   },
   "source": [
    "```python\n",
    "# Get the predictions for the test dataframe.\n",
    "\n",
    "processed_df_test = process(test_df)\n",
    "\n",
    "pixel_values_test = tf.convert_to_tensor(processed_df_test['pixel_values'])\n",
    "\n",
    "test_pixel_values = pixel_values_test\n",
    "\n",
    "# Get the model predictions\n",
    "predictions = pre_trained_vit_model.predict(test_pixel_values)\n",
    "\n",
    "\n",
    "# maximum prediction value for each image\n",
    "max_predictions = predictions.max(axis=1)\n",
    "max_predictions = max_predictions.reshape(-1, 1)\n",
    "\n",
    "# thershold based off most confident prediction in that image\n",
    "predictions_threshold = (predictions > max_predictions * 0.5).astype(int)\n",
    "\n",
    "predictions_df = pd.DataFrame(predictions_threshold, columns=labels)\n",
    "\n",
    "# add image to the prediction\n",
    "predictions_df['img'] = test_df['img']\n",
    "```"
   ]
  },
  {
   "cell_type": "markdown",
   "metadata": {},
   "source": [
    "#### Testing the model on a test sample"
   ]
  },
  {
   "cell_type": "markdown",
   "metadata": {
    "execution": {
     "iopub.execute_input": "2024-05-19T19:31:41.700609Z",
     "iopub.status.busy": "2024-05-19T19:31:41.700289Z",
     "iopub.status.idle": "2024-05-19T19:31:42.004273Z",
     "shell.execute_reply": "2024-05-19T19:31:42.00336Z",
     "shell.execute_reply.started": "2024-05-19T19:31:41.700584Z"
    }
   },
   "source": [
    "```python\n",
    "plt.imshow(X_test[3])\n",
    "plt.axis(\"off\")\n",
    "plt.title('Trained model predicted : \"' + str(label_map[predictions_threshold[3].argmax()]) + '\" for the following test sample')\n",
    "```"
   ]
  },
  {
   "attachments": {
    "fce3d262-3f96-42bd-9036-fc2bc255aecb.png": {
     "image/png": "[encoded data removed]"
    }
   },
   "cell_type": "markdown",
   "metadata": {
    "execution": {
     "iopub.execute_input": "2024-05-19T21:03:32.674304Z",
     "iopub.status.busy": "2024-05-19T21:03:32.6739Z",
     "iopub.status.idle": "2024-05-19T21:03:33.696697Z",
     "shell.execute_reply": "2024-05-19T21:03:33.695542Z",
     "shell.execute_reply.started": "2024-05-19T21:03:32.67427Z"
    }
   },
   "source": [
    "![Screenshot 2024-05-19 230735.png](attachment:fce3d262-3f96-42bd-9036-fc2bc255aecb.png)"
   ]
  },
  {
   "cell_type": "markdown",
   "metadata": {},
   "source": [
    "### **Prediction Performance Summary**  \n",
    "\n",
    "The bar chart below illustrates the model's performance on the training data. While the model demonstrates a reasonable ability to detect objects in images, it struggles to identify all objects compared to the previous pre-trained model, resulting in a significant number of missed detections.  \n",
    "\n",
    "On the positive side, the model effectively minimizes false detections, keeping the number of incorrectly classified objects relatively low.  \n",
    "\n",
    "Since the model was trained on this data, its performance may not fully generalize to the test dataset.  \n"
   ]
  },
  {
   "cell_type": "markdown",
   "metadata": {
    "execution": {
     "iopub.execute_input": "2024-05-21T15:18:25.906958Z",
     "iopub.status.busy": "2024-05-21T15:18:25.906086Z",
     "iopub.status.idle": "2024-05-21T15:23:06.965185Z",
     "shell.execute_reply": "2024-05-21T15:23:06.963975Z",
     "shell.execute_reply.started": "2024-05-21T15:18:25.906917Z"
    }
   },
   "source": [
    "```pyhton\n",
    "processed_df_train = process(train_df)\n",
    "\n",
    "# Convert the processed data to tensors\n",
    "pixel_values_train = tf.convert_to_tensor(processed_df_train['pixel_values'])\n",
    "\n",
    "predictions = pre_trained_vit_model.predict(pixel_values_train)\n",
    "\n",
    "# maximum prediction value for each image\n",
    "max_predictions = predictions.max(axis=1)\n",
    "max_predictions = max_predictions.reshape(-1, 1)\n",
    "\n",
    "# thershold based off most confident prediction in that image\n",
    "predictions_threshold = (predictions > max_predictions * 0.5).astype(int)\n",
    "\n",
    "predictions_df = pd.DataFrame(predictions_threshold, columns=labels)\n",
    "```"
   ]
  },
  {
   "cell_type": "markdown",
   "metadata": {
    "execution": {
     "iopub.execute_input": "2024-05-21T15:31:03.632054Z",
     "iopub.status.busy": "2024-05-21T15:31:03.631609Z",
     "iopub.status.idle": "2024-05-21T15:31:03.701219Z",
     "shell.execute_reply": "2024-05-21T15:31:03.69996Z",
     "shell.execute_reply.started": "2024-05-21T15:31:03.632021Z"
    }
   },
   "source": [
    "```python\n",
    "preds = []\n",
    "for pred_instace in predictions_df.iterrows():\n",
    "    pred_classes = []\n",
    "    for col_index, col_value in enumerate(pred_instace[1]):\n",
    "        if col_value == 1:\n",
    "            pred_classes.append(col_index)\n",
    "    preds.append(pred_classes)\n",
    "\n",
    "y_true = []\n",
    "for outcome in y_train:\n",
    "    classes = []\n",
    "    for col_index, col_value in enumerate(outcome):\n",
    "        if col_value == 1:\n",
    "            classes.append(col_index)\n",
    "    y_true.append(classes)\n",
    "    \n",
    "flat_preds = []\n",
    "flat_true = []\n",
    "all_missed = []\n",
    "all_to_much = []\n",
    "# classes_pred and classes_true are sorted\n",
    "for classes_pred, classes_true in zip(preds, y_true):\n",
    "        # Convert lists to sets for set operations\n",
    "        set_search = set(classes_true)\n",
    "        set_found = set(classes_pred)\n",
    "\n",
    "        # Elements in array_search but not in array_found\n",
    "        missed = list(set_search - set_found)\n",
    "\n",
    "        # Elements in array_found but not in array_search\n",
    "        to_much = list(set_found - set_search)\n",
    "\n",
    "        # Elements in both array_search and array_found\n",
    "        overlapping = list(set_search & set_found)\n",
    "\n",
    "        # Print results\n",
    "        all_missed = all_missed + missed\n",
    "        all_to_much = all_to_much + to_much\n",
    "        for i in overlapping:\n",
    "            flat_preds.append(i)\n",
    "            flat_true.append(i)\n",
    "```"
   ]
  },
  {
   "cell_type": "markdown",
   "metadata": {},
   "source": [
    "```python\n",
    "occurrences_correct = count_occurrences(to_class_name(flat_preds))\n",
    "\n",
    "occurrences_missed = match_keys(occurrences_correct, count_occurrences(to_class_name(all_missed)))\n",
    "\n",
    "occurrences_to_much = match_keys(occurrences_correct, count_occurrences(to_class_name(all_to_much)))\n",
    "\n",
    "print(\"Amount of correctly detected objects\")\n",
    "print(occurrences_correct)\n",
    "print()\n",
    "print(\"True labels that were not predicted\")\n",
    "print(occurrences_missed)\n",
    "print()\n",
    "print(\"Predicted classes that are not in images \")\n",
    "print(occurrences_to_much)\n",
    "```"
   ]
  },
  {
   "cell_type": "markdown",
   "metadata": {},
   "source": [
    "> Amount of correctly detected objects\n",
    "> {'cow': 28, 'bottle': 26, 'cat': 42, 'motorbike': 39, 'person': 108, 'horse': 35, 'train': 40, 'pottedplant': 19, 'aeroplane': 46, 'tvmonitor': 35, 'bicycle': 26, 'car': 36, 'boat': 46, 'chair': 20, 'bird': 51, 'bus': 34, 'sofa': 35, 'sheep': 26, 'dog': 32, 'diningtable': 32}\n",
    "> \n",
    "> True labels that were not predicted\n",
    "> {'person': 99, 'chair': 49, 'tvmonitor': 16, 'motorbike': 8, 'sofa': 9, 'bottle': 16, 'bus': 4, 'car': 27, 'pottedplant': 24, 'bird': 4, 'dog': 11, 'bicycle': 13, 'diningtable': 16, 'boat': 2, 'horse': 7, 'cat': 3, 'cow': 2, 'aeroplane': 1, 'sheep': 1, 'train': 0}\n",
    "> \n",
    "> Predicted classes that are not in images \n",
    "> {'sofa': 12, 'chair': 3, 'person': 9, 'bottle': 2, 'horse': 1, 'pottedplant': 2, 'cat': 1, 'motorbike': 1, 'tvmonitor': 1, 'diningtable': 1, 'bus': 1, 'car': 2, 'boat': 2, 'cow': 1, 'train': 0, 'aeroplane': 0, 'bicycle': 0, 'bird': 0, 'sheep': 0, 'dog': 0}"
   ]
  },
  {
   "cell_type": "markdown",
   "metadata": {},
   "source": [
    "```python\n",
    "# importing package\n",
    "import matplotlib.pyplot as plt\n",
    "\n",
    "\n",
    "sorted_correct = dict(sorted(occurrences_correct.items(),key=lambda x:x[0]))\n",
    "sorted_missed = dict(sorted(occurrences_missed.items(),key=lambda x:x[0]))\n",
    "sorted_to_much = dict(sorted(occurrences_to_much.items(),key=lambda x:x[0]))\n",
    "\n",
    "\n",
    "# create data\n",
    "x = list(sorted_correct.keys())\n",
    "correct = np.array(list(sorted_correct.values()))\n",
    "missed = np.array(list(sorted_missed.values()))\n",
    "to_much = np.array(list(sorted_to_much.values()))\n",
    " \n",
    "fig, ax = plt.subplots()\n",
    "\n",
    "# plot bars in stack manner\n",
    "ax.bar(x, correct, color='g')\n",
    "ax.bar(x, missed, bottom=correct, color='r')\n",
    "ax.bar(x, to_much, bottom=correct + missed, color='b')\n",
    "\n",
    "ax.set_xlabel('Classes')\n",
    "ax.set_ylabel('Amount')\n",
    "ax.set_title('Performance chart')\n",
    "ax.tick_params(axis='x', rotation=75)\n",
    "\n",
    "colors = {'Correct':'green', 'Missed':'red', 'To much' : 'blue'}         \n",
    "labels = list(colors.keys())\n",
    "handles = [plt.Rectangle((0,0),1,1, color=colors[label]) for label in labels]\n",
    "ax.legend(handles, labels)\n",
    "\n",
    "plt.show()\n",
    "```"
   ]
  },
  {
   "attachments": {
    "0a08eb8a-340a-4265-acb8-13f01e56f5b3.jpg": {
     "image/jpeg": "[encoded data removed]"
    }
   },
   "cell_type": "markdown",
   "metadata": {},
   "source": [
    "![Schermafbeelding 2024-05-21 173535.jpg](attachment:0a08eb8a-340a-4265-acb8-13f01e56f5b3.jpg)"
   ]
  },
  {
   "cell_type": "markdown",
   "metadata": {},
   "source": [
    "# 2.3 Conclusion: Classification\n",
    "\n",
    "This section explored different architectures for building multi-label classification models.  \n",
    "\n",
    "The models trained from scratch demonstrated various ways to construct CNN and ViT architectures layer by layer. However, training these models effectively was limited by insufficient training data, leading to overfitting.  \n",
    "\n",
    "This challenge was addressed using pre-trained models, which have already been trained on large datasets and can be adapted to new tasks. The DETR and ViT architectures were examined, with the ViT model illustrating how pre-trained models can be extended by fine-tuning additional layers. These models achieved significantly better performance.  \n",
    "\n",
    "Various methods were also used to track model performance. Training on a validation set provided insight into how accuracy improved with each epoch, while visualizations and plots helped illustrate both the training process and model predictions.  \n"
   ]
  },
  {
   "cell_type": "markdown",
   "metadata": {
    "papermill": {
     "duration": 0.19763,
     "end_time": "2022-04-12T14:49:07.53601",
     "exception": false,
     "start_time": "2022-04-12T14:49:07.33838",
     "status": "completed"
    },
    "tags": []
   },
   "source": [
    "# 3. Semantic segmentation\n",
    "The goal here is to implement a segmentation CNN that labels every pixel in the image as belonging to one of the 20 classes (and/or background). Using the training set to train the CNN and compete on the test set (by filling in the segmentation column in the test dataframe)."
   ]
  },
  {
   "cell_type": "markdown",
   "metadata": {},
   "source": [
    "Image segmentation is a computer vision task that segments an image into multiple areas by assigning a label to every pixel of the image. It provides much more information about an image than object detection, which draws a bounding box around the detected object, or image classification, which assigns a label to the object.\n",
    "\n",
    "Segmentation is useful and can be used in real-world applications such as medical imaging, clothes segmentation, flooding maps, self-driving cars, etc.\n",
    "\n",
    "There are two types of image segmentation:\n",
    "\n",
    "- Semantic segmentation: classify each pixel with a label.\n",
    "- Instance segmentation: classify each pixel and differentiate each object instance."
   ]
  },
  {
   "cell_type": "markdown",
   "metadata": {},
   "source": [
    "### Model from scratch (U-Net)"
   ]
  },
  {
   "cell_type": "markdown",
   "metadata": {},
   "source": [
    "The u-net is convolutional network architecture for fast and precise segmentation of images. U-Net is a semantic segmentation technique originally proposed for (bio)medical imaging segmentation. It’s one of the earlier deep learning segmentation models, and the U-Net architecture is also used in many GAN variants.The network is based on a fully convolutional neural network whose architecture was modified and extended to work with fewer training images and to yield more precise segmentation.\n",
    "\n",
    "The model architecture is fairly simple: an encoder (for downsampling) and a decoder (for upsampling) with skip connections.\n",
    "\n",
    "U-Net is a type of neural network that’s designed like a “U” shape (hence the name U-Net). It’s made up of two parts: a contracting part and an expanding part.\n",
    "\n",
    "The contracting part is just like a normal neural network. It takes in an input and reduces it down, layer by layer, into a condensed form.\n",
    "\n",
    "The expanding part then takes this condensed form and builds it back up, layer by layer, into an output that’s the same size as the original input.\n",
    "\n",
    "Instead of reducing the size of the layers (like in the contracting part), the expanding part increases the size of the layers. It does this using something called upsampling, which is the opposite of pooling.\n",
    "\n",
    "One special thing about U-Net is that it has lots of feature channels in the expanding part. This lets it carry detailed context information from the contracting part to the expanding part.\n",
    "\n",
    "U-Net only uses the valid part of each convolution, and it doesn’t have any fully connected layers. This means it can work with images of any size.\n",
    "\n",
    "To handle the edges of the image (where some context is missing), U-Net just mirrors the input image. This lets it work with large images without being limited by the memory of the GPU.\n",
    "\n",
    "<img src=\"https://lmb.informatik.uni-freiburg.de/people/ronneber/u-net/u-net-architecture.png\" alt=\"drawing\" width=\"500\"/>\n",
    "\n",
    "The gray arrows indicate the skip connections that concatenate the encoder feature map with the decoder, which helps the backward flow of gradients for improved training.\n"
   ]
  },
  {
   "cell_type": "markdown",
   "metadata": {},
   "source": [
    "References: \n",
    "\n",
    "https://pyimagesearch.com/2022/02/21/u-net-image-segmentation-in-keras/\n",
    "\n",
    "https://lmb.informatik.uni-freiburg.de/people/ronneber/u-net/"
   ]
  },
  {
   "cell_type": "code",
   "execution_count": null,
   "metadata": {
    "execution": {
     "iopub.execute_input": "2024-05-22T11:41:55.83626Z",
     "iopub.status.busy": "2024-05-22T11:41:55.835833Z",
     "iopub.status.idle": "2024-05-22T11:41:57.852579Z",
     "shell.execute_reply": "2024-05-22T11:41:57.851584Z",
     "shell.execute_reply.started": "2024-05-22T11:41:55.836207Z"
    },
    "trusted": true
   },
   "outputs": [],
   "source": [
    "import tensorflow as tf\n",
    "from tensorflow import keras\n",
    "from tensorflow.keras import layers\n",
    "import tensorflow_datasets as t\n",
    "import matplotlib.pyplot as plt\n",
    "\n",
    "from tensorflow.keras.utils import to_categorical\n",
    "from tensorflow.keras import backend as K"
   ]
  },
  {
   "cell_type": "markdown",
   "metadata": {},
   "source": [
    "Augment the images by flipping them horizontally.\n"
   ]
  },
  {
   "cell_type": "code",
   "execution_count": null,
   "metadata": {
    "execution": {
     "iopub.execute_input": "2024-05-22T11:41:57.854595Z",
     "iopub.status.busy": "2024-05-22T11:41:57.854039Z",
     "iopub.status.idle": "2024-05-22T11:41:57.862228Z",
     "shell.execute_reply": "2024-05-22T11:41:57.861374Z",
     "shell.execute_reply.started": "2024-05-22T11:41:57.854556Z"
    },
    "trusted": true
   },
   "outputs": [],
   "source": [
    "def augment(input_image, input_mask):\n",
    "   if tf.random.uniform(()) > 0.5:\n",
    "       # Random flipping of the image and mask\n",
    "       input_image = tf.image.flip_left_right(input_image)\n",
    "       input_mask = tf.image.flip_left_right(input_mask)\n",
    "\n",
    "   return input_image, input_mask"
   ]
  },
  {
   "cell_type": "markdown",
   "metadata": {},
   "source": [
    " A function to normalize the dataset by scaling the images to the range of [0, 1]."
   ]
  },
  {
   "cell_type": "code",
   "execution_count": null,
   "metadata": {
    "execution": {
     "iopub.execute_input": "2024-05-22T11:41:57.864966Z",
     "iopub.status.busy": "2024-05-22T11:41:57.864425Z",
     "iopub.status.idle": "2024-05-22T11:41:57.885231Z",
     "shell.execute_reply": "2024-05-22T11:41:57.88418Z",
     "shell.execute_reply.started": "2024-05-22T11:41:57.864936Z"
    },
    "trusted": true
   },
   "outputs": [],
   "source": [
    "def normalize(input_image, input_mask):\n",
    "   input_image = tf.cast(input_image, tf.float32) / 255.0\n",
    "   return input_image, input_mask"
   ]
  },
  {
   "cell_type": "markdown",
   "metadata": {},
   "source": [
    "Two functions to preprocess the training and test datasets with a slight difference between the two – only perform image augmentation on the training dataset."
   ]
  },
  {
   "cell_type": "code",
   "execution_count": null,
   "metadata": {
    "execution": {
     "iopub.execute_input": "2024-05-22T11:41:57.887042Z",
     "iopub.status.busy": "2024-05-22T11:41:57.886699Z",
     "iopub.status.idle": "2024-05-22T11:41:57.895627Z",
     "shell.execute_reply": "2024-05-22T11:41:57.894654Z",
     "shell.execute_reply.started": "2024-05-22T11:41:57.887011Z"
    },
    "trusted": true
   },
   "outputs": [],
   "source": [
    "def load_image_train(img, seg):\n",
    "    input_image = img\n",
    "    input_mask = seg\n",
    "    input_image, input_mask = augment(input_image, input_mask)\n",
    "    input_image, input_mask = normalize(input_image, input_mask)\n",
    "    \n",
    "    return input_image, input_mask\n",
    "\n",
    "def load_image_test(img, seg):\n",
    "    input_image = img\n",
    "    input_mask = seg\n",
    "    input_image, input_mask = normalize(input_image, input_mask)\n",
    "    \n",
    "    return input_image, input_mask"
   ]
  },
  {
   "cell_type": "markdown",
   "metadata": {},
   "source": [
    "Resize the images and masks. function for resizing."
   ]
  },
  {
   "cell_type": "code",
   "execution_count": null,
   "metadata": {
    "execution": {
     "iopub.execute_input": "2024-05-22T11:41:57.89757Z",
     "iopub.status.busy": "2024-05-22T11:41:57.897041Z",
     "iopub.status.idle": "2024-05-22T11:41:57.907888Z",
     "shell.execute_reply": "2024-05-22T11:41:57.906961Z",
     "shell.execute_reply.started": "2024-05-22T11:41:57.897537Z"
    },
    "trusted": true
   },
   "outputs": [],
   "source": [
    "def resize_images(images, img_size):\n",
    "    list_images = list()\n",
    "\n",
    "    height, width = img_size\n",
    "    resize_layer = keras.layers.Resizing(height, width)\n",
    "    for img in images:\n",
    "        img_resized = resize_layer(img)\n",
    "        list_images.append(img_resized)\n",
    "    return np.array(list_images)"
   ]
  },
  {
   "cell_type": "markdown",
   "metadata": {},
   "source": [
    "An input pipeline was constructed using `tf.data` with the `map()` function.  \n",
    "\n",
    "- Images were resized to a shape of **128×128×3**, while the corresponding segmentation masks were resized to **128×128×1**.  \n",
    "- Segmentation masks were converted into categorical data using one-hot encoding.  \n",
    "- The training set was then split, reserving a portion for validation.  \n"
   ]
  },
  {
   "cell_type": "code",
   "execution_count": null,
   "metadata": {
    "execution": {
     "iopub.execute_input": "2024-05-22T11:41:57.910816Z",
     "iopub.status.busy": "2024-05-22T11:41:57.909905Z",
     "iopub.status.idle": "2024-05-22T11:42:23.43939Z",
     "shell.execute_reply": "2024-05-22T11:42:23.438542Z",
     "shell.execute_reply.started": "2024-05-22T11:41:57.910792Z"
    },
    "trusted": true
   },
   "outputs": [],
   "source": [
    "INPUT_HEIGHT = 128\n",
    "INPUT_WIDTH = 128\n",
    "\n",
    "trainImg = resize_images(train_df[\"img\"], (INPUT_HEIGHT, INPUT_WIDTH))\n",
    "trainImg = trainImg.astype(np.float16)\n",
    "\n",
    "\n",
    "trainSeg = resize_images(train_df[\"seg\"].apply(lambda x: np.expand_dims(x, axis=-1)), (INPUT_HEIGHT, INPUT_WIDTH))\n",
    "trainSeg = trainSeg.astype(np.float16)\n",
    "trainSeg = to_categorical(trainSeg, num_classes=21)\n",
    "\n",
    "train_img_seg = tf.data.Dataset.from_tensor_slices((trainImg, trainSeg))\n",
    "train_dataset, valid_dataset = keras.utils.split_dataset(train_img_seg, left_size=0.8)\n",
    "\n",
    "train_dataset = train_dataset.map(load_image_train, num_parallel_calls=tf.data.AUTOTUNE)\n",
    "valid_dataset = valid_dataset.map(load_image_test, num_parallel_calls=tf.data.AUTOTUNE)\n",
    "\n",
    "\n",
    "testImg = resize_images(test_df[\"img\"], (INPUT_HEIGHT, INPUT_WIDTH))\n",
    "testImg = testImg.astype(np.float16)\n",
    "\n",
    "testSeg = resize_images(test_df[\"seg\"].apply(lambda x: np.expand_dims(x, axis=-1)), (INPUT_HEIGHT, INPUT_WIDTH))\n",
    "testSeg = testSeg.astype(np.float16)\n",
    "testSeg = to_categorical(testSeg, num_classes=21)\n",
    "\n",
    "\n",
    "test_img_seg = tf.data.Dataset.from_tensor_slices((testImg, testSeg))\n",
    "test_dataset = test_img_seg.map(load_image_test, num_parallel_calls=tf.data.AUTOTUNE)"
   ]
  },
  {
   "cell_type": "markdown",
   "metadata": {},
   "source": [
    "Creating a batch size of 16 and a buffer size of 1000 for creating batches of training and test datasets. \n",
    "\n",
    "The train_batches and the validation_batches will be used for training the U-Net model. The test_batches can be used to evaluate the performance of the U-Net model after training."
   ]
  },
  {
   "cell_type": "code",
   "execution_count": null,
   "metadata": {
    "execution": {
     "iopub.execute_input": "2024-05-22T11:42:23.440779Z",
     "iopub.status.busy": "2024-05-22T11:42:23.440528Z",
     "iopub.status.idle": "2024-05-22T11:42:23.467828Z",
     "shell.execute_reply": "2024-05-22T11:42:23.467073Z",
     "shell.execute_reply.started": "2024-05-22T11:42:23.440757Z"
    },
    "trusted": true
   },
   "outputs": [],
   "source": [
    "BATCH_SIZE = 16\n",
    "BUFFER_SIZE = 1000\n",
    "#train_batches = train_dataset.cache().shuffle(BUFFER_SIZE).batch(BATCH_SIZE).repeat()\n",
    "\n",
    "train_batches = train_dataset.cache().shuffle(BUFFER_SIZE).batch(BATCH_SIZE).repeat()\n",
    "train_batches = train_batches.prefetch(buffer_size=tf.data.experimental.AUTOTUNE)\n",
    "\n",
    "validation_batches = valid_dataset.batch(BATCH_SIZE)\n",
    "\n",
    "test_batches = test_dataset.batch(BATCH_SIZE)"
   ]
  },
  {
   "cell_type": "markdown",
   "metadata": {},
   "source": [
    "Visualizing a random sample image and its mask from the training dataset, to get an idea of how the data looks.\n",
    "This is a random given image with its corresponding given segmentation mask."
   ]
  },
  {
   "cell_type": "code",
   "execution_count": null,
   "metadata": {
    "execution": {
     "iopub.execute_input": "2024-05-22T11:42:23.469001Z",
     "iopub.status.busy": "2024-05-22T11:42:23.46877Z",
     "iopub.status.idle": "2024-05-22T11:42:25.406154Z",
     "shell.execute_reply": "2024-05-22T11:42:25.405174Z",
     "shell.execute_reply.started": "2024-05-22T11:42:23.46898Z"
    },
    "trusted": true
   },
   "outputs": [],
   "source": [
    "def display(display_list):\n",
    "    plt.figure(figsize=(15, 15))\n",
    "\n",
    "    title = [\"Input Image\", \"True Mask\", \"Predicted Mask\"]\n",
    "\n",
    "    for i in range(len(display_list)):\n",
    "        plt.subplot(1, len(display_list), i+1)\n",
    "        plt.title(title[i])\n",
    "        if i != 0:  # if it's a mask\n",
    "            display_list[i] = np.argmax(display_list[i], axis=-1).astype(np.float32)\n",
    "        else:\n",
    "            display_list[i] = tf.keras.utils.array_to_img(display_list[i])\n",
    "        plt.imshow(display_list[i])\n",
    "        plt.axis(\"off\")\n",
    "    plt.show()\n",
    "\n",
    "sample_batch = next(iter(train_batches))\n",
    "random_index = np.random.choice(sample_batch[0].shape[0])\n",
    "sample_image, sample_mask = sample_batch[0][random_index], sample_batch[1][random_index]\n",
    "\n",
    "print(\"sample_image shape:\", sample_image.shape)\n",
    "print(\"sample_mask shape:\", sample_mask.shape)\n",
    "print(\"Unique values in sample_image:\", np.unique(sample_image))\n",
    "print(\"Unique values in sample_mask:\", np.unique(sample_mask))\n",
    "sample_image = sample_image\n",
    "display([sample_image, sample_mask])\n",
    "\n",
    "\n"
   ]
  },
  {
   "cell_type": "markdown",
   "metadata": {},
   "source": [
    "#### Model Architecture\n",
    "\n",
    "Let’s define the U-Net model architecture. The U-Net is shaped like a letter U with an encoder, decoder, and the skip connections between them. A few building blocks to make the U-Net model will be created.\n",
    "\n",
    "##### Building blocks:\n",
    "-----------------------"
   ]
  },
  {
   "cell_type": "markdown",
   "metadata": {},
   "source": [
    "**double_conv_block**: This function is a building block of the U-Net model. It consists of two sets of Conv2D and ReLU activation layers. Conv2D is a 2D convolution layer that creates a convolution kernel to produce a tensor of outputs. ReLU (Rectified Linear Unit) is an activation function that outputs the input directly if it’s positive; otherwise, it outputs zero.\n",
    "\n",
    "**downsample_block**: This function is used in the encoder part of the U-Net. It first applies the double_conv_block to the input, then uses MaxPool2D for downsampling, and finally applies a Dropout layer. MaxPool2D is used to reduce the spatial dimensions (height and width) of the input volume. Dropout is a regularization technique that prevents overfitting by randomly setting a fraction of input units to 0 during training.\n",
    "\n",
    "**upsample_block**: This function is used in the decoder part of the U-Net. It first upsamples the input using Conv2DTranspose (also known as deconvolution), then concatenates the upsampled input with features from the corresponding level in the encoder, applies a Dropout layer, and finally applies the double_conv_block. The concatenation of the upsampled input and the encoder features is a distinctive feature of U-Net and is known as skip-connection or shortcut connection. This helps the model to localize better and produce more precise segmentation."
   ]
  },
  {
   "cell_type": "code",
   "execution_count": null,
   "metadata": {
    "execution": {
     "iopub.execute_input": "2024-05-22T11:42:25.408547Z",
     "iopub.status.busy": "2024-05-22T11:42:25.408108Z",
     "iopub.status.idle": "2024-05-22T11:42:25.417315Z",
     "shell.execute_reply": "2024-05-22T11:42:25.416274Z",
     "shell.execute_reply.started": "2024-05-22T11:42:25.40851Z"
    },
    "trusted": true
   },
   "outputs": [],
   "source": [
    "def double_conv_block(x, n_filters):\n",
    "\n",
    "   # Conv2D then ReLU activation\n",
    "   x = layers.Conv2D(n_filters, 3, padding = \"same\", activation = \"relu\", kernel_initializer = \"he_normal\")(x)\n",
    "   # Conv2D then ReLU activation\n",
    "   x = layers.Conv2D(n_filters, 3, padding = \"same\", activation = \"relu\", kernel_initializer = \"he_normal\")(x)\n",
    "\n",
    "   return x\n",
    "\n",
    "def downsample_block(x, n_filters):\n",
    "   f = double_conv_block(x, n_filters)\n",
    "   p = layers.MaxPool2D(2)(f)\n",
    "   p = layers.Dropout(0.3)(p)\n",
    "\n",
    "   return f, p\n",
    "\n",
    "def upsample_block(x, conv_features, n_filters):\n",
    "   # upsample\n",
    "   x = layers.Conv2DTranspose(n_filters, 3, 2, padding=\"same\")(x)\n",
    "   # concatenate\n",
    "   x = layers.concatenate([x, conv_features])\n",
    "   # dropout\n",
    "   x = layers.Dropout(0.3)(x)\n",
    "   # Conv2D twice with ReLU activation\n",
    "   x = double_conv_block(x, n_filters)\n",
    "\n",
    "   return x"
   ]
  },
  {
   "cell_type": "markdown",
   "metadata": {},
   "source": [
    "##### U-Net Model:\n",
    "-----------------------"
   ]
  },
  {
   "cell_type": "markdown",
   "metadata": {},
   "source": [
    "**Inputs**: The model takes an input image of shape (128, 128, 3), which means the image is 128 pixels high, 128 pixels wide, and has 3 color channels (RGB).\n",
    "\n",
    "**Encoder**: The encoder part of the model consists of four downsampling blocks. The number of filters in the convolutional layers increases with each block (64, 128, 256, and 512), allowing the model to learn more complex features.\n",
    "\n",
    "**Bottleneck**: The bottleneck is the deepest layer in the network, where the spatial dimensions are the smallest. This layer uses 1024 filters.\n",
    "\n",
    "**Decoder**: The decoder part of the model consists of four upsampling blocks. The number of filters in the convolutional layers decreases with each block (512, 256, 128, and 64), gradually merging the high-level features learned by the network with the more detailed information preserved in the skip-connections.\n",
    "\n",
    "**Outputs**: Finally, a convolutional layer with a softmax activation function is used to generate the output. This layer has 21 filters, so it will output an image where each pixel belongs to one of 21 classes.\n",
    "\n",
    "**Model Creation**: The U-Net model is created using the Keras Functional API, with the specified inputs and outputs."
   ]
  },
  {
   "cell_type": "code",
   "execution_count": null,
   "metadata": {
    "execution": {
     "iopub.execute_input": "2024-05-22T11:42:25.418999Z",
     "iopub.status.busy": "2024-05-22T11:42:25.418613Z",
     "iopub.status.idle": "2024-05-22T11:42:25.429967Z",
     "shell.execute_reply": "2024-05-22T11:42:25.428989Z",
     "shell.execute_reply.started": "2024-05-22T11:42:25.418963Z"
    },
    "trusted": true
   },
   "outputs": [],
   "source": [
    "def build_unet_model(): # inputs\n",
    "   inputs = layers.Input(shape=(128,128,3))\n",
    "\n",
    "   # encoder: contracting path - downsample\n",
    "   # 1 - downsample\n",
    "   f1, p1 = downsample_block(inputs, 64)\n",
    "   # 2 - downsample\n",
    "   f2, p2 = downsample_block(p1, 128)\n",
    "   # 3 - downsample\n",
    "   f3, p3 = downsample_block(p2, 256)\n",
    "   # 4 - downsample\n",
    "   f4, p4 = downsample_block(p3, 512)\n",
    "\n",
    "   # 5 - bottleneck\n",
    "   bottleneck = double_conv_block(p4, 1024)\n",
    "\n",
    "   # decoder: expanding path - upsample\n",
    "   # 6 - upsample\n",
    "   u6 = upsample_block(bottleneck, f4, 512)\n",
    "   # 7 - upsample\n",
    "   u7 = upsample_block(u6, f3, 256)\n",
    "   # 8 - upsample\n",
    "   u8 = upsample_block(u7, f2, 128)\n",
    "   # 9 - upsample\n",
    "   u9 = upsample_block(u8, f1, 64)\n",
    "\n",
    "   # outputs\n",
    "   outputs = layers.Conv2D(21, 1, padding=\"same\", activation = \"softmax\")(u9)\n",
    "\n",
    "   # unet model with Keras Functional API\n",
    "   unet_model = tf.keras.Model(inputs, outputs, name=\"U-Net\")\n",
    "\n",
    "   return unet_model"
   ]
  },
  {
   "cell_type": "code",
   "execution_count": null,
   "metadata": {
    "execution": {
     "iopub.execute_input": "2024-05-22T11:42:25.431711Z",
     "iopub.status.busy": "2024-05-22T11:42:25.431323Z",
     "iopub.status.idle": "2024-05-22T11:42:25.662589Z",
     "shell.execute_reply": "2024-05-22T11:42:25.661618Z",
     "shell.execute_reply.started": "2024-05-22T11:42:25.431661Z"
    },
    "trusted": true
   },
   "outputs": [],
   "source": [
    "unet_model = build_unet_model()"
   ]
  },
  {
   "cell_type": "markdown",
   "metadata": {},
   "source": [
    "**Compile and Train U-Net**\n",
    "\n",
    "-----------------------\n",
    "\n",
    "To compile unet_model, specify the optimizer, the loss function, and the accuracy metrics to track during training:\n"
   ]
  },
  {
   "cell_type": "markdown",
   "metadata": {},
   "source": [
    "The initial approach involved using the **sparse_categorical_crossentropy** loss function, which is commonly applied in multi-class classification problems. This function is suitable when classes are mutually exclusive, meaning each data point belongs to exactly one class. It calculates the difference between the model’s predictions and the actual values in the training data.  \n",
    "\n",
    "One advantage of this loss function is its ability to handle integer labels for classes, making it more memory-efficient, particularly in datasets with a large number of classes.  \n",
    "\n",
    "In early experiments with the U-Net model for image segmentation, sparse_categorical_crossentropy was used. However, this approach did not yield satisfactory results, as the model consistently predicted the background class for most pixels.  \n",
    "\n",
    "This issue stemmed from **class imbalance** in the training data, where the majority of pixels belonged to the background class. As a result, the model favored predicting the background to minimize the loss, a common challenge in machine learning.  \n",
    "\n",
    "To address this, alternative strategies are being explored, such as using different loss functions, applying class weighting, or oversampling the minority class. These techniques aim to improve the model’s ability to learn from underrepresented classes and enhance overall segmentation performance.  \n"
   ]
  },
  {
   "cell_type": "code",
   "execution_count": null,
   "metadata": {
    "execution": {
     "iopub.execute_input": "2024-05-22T11:42:25.664115Z",
     "iopub.status.busy": "2024-05-22T11:42:25.663783Z",
     "iopub.status.idle": "2024-05-22T11:42:25.670394Z",
     "shell.execute_reply": "2024-05-22T11:42:25.669509Z",
     "shell.execute_reply.started": "2024-05-22T11:42:25.664084Z"
    },
    "trusted": true
   },
   "outputs": [],
   "source": [
    "'''unet_model.compile(optimizer=tf.keras.optimizers.Adam(),\n",
    "                  loss=\"sparse_categorical_crossentropy\",\n",
    "                  metrics=['accuracy'])'''"
   ]
  },
  {
   "cell_type": "markdown",
   "metadata": {},
   "source": [
    "The **weighted categorical cross-entropy** loss function yielded the best results for addressing class imbalance.  \n",
    "\n",
    "This approach involves assigning different weights to classes based on their frequency in the training data. Underrepresented classes (such as the non-background classes in this case) are given higher weights, while overrepresented classes (like the background) are assigned lower weights. This encourages the model to focus more on learning the underrepresented classes.  \n",
    "\n",
    "Class weights were calculated by taking the inverse of their frequency in the training data. To further reduce the influence of the background class, its weight was multiplied by 10, as it was heavily overrepresented.  \n",
    "\n",
    "A custom loss function, **weighted_categorical_crossentropy**, was then defined to incorporate these class weights into the standard categorical cross-entropy. This custom loss function penalizes the model more for errors on underrepresented classes, helping it to better learn these classes.  \n",
    "\n",
    "The U-Net model was compiled using this custom loss function, along with the Adam optimizer and accuracy as the evaluation metric. After training with this setup, a significant improvement in model performance was observed. The model was able to segment the images more accurately, identifying not only the background but also the previously overlooked classes.  \n"
   ]
  },
  {
   "cell_type": "code",
   "execution_count": null,
   "metadata": {
    "execution": {
     "iopub.execute_input": "2024-05-22T11:42:25.672443Z",
     "iopub.status.busy": "2024-05-22T11:42:25.671654Z",
     "iopub.status.idle": "2024-05-22T11:42:26.205054Z",
     "shell.execute_reply": "2024-05-22T11:42:26.20427Z",
     "shell.execute_reply.started": "2024-05-22T11:42:25.672409Z"
    },
    "trusted": true
   },
   "outputs": [],
   "source": [
    "class_weights = {}\n",
    "total_count = train_df[\"seg\"].apply(lambda row: row.shape[0] * row.shape[1]).sum()\n",
    "for i in range(21):\n",
    "    count = train_df[\"seg\"].apply(lambda row: np.count_nonzero(row == i)).sum()\n",
    "    class_weights[i] = 1 / (count / total_count)\n",
    "class_weights[0] *= 10\n",
    "class_weights\n",
    "\n",
    "def weighted_categorical_crossentropy(weights):    \n",
    "    weights = K.variable(weights)\n",
    "        \n",
    "    def loss(y_true, y_pred):\n",
    "        y_pred /= K.sum(y_pred, axis=-1, keepdims=True)\n",
    "        y_pred = K.clip(y_pred, K.epsilon(), 1 - K.epsilon())\n",
    "        loss = y_true * K.log(y_pred) * weights\n",
    "        loss = -K.sum(loss, -1)\n",
    "        return loss\n",
    "    \n",
    "    return loss\n",
    "\n",
    "loss_function = weighted_categorical_crossentropy([class_weights[i] for i in class_weights])\n",
    "\n",
    "unet_model.compile(optimizer=tf.keras.optimizers.Adam(),\n",
    "                  loss=loss_function,\n",
    "                  metrics=['accuracy'])"
   ]
  },
  {
   "cell_type": "markdown",
   "metadata": {},
   "source": [
    "Also experimented with other loss functions like:\n",
    "\n",
    "**Dice Loss**: This function measures the overlap between the predicted and true segmentation masks. It’s particularly useful for handling imbalanced datasets.\n",
    "\n",
    "**Focal Tversky Loss**: This is a modification of the Tversky index, a similarity measure for sets, with a focal term added to handle class imbalance. It’s often used in semantic segmentation tasks.\n",
    "\n",
    "**Categorical Focal Loss**: This is a variant of the standard cross-entropy loss, with a modulating factor added to down-weight easy examples and focus on hard negatives. It’s useful when dealing with multi-class imbalance."
   ]
  },
  {
   "cell_type": "code",
   "execution_count": null,
   "metadata": {
    "execution": {
     "iopub.execute_input": "2024-05-22T11:42:26.206631Z",
     "iopub.status.busy": "2024-05-22T11:42:26.206317Z",
     "iopub.status.idle": "2024-05-22T11:42:26.214991Z",
     "shell.execute_reply": "2024-05-22T11:42:26.214216Z",
     "shell.execute_reply.started": "2024-05-22T11:42:26.206606Z"
    },
    "trusted": true
   },
   "outputs": [],
   "source": [
    "'''def dice_loss(y_true, y_pred):\n",
    "    numerator = 2 * tf.reduce_sum(y_true * y_pred)\n",
    "    denominator = tf.reduce_sum(y_true + y_pred)\n",
    "\n",
    "    return 1 - (numerator + 1) / (denominator + 1)\n",
    "\n",
    "unet_model.compile(optimizer=tf.keras.optimizers.Adam(),\n",
    "                   loss=dice_loss,\n",
    "                   metrics=['accuracy'])'''\n",
    "\n",
    "# ----------------------\n",
    "\n",
    "'''def tversky(y_true, y_pred, smooth=1e-6):\n",
    "    # Ensure the shapes match\n",
    "    if y_true.shape != y_pred.shape:\n",
    "        y_true = tf.reshape(y_true, [-1])\n",
    "        y_pred = tf.reshape(y_pred, [-1])\n",
    "\n",
    "    y_true_pos = tf.keras.layers.Flatten()(y_true)\n",
    "    y_pred_pos = tf.keras.layers.Flatten()(y_pred)\n",
    "    true_pos = tf.reduce_sum(y_true_pos * y_pred_pos)\n",
    "    false_neg = tf.reduce_sum(y_true_pos * (1-y_pred_pos))\n",
    "    false_pos = tf.reduce_sum((1-y_true_pos)*y_pred_pos)\n",
    "    alpha = 0.7\n",
    "    return (true_pos + smooth)/(true_pos + alpha*false_neg + (1-alpha)*false_pos + smooth)\n",
    "\n",
    "\n",
    "def focal_tversky_loss(y_true,y_pred):\n",
    "    pt_1 = tversky(y_true, y_pred)\n",
    "    gamma = 0.75\n",
    "    return tf.keras.backend.pow((1-pt_1), gamma)\n",
    "\n",
    "unet_model.compile(optimizer=tf.keras.optimizers.Adam(),\n",
    "                   loss=focal_tversky_loss,\n",
    "                   metrics=['accuracy'])'''\n",
    "\n",
    "# ----------------------\n",
    "\n",
    "'''\n",
    "def categorical_focal_loss(gamma=2., alpha=.25):\n",
    "    \"\"\"\n",
    "    Softmax version of focal loss.\n",
    "    When there is a skew between different categories/labels in your data set, you can try to apply this function as a loss.\n",
    "    \"\"\"\n",
    "    def categorical_focal_loss_fixed(y_true, y_pred):\n",
    "        \"\"\"\n",
    "        :param y_true: A tensor of the same shape as `y_pred`\n",
    "        :param y_pred: A tensor resulting from a softmax\n",
    "        :return: Output tensor.\n",
    "        \"\"\"\n",
    "\n",
    "        # Scale predictions so that the class probas of each sample sum to 1\n",
    "        y_pred /= tf.keras.backend.sum(y_pred, axis=-1, keepdims=True)\n",
    "\n",
    "        # Clip the prediction value to prevent NaN's and Inf's\n",
    "        epsilon = tf.keras.backend.epsilon()\n",
    "        y_pred = tf.clip_by_value(y_pred, epsilon, 1. - epsilon)\n",
    "\n",
    "        # Calculate Cross Entropy\n",
    "        cross_entropy = -y_true * tf.keras.backend.log(y_pred)\n",
    "\n",
    "        # Calculate Focal Loss\n",
    "        loss = alpha * tf.keras.backend.pow(1 - y_pred, gamma) * cross_entropy\n",
    "\n",
    "        # Compute mean loss in mini_batch\n",
    "        return tf.keras.backend.mean(loss, axis=1)\n",
    "\n",
    "    return categorical_focal_loss_fixed\n",
    "\n",
    "unet_model.compile(optimizer=tf.keras.optimizers.Adam(),\n",
    "                  loss=[categorical_focal_loss(alpha=.25, gamma=2)],\n",
    "                  metrics=['accuracy'])\n",
    "'''"
   ]
  },
  {
   "cell_type": "code",
   "execution_count": null,
   "metadata": {
    "execution": {
     "iopub.execute_input": "2024-05-22T11:42:26.216464Z",
     "iopub.status.busy": "2024-05-22T11:42:26.216182Z",
     "iopub.status.idle": "2024-05-22T11:47:54.066522Z",
     "shell.execute_reply": "2024-05-22T11:47:54.065559Z",
     "shell.execute_reply.started": "2024-05-22T11:42:26.216436Z"
    },
    "trusted": true
   },
   "outputs": [],
   "source": [
    "NUM_EPOCHS = 20\n",
    "\n",
    "TRAIN_LENGTH = len(train_dataset)\n",
    "print(TRAIN_LENGTH)\n",
    "STEPS_PER_EPOCH = TRAIN_LENGTH // BATCH_SIZE\n",
    "print(STEPS_PER_EPOCH)\n",
    "\n",
    "VAL_SUBSPLITS = 1\n",
    "TEST_LENTH = len(valid_dataset)\n",
    "print(TEST_LENTH)\n",
    "VALIDATION_STEPS = TEST_LENTH // BATCH_SIZE // VAL_SUBSPLITS\n",
    "print(VALIDATION_STEPS)\n",
    "\n",
    "model_history = unet_model.fit(train_batches,\n",
    "                              epochs=NUM_EPOCHS,\n",
    "                              steps_per_epoch=STEPS_PER_EPOCH,\n",
    "                              validation_steps=VALIDATION_STEPS,\n",
    "                              validation_data=validation_batches)"
   ]
  },
  {
   "cell_type": "markdown",
   "metadata": {},
   "source": [
    "**Prediction**"
   ]
  },
  {
   "cell_type": "markdown",
   "metadata": {},
   "source": [
    "To see how the model perfoms a random image is selected from the validation dataset and the predicted segmentation mask is plotted.\n",
    "\n",
    "The U-Net model, built from scratch, generally performs decently on the task of image segmentation. It’s capable of identifying and classifying objects in images with a reasonable degree of accuracy on the training and validation set. However, it’s not perfect. There are instances where the model may not perform as well as expected. In some cases, it might fail to detect the presence of an object altogether. In other situations, it might incorrectly classify an object, attributing it to the wrong class. When it comes to the test set, the model’s performance doesn’t quite match up.\n",
    "\n",
    "Despite these limitations, the U-Net model remains a valuable tool in the field of image segmentation, and with further tuning and optimization, its performance on the test set can be improved. These possible improvements will be explained in more detail on another model\n"
   ]
  },
  {
   "cell_type": "code",
   "execution_count": null,
   "metadata": {
    "execution": {
     "iopub.execute_input": "2024-05-22T11:47:54.068466Z",
     "iopub.status.busy": "2024-05-22T11:47:54.068001Z",
     "iopub.status.idle": "2024-05-22T11:48:03.915667Z",
     "shell.execute_reply": "2024-05-22T11:48:03.914606Z",
     "shell.execute_reply.started": "2024-05-22T11:47:54.068433Z"
    },
    "trusted": true
   },
   "outputs": [],
   "source": [
    "# sample_test_batch = next(iter(train_batches))\n",
    "# random_index = np.random.choice(sample_test_batch[0].shape[0])\n",
    "# sample_test_image, sample_test_mask = sample_test_batch[0][random_index], sample_test_batch[1][random_index]\n",
    "\n",
    "# Take the first example from the dataset\n",
    "first_example = next(iter(train_dataset.skip(9).take(1)))\n",
    "\n",
    "# Extract the image and segmentation\n",
    "first_image, first_seg = first_example\n",
    "first_image_exp = np.expand_dims(first_image, axis=0)\n",
    "\n",
    "pred_mask = unet_model.predict(first_image_exp)\n",
    "pred_mask_squeezed = np.squeeze(pred_mask)\n",
    "\n",
    "display([first_image, first_seg, pred_mask_squeezed])\n"
   ]
  },
  {
   "cell_type": "markdown",
   "metadata": {},
   "source": [
    "The following code makes predictions on the validation set and converts them back to the desired format from the categorical format.\n"
   ]
  },
  {
   "cell_type": "code",
   "execution_count": null,
   "metadata": {
    "execution": {
     "iopub.execute_input": "2024-05-22T11:48:03.917158Z",
     "iopub.status.busy": "2024-05-22T11:48:03.916871Z",
     "iopub.status.idle": "2024-05-22T11:49:09.311046Z",
     "shell.execute_reply": "2024-05-22T11:49:09.310189Z",
     "shell.execute_reply.started": "2024-05-22T11:48:03.917132Z"
    },
    "trusted": true
   },
   "outputs": [],
   "source": [
    "valid_images = []\n",
    "valid_seg = []\n",
    "\n",
    "for img, seg in valid_dataset:\n",
    "    valid_images.append(img)  \n",
    "    valid_seg.append(seg)\n",
    "\n",
    "\n",
    "valid_images_array = np.stack(valid_images)\n",
    "\n",
    "valid_pred = unet_model.predict(valid_images_array)\n",
    "valid_pred_argmax=np.argmax(valid_pred, axis=3)\n",
    "valid_argmax=np.argmax(valid_seg, axis=3)"
   ]
  },
  {
   "cell_type": "markdown",
   "metadata": {},
   "source": [
    "The Dice score is a metric used to evaluate the performance of a segmentation model. This will be explained in more detail below."
   ]
  },
  {
   "cell_type": "code",
   "execution_count": null,
   "metadata": {
    "execution": {
     "iopub.execute_input": "2024-05-22T11:49:09.312665Z",
     "iopub.status.busy": "2024-05-22T11:49:09.312308Z",
     "iopub.status.idle": "2024-05-22T11:49:09.34287Z",
     "shell.execute_reply": "2024-05-22T11:49:09.341889Z",
     "shell.execute_reply.started": "2024-05-22T11:49:09.312633Z"
    },
    "trusted": true
   },
   "outputs": [],
   "source": [
    "size_of_validation_dataset = len(valid_dataset)\n",
    "\n",
    "\n",
    "def dice_score(ground_truth_mask, pred_mask):\n",
    "    intersection_amount_without_zeros = np.sum((ground_truth_mask == pred_mask) & (ground_truth_mask != 0) & (pred_mask != 0))\n",
    "    score = (2 * intersection_amount_without_zeros) / (np.sum((ground_truth_mask != 0)) + np.sum((pred_mask != 0)))\n",
    "    return score\n",
    "\n",
    "\n",
    "score = np.mean([dice_score(valid_argmax[i], valid_pred_argmax[i]) for i in range(size_of_validation_dataset)])\n",
    "print(f\"Dice score is {score}\")"
   ]
  },
  {
   "cell_type": "markdown",
   "metadata": {},
   "source": [
    "This code is designed for bulk resizing of images. It employs a Nearest Neighbors interpolation method during resizing, which is crucial for maintaining the integrity of the masks. Using this method is particularly important for masks because it preserves the original labels without introducing smoothing, which is undesirable for maintaining label accuracy."
   ]
  },
  {
   "cell_type": "code",
   "execution_count": null,
   "metadata": {
    "execution": {
     "iopub.execute_input": "2024-05-22T11:49:09.344334Z",
     "iopub.status.busy": "2024-05-22T11:49:09.344004Z",
     "iopub.status.idle": "2024-05-22T11:49:09.349829Z",
     "shell.execute_reply": "2024-05-22T11:49:09.348909Z",
     "shell.execute_reply.started": "2024-05-22T11:49:09.344308Z"
    },
    "trusted": true
   },
   "outputs": [],
   "source": [
    "def resize_images_near(images,img_size):\n",
    "    list_images = list()\n",
    "    for img in images:\n",
    "        img_resized = cv2.resize(img, img_size, interpolation=cv2.INTER_NEAREST)\n",
    "        list_images.append(img_resized)\n",
    "    return np.array(list_images)"
   ]
  },
  {
   "cell_type": "markdown",
   "metadata": {},
   "source": [
    "Prediction are now given in the choosen image size of the input, following codes resizes these predictions to the same size of the corresponding image."
   ]
  },
  {
   "cell_type": "code",
   "execution_count": null,
   "metadata": {
    "execution": {
     "iopub.execute_input": "2024-05-22T11:49:09.351515Z",
     "iopub.status.busy": "2024-05-22T11:49:09.351157Z",
     "iopub.status.idle": "2024-05-22T11:49:09.479221Z",
     "shell.execute_reply": "2024-05-22T11:49:09.478236Z",
     "shell.execute_reply.started": "2024-05-22T11:49:09.351491Z"
    },
    "trusted": true
   },
   "outputs": [],
   "source": [
    "\n",
    "validation_predictions = np.empty(size_of_validation_dataset, dtype=object)\n",
    "for i, image in enumerate(train_df[\"img\"][-size_of_validation_dataset:]):\n",
    "    validation_predictions[i] = resize_images_near([valid_pred_argmax[i]], (image.shape[1], image.shape[0]))[0].astype(np.uint8)\n",
    "\n",
    "validation_predictions.shape"
   ]
  },
  {
   "cell_type": "code",
   "execution_count": null,
   "metadata": {
    "execution": {
     "iopub.execute_input": "2024-05-22T11:49:09.480758Z",
     "iopub.status.busy": "2024-05-22T11:49:09.480396Z",
     "iopub.status.idle": "2024-05-22T11:49:09.564515Z",
     "shell.execute_reply": "2024-05-22T11:49:09.563565Z",
     "shell.execute_reply.started": "2024-05-22T11:49:09.480725Z"
    },
    "trusted": true
   },
   "outputs": [],
   "source": [
    "score = np.mean([dice_score(train_df.at[len(train_df)-size_of_validation_dataset+i, \"seg\"], validation_predictions[i]) for i in range(size_of_validation_dataset)])\n",
    "print(f\"Dice score is {score}\")"
   ]
  },
  {
   "cell_type": "markdown",
   "metadata": {},
   "source": [
    "## Manual FCN"
   ]
  },
  {
   "cell_type": "markdown",
   "metadata": {},
   "source": [
    "A manual **Fully Convolutional Network (FCN)** was constructed following [these guidelines](https://keras.io/examples/vision/fully_convolutional_network/). However, the models tested did not result in significant improvements for the given use case.  \n",
    "\n",
    "Further exploration of the FCN model is presented in the next section, where a library is used to build the model. As a result, this section was removed from the notebook for clarity.  \n"
   ]
  },
  {
   "cell_type": "markdown",
   "metadata": {},
   "source": [
    "## Segmentation models"
   ]
  },
  {
   "cell_type": "markdown",
   "metadata": {},
   "source": [
    "To compare different model architectures for segmentation, the **\"segmentation-models\"** library (https://github.com/qubvel/segmentation_models) was used. This library provides several models for testing, including:\n",
    "\n",
    "- Unet  \n",
    "- FPN  \n",
    "- Linknet  \n",
    "- PSPNet  \n",
    "\n",
    "The library offers extensive customization options, such as the ability to select different backbones for the models and fine-tune the usual training parameters.  \n"
   ]
  },
  {
   "cell_type": "code",
   "execution_count": null,
   "metadata": {
    "execution": {
     "iopub.execute_input": "2024-05-22T11:49:09.566541Z",
     "iopub.status.busy": "2024-05-22T11:49:09.566194Z",
     "iopub.status.idle": "2024-05-22T11:49:26.231644Z",
     "shell.execute_reply": "2024-05-22T11:49:26.230457Z",
     "shell.execute_reply.started": "2024-05-22T11:49:09.566514Z"
    },
    "trusted": true
   },
   "outputs": [],
   "source": [
    "!pip install segmentation-models"
   ]
  },
  {
   "cell_type": "code",
   "execution_count": null,
   "metadata": {
    "execution": {
     "iopub.execute_input": "2024-05-22T11:49:26.233608Z",
     "iopub.status.busy": "2024-05-22T11:49:26.23328Z",
     "iopub.status.idle": "2024-05-22T11:49:26.275992Z",
     "shell.execute_reply": "2024-05-22T11:49:26.275142Z",
     "shell.execute_reply.started": "2024-05-22T11:49:26.233575Z"
    },
    "trusted": true
   },
   "outputs": [],
   "source": [
    "import os\n",
    "os.environ[\"SM_FRAMEWORK\"] = \"tf.keras\"\n",
    "\n",
    "from tensorflow import keras\n",
    "import segmentation_models as sm\n",
    "from segmentation_models.metrics import IOUScore, FScore\n",
    "from segmentation_models.losses import DiceLoss\n",
    "from tensorflow.keras import backend as K\n",
    "\n",
    "from tensorflow.keras.utils import to_categorical\n",
    "from tensorflow.keras.models import load_model\n",
    "import random\n",
    "import cv2"
   ]
  },
  {
   "attachments": {
    "a1ba52c9-69ff-49e0-8d9e-d36b38db2068.png": {
     "image/png": "[encoded data removed]"
    }
   },
   "cell_type": "markdown",
   "metadata": {},
   "source": [
    "The Dice score is a metric used to evaluate the performance of a segmentation model. The formula is as follows:\n",
    "\n",
    "![equation.png](attachment:a1ba52c9-69ff-49e0-8d9e-d36b38db2068.png)\n",
    "\n",
    "In code, the number of similar labels (excluding zero labels, which represent the background) is counted. This count is then multiplied by 2 and divided by the total count of non-zero labels in both the prediction and the ground truth of the segmentation. The resulting value is called the Dice score."
   ]
  },
  {
   "cell_type": "code",
   "execution_count": null,
   "metadata": {
    "execution": {
     "iopub.execute_input": "2024-05-22T11:49:26.277234Z",
     "iopub.status.busy": "2024-05-22T11:49:26.276991Z",
     "iopub.status.idle": "2024-05-22T11:49:26.282601Z",
     "shell.execute_reply": "2024-05-22T11:49:26.281698Z",
     "shell.execute_reply.started": "2024-05-22T11:49:26.277212Z"
    },
    "trusted": true
   },
   "outputs": [],
   "source": [
    "def dice_score(ground_truth_mask, pred_mask):\n",
    "    intersection_amount_without_zeros = np.sum((ground_truth_mask == pred_mask) & (ground_truth_mask != 0) & (pred_mask != 0))\n",
    "    score = (2 * intersection_amount_without_zeros) / (np.sum((ground_truth_mask != 0)) + np.sum((pred_mask != 0)))\n",
    "    return score"
   ]
  },
  {
   "cell_type": "markdown",
   "metadata": {},
   "source": [
    "This use case involves 20 labels for possible objects in images for semantic segmentation. Including the background, this results in a total of 21 labels/classes. To evaluate the models, the training data is split into a portion used exclusively for training and the remainder used for validation. The segmentation models require consistent input dimensions, so an input height and input width are set during initialization."
   ]
  },
  {
   "cell_type": "code",
   "execution_count": null,
   "metadata": {
    "execution": {
     "iopub.execute_input": "2024-05-22T11:49:26.284228Z",
     "iopub.status.busy": "2024-05-22T11:49:26.283933Z",
     "iopub.status.idle": "2024-05-22T11:49:26.294155Z",
     "shell.execute_reply": "2024-05-22T11:49:26.293453Z",
     "shell.execute_reply.started": "2024-05-22T11:49:26.284184Z"
    },
    "trusted": true
   },
   "outputs": [],
   "source": [
    "NUM_CLASSES = 21\n",
    "VALIDATION_SIZE = 100\n",
    "\n",
    "INPUT_HEIGHT = 144\n",
    "INPUT_WIDTH = 144"
   ]
  },
  {
   "cell_type": "markdown",
   "metadata": {},
   "source": [
    "The following function is a method to showcase the segmentation mask of an image. It assigns a unique color to each label, ensuring that the visualization of the masks is consistent."
   ]
  },
  {
   "cell_type": "code",
   "execution_count": null,
   "metadata": {
    "execution": {
     "iopub.execute_input": "2024-05-22T11:49:26.2956Z",
     "iopub.status.busy": "2024-05-22T11:49:26.295314Z",
     "iopub.status.idle": "2024-05-22T11:49:26.310399Z",
     "shell.execute_reply": "2024-05-22T11:49:26.309692Z",
     "shell.execute_reply.started": "2024-05-22T11:49:26.295579Z"
    },
    "trusted": true
   },
   "outputs": [],
   "source": [
    "COLORS = np.random.randint(0, 255, size=(NUM_CLASSES-1, 3),dtype=\"uint8\")\n",
    "COLORS = np.vstack([[0, 0, 0], COLORS]).astype(\"uint8\")\n",
    "\n",
    "def plot_mask(mask):\n",
    "\n",
    "    colored_mask = np.zeros((mask.shape[0], mask.shape[1], 3))\n",
    "    for i in range(mask.shape[0]):\n",
    "        for j in range(mask.shape[1]):\n",
    "            colored_mask[i][j] = COLORS[mask[i][j]]\n",
    "\n",
    "    plt.imshow(colored_mask.astype(np.uint8))     "
   ]
  },
  {
   "cell_type": "markdown",
   "metadata": {},
   "source": [
    "When training the model, it is likely to be biased towards predicting the background because most of the image is background. The following code calculates class weights to help solve this bias. These weights can then be used in the loss function to mitigate the problem. The weight for the background is multiplied by 10 to prevent it from being extremely low, which would otherwise result in much longer training times. After this adjustment, the weight for the background is still lower than the weights for other classes."
   ]
  },
  {
   "cell_type": "code",
   "execution_count": null,
   "metadata": {
    "execution": {
     "iopub.execute_input": "2024-05-22T11:49:26.311671Z",
     "iopub.status.busy": "2024-05-22T11:49:26.311419Z",
     "iopub.status.idle": "2024-05-22T11:49:26.838494Z",
     "shell.execute_reply": "2024-05-22T11:49:26.837558Z",
     "shell.execute_reply.started": "2024-05-22T11:49:26.311649Z"
    },
    "trusted": true
   },
   "outputs": [],
   "source": [
    "class_weights = {}\n",
    "total_count = train_df[\"seg\"].apply(lambda row: row.shape[0] * row.shape[1]).sum()\n",
    "for i in range(NUM_CLASSES):\n",
    "    count = train_df[\"seg\"].apply(lambda row: np.count_nonzero(row == i)).sum()\n",
    "    class_weights[i] = 1 / (count / total_count)\n",
    "class_weights[0] *= 10\n",
    "class_weights"
   ]
  },
  {
   "cell_type": "markdown",
   "metadata": {},
   "source": [
    "This code is designed for bulk resizing of images. It employs a Nearest Neighbors interpolation method during resizing, which is crucial for maintaining the integrity of the masks. Using this method is particularly important for masks because it preserves the original labels without introducing smoothing, which is undesirable for maintaining label accuracy."
   ]
  },
  {
   "cell_type": "code",
   "execution_count": null,
   "metadata": {
    "execution": {
     "iopub.execute_input": "2024-05-22T11:49:26.840039Z",
     "iopub.status.busy": "2024-05-22T11:49:26.839732Z",
     "iopub.status.idle": "2024-05-22T11:49:26.845343Z",
     "shell.execute_reply": "2024-05-22T11:49:26.844414Z",
     "shell.execute_reply.started": "2024-05-22T11:49:26.840015Z"
    },
    "trusted": true
   },
   "outputs": [],
   "source": [
    "def resize_images(images,img_size):\n",
    "    list_images = list()\n",
    "    for img in images:\n",
    "        img_resized = cv2.resize(img, img_size, interpolation=cv2.INTER_NEAREST)\n",
    "        list_images.append(img_resized)\n",
    "    return np.array(list_images)"
   ]
  },
  {
   "cell_type": "markdown",
   "metadata": {},
   "source": [
    "The code resizes both the training images and labels. Additionally, the labels are converted into categorical data. This categorical conversion enhances the effectiveness of the semantic segmentation model by representing each label as a separate category."
   ]
  },
  {
   "cell_type": "code",
   "execution_count": null,
   "metadata": {
    "execution": {
     "iopub.execute_input": "2024-05-22T11:49:26.846804Z",
     "iopub.status.busy": "2024-05-22T11:49:26.846501Z",
     "iopub.status.idle": "2024-05-22T11:49:28.655071Z",
     "shell.execute_reply": "2024-05-22T11:49:28.654242Z",
     "shell.execute_reply.started": "2024-05-22T11:49:26.84678Z"
    },
    "trusted": true
   },
   "outputs": [],
   "source": [
    "X_train = resize_images(train_df[\"img\"], (INPUT_HEIGHT, INPUT_WIDTH))\n",
    "\n",
    "y_train = resize_images(train_df[\"seg\"], (INPUT_HEIGHT, INPUT_WIDTH))\n",
    "y_train = to_categorical(y_train, num_classes=NUM_CLASSES)"
   ]
  },
  {
   "cell_type": "markdown",
   "metadata": {},
   "source": [
    "The following code is a test to verify if the label values are maintained after resizing."
   ]
  },
  {
   "cell_type": "code",
   "execution_count": null,
   "metadata": {
    "execution": {
     "iopub.execute_input": "2024-05-22T11:49:28.656614Z",
     "iopub.status.busy": "2024-05-22T11:49:28.656326Z",
     "iopub.status.idle": "2024-05-22T11:49:29.207798Z",
     "shell.execute_reply": "2024-05-22T11:49:29.20687Z",
     "shell.execute_reply.started": "2024-05-22T11:49:28.65659Z"
    },
    "trusted": true
   },
   "outputs": [],
   "source": [
    "index = 0\n",
    "plt.hist(train_df.at[index, \"seg\"].flatten(), [i for i in range(21)])\n",
    "plt.figure()\n",
    "plt.hist(resize_images([y_train[index].argmax(-1)], train_df.at[index, \"seg\"].shape)[0].flatten(), [i for i in range(21)])\n",
    "plt.show()"
   ]
  },
  {
   "cell_type": "markdown",
   "metadata": {},
   "source": [
    "Also resize images and labels test set"
   ]
  },
  {
   "cell_type": "code",
   "execution_count": null,
   "metadata": {
    "execution": {
     "iopub.execute_input": "2024-05-22T11:49:29.209491Z",
     "iopub.status.busy": "2024-05-22T11:49:29.209145Z",
     "iopub.status.idle": "2024-05-22T11:49:30.986119Z",
     "shell.execute_reply": "2024-05-22T11:49:30.985254Z",
     "shell.execute_reply.started": "2024-05-22T11:49:29.209463Z"
    },
    "trusted": true
   },
   "outputs": [],
   "source": [
    "X_test = resize_images(test_df[\"img\"], (INPUT_HEIGHT, INPUT_WIDTH))\n",
    "\n",
    "y_test = resize_images(test_df[\"seg\"], (INPUT_HEIGHT, INPUT_WIDTH))\n",
    "y_test = to_categorical(y_test, num_classes=NUM_CLASSES)"
   ]
  },
  {
   "cell_type": "markdown",
   "metadata": {},
   "source": [
    "Split data into training and validation sets"
   ]
  },
  {
   "cell_type": "code",
   "execution_count": null,
   "metadata": {
    "execution": {
     "iopub.execute_input": "2024-05-22T11:49:30.987678Z",
     "iopub.status.busy": "2024-05-22T11:49:30.987389Z",
     "iopub.status.idle": "2024-05-22T11:49:30.992469Z",
     "shell.execute_reply": "2024-05-22T11:49:30.991588Z",
     "shell.execute_reply.started": "2024-05-22T11:49:30.987652Z"
    },
    "trusted": true
   },
   "outputs": [],
   "source": [
    "X_valid = X_train[-VALIDATION_SIZE:]\n",
    "X_train = X_train[:-VALIDATION_SIZE]\n",
    "\n",
    "y_valid = y_train[-VALIDATION_SIZE:]\n",
    "y_train = y_train[:-VALIDATION_SIZE]"
   ]
  },
  {
   "cell_type": "markdown",
   "metadata": {},
   "source": [
    "The code selects the backbone architecture for the model and then pre-processes the input images for training, validation, and testing. These preprocessing steps are tailored to the chosen backbone architecture, ensuring compatibility and maximizing performance when integrated into the segmentation model."
   ]
  },
  {
   "cell_type": "code",
   "execution_count": null,
   "metadata": {
    "execution": {
     "iopub.execute_input": "2024-05-22T11:49:30.994675Z",
     "iopub.status.busy": "2024-05-22T11:49:30.993867Z",
     "iopub.status.idle": "2024-05-22T11:49:31.362616Z",
     "shell.execute_reply": "2024-05-22T11:49:31.36166Z",
     "shell.execute_reply.started": "2024-05-22T11:49:30.99465Z"
    },
    "trusted": true
   },
   "outputs": [],
   "source": [
    "BACKBONE = 'senet154'\n",
    "preprocess_input = sm.get_preprocessing(BACKBONE)\n",
    "\n",
    "X_train_prepr = preprocess_input(X_train)\n",
    "X_valid_prepr = preprocess_input(X_valid)\n",
    "X_test_prepr = preprocess_input(X_test)"
   ]
  },
  {
   "cell_type": "markdown",
   "metadata": {},
   "source": [
    "Metrics are initialized for use during training, including IOU Score and F-Score. Additionally, a loss function is defined to consider class weights. This function computes the weighted categorical cross-entropy loss, where the weights are applied to each class to address class imbalance."
   ]
  },
  {
   "cell_type": "code",
   "execution_count": null,
   "metadata": {
    "execution": {
     "iopub.execute_input": "2024-05-22T11:49:31.364138Z",
     "iopub.status.busy": "2024-05-22T11:49:31.363863Z",
     "iopub.status.idle": "2024-05-22T11:49:31.373333Z",
     "shell.execute_reply": "2024-05-22T11:49:31.372402Z",
     "shell.execute_reply.started": "2024-05-22T11:49:31.364115Z"
    },
    "trusted": true
   },
   "outputs": [],
   "source": [
    "metric1 = IOUScore()\n",
    "metric2 = FScore()\n",
    "\n",
    "def weighted_categorical_crossentropy(weights):    \n",
    "    weights = K.variable(weights)\n",
    "        \n",
    "    def loss(y_true, y_pred):\n",
    "        y_pred /= K.sum(y_pred, axis=-1, keepdims=True)\n",
    "        y_pred = K.clip(y_pred, K.epsilon(), 1 - K.epsilon())\n",
    "        loss = y_true * K.log(y_pred) * weights\n",
    "        loss = -K.sum(loss, -1)\n",
    "        return loss\n",
    "    \n",
    "    return loss\n",
    "\n",
    "loss_function = weighted_categorical_crossentropy([class_weights[i] for i in class_weights])"
   ]
  },
  {
   "cell_type": "markdown",
   "metadata": {},
   "source": [
    "### Example model training\n",
    "\n",
    "This code snippet, used for training, is provided in markdown format. It couldn't be executed in the Kaggle environment due to RAM limitations. Instead, it was run locally on a computer to train the model, which was then saved to use in kaggle.\n",
    "\n",
    "The model is initialized with the imagenet weights which should lead to faster convergence, better generalization and improved performance.\n",
    "\n",
    "**Initializing model**\n",
    "\n",
    "```python\n",
    "model = sm.PSPNet(\n",
    "    BACKBONE, \n",
    "    input_shape=(INPUT_HEIGHT, INPUT_WIDTH, 3), \n",
    "    encoder_weights='imagenet',\n",
    "    # encoder_freeze=True,\n",
    "    classes=NUM_CLASSES,\n",
    "    activation='softmax')\n",
    "\n",
    "model.compile(optimizer='adam', loss=loss_function, metrics=metrics)\n",
    "\n",
    "model.summary()\n",
    "```\n",
    "\n",
    "**Training model**\n",
    "\n",
    "```python\n",
    "history = model.fit(X_train_prepr,\n",
    "          y_train,\n",
    "          batch_size=16,\n",
    "          epochs=20,\n",
    "          verbose=1,\n",
    "          validation_data=(X_valid_prepr, y_valid))\n",
    "```\n",
    "\n",
    "**Visualization evolution accuracy**\n",
    "\n",
    "```python\n",
    "history = history\n",
    "accuracy = history.history['accuracy']\n",
    "val_accuracy = history.history['val_accuracy']\n",
    "epochs = range(1, len(accuracy) + 1)\n",
    "plt.plot(epochs, accuracy, 'y', label='Training Accuracy')\n",
    "plt.plot(epochs, val_accuracy, 'r', label='Validation Accuracy')\n",
    "plt.title('Training and validation Accuracy')\n",
    "plt.xlabel('Epochs')\n",
    "plt.ylabel('Accuracy')\n",
    "plt.legend()\n",
    "plt.show()\n",
    "```\n",
    "\n",
    "**Store model**\n",
    "```python\n",
    "model.save('models/pspnet_144_senet154_weighted.hdf5')\n",
    "```"
   ]
  },
  {
   "cell_type": "markdown",
   "metadata": {},
   "source": [
    "The following shows some test that were prefomed to select a good model/paramters:\n",
    "\n",
    "\n",
    "\n",
    "$Parameters:$\n",
    "It seems that the scores displayed are from an outdated metric where the Dice score was incorrectly implemented, including the background labels. Due to the lengthy training process, the test was not rerun. However, while not completely accurate, these scores can still provide some indication of whether the model has improved compared to previous iterations.\n",
    "\n",
    "Score is 0.8103525735077401 of the default Unet model with parameters:\n",
    "- batch_size = 16\n",
    "- optimizer = \"adam\"\n",
    "- loss = \"categorical_crossentropy\"\n",
    "- backbone = \"resnet23\"\n",
    "\n",
    "Different batch_size:\n",
    "- batch_size 32 -> 0.8106076033437526\n",
    "\n",
    "Different losses:\n",
    "- JacardLoss -> 0.7736489077342782\n",
    "- DiceLoss -> 0.2985855143416016\n",
    "- CategoricalCELoss -> 0.8121003589093242\n",
    "- CategoricalFocalLoss -> 0.8118274906110803\n",
    "\n",
    "Different backbones:\n",
    "- resnet101 -> 0.7864043769326835\n",
    "- seresnet34 -> 0.8032464194278462\n",
    "- seresnet101 -> 0.7946455987432236\n",
    "- senet154 -> 0.8236003400319645\n",
    "\n",
    "From this was concluded that following paramters would be used.\n",
    "- batch_size = 16\n",
    "- optimizer = \"adam\"\n",
    "- loss = \"CategoricalCELoss\"\n",
    "- backbone = \"senet154\"\n",
    "\n",
    "$Model architectures:$\n",
    "Here, various model architectures are compared using the Dice score, with the correct implementation of the metric. Additionally, different input sizes are tested to evaluate their impact on performance. Resnet34 is used as backbone for these tests.\n",
    "\n",
    "(model input_size)\n",
    "- FPN 128 -> 0.06303106749221483\n",
    "- FPN 160 -> 0.07985550085840774\n",
    "\n",
    "- Unet 128 -> 0.08788949658979335\n",
    "- Unet 160 -> 0.07933247285693656\n",
    "\n",
    "- Linknet 128 -> 0.06549286697881271\n",
    "- Linknet 160 -> 0.08647424310709693\n",
    "\n",
    "- PSPNet 144 -> 0.09058090617129505\n",
    "\n",
    "From these tests the PSPNet archictectured performed the best, this is the model that was used in the rest of this notebook.\n",
    "The code below is the model trained by the example code shown above."
   ]
  },
  {
   "cell_type": "markdown",
   "metadata": {},
   "source": [
    "Loading locally trained model in keras"
   ]
  },
  {
   "cell_type": "code",
   "execution_count": null,
   "metadata": {
    "execution": {
     "iopub.execute_input": "2024-05-22T11:49:31.375253Z",
     "iopub.status.busy": "2024-05-22T11:49:31.37464Z",
     "iopub.status.idle": "2024-05-22T11:49:42.942781Z",
     "shell.execute_reply": "2024-05-22T11:49:42.941998Z",
     "shell.execute_reply.started": "2024-05-22T11:49:31.375221Z"
    },
    "trusted": true
   },
   "outputs": [],
   "source": [
    "model = load_model('/kaggle/input/pspnet/keras/144-senet154/1/pspnet_144_senet154_backbone.hdf5') # loading model..."
   ]
  },
  {
   "attachments": {
    "ed22f2a2-6b58-466e-8764-d5c2930d8d7e.jpg": {
     "image/jpeg": "[encoded data removed]"
    }
   },
   "cell_type": "markdown",
   "metadata": {},
   "source": [
    "The loaded model is a PSPNet (Pyramid Scene Parsing Network), a semantic segmentation model that employs a pyramid parsing module to leverage global context information through different-region based context aggregation. This combination of local and global clues enhances the reliability of the final prediction.\n",
    "\n",
    "Given an input image of size (144, 144), PSPNet uses a pretrained CNN (senet154) with a dilated network strategy to extract the feature map. The resulting feature map retains the dimensions of the input image. A pyramid pooling module is then applied on top of this map to gather context information. This prior is concatenated with the original feature map in the final stage, followed by a convolution layer to generate the final prediction map.\n",
    "\n",
    "![new_pspnet-eps-converted-to-small.jpg](attachment:ed22f2a2-6b58-466e-8764-d5c2930d8d7e.jpg)"
   ]
  },
  {
   "cell_type": "markdown",
   "metadata": {},
   "source": [
    "The following code uses the model to make predictions on the validation set and converts them back to the desired format from the categorical format."
   ]
  },
  {
   "cell_type": "code",
   "execution_count": null,
   "metadata": {
    "execution": {
     "iopub.execute_input": "2024-05-22T11:49:42.947264Z",
     "iopub.status.busy": "2024-05-22T11:49:42.946941Z",
     "iopub.status.idle": "2024-05-22T11:50:39.021243Z",
     "shell.execute_reply": "2024-05-22T11:50:39.020458Z",
     "shell.execute_reply.started": "2024-05-22T11:49:42.947235Z"
    },
    "trusted": true
   },
   "outputs": [],
   "source": [
    "y_pred=model.predict(X_valid_prepr)\n",
    "y_pred_argmax=np.argmax(y_pred, axis=3)\n",
    "y_valid_argmax=np.argmax(y_valid, axis=3)"
   ]
  },
  {
   "cell_type": "markdown",
   "metadata": {},
   "source": [
    "Dice score calculated on the raw predictions from the model:"
   ]
  },
  {
   "cell_type": "code",
   "execution_count": null,
   "metadata": {
    "execution": {
     "iopub.execute_input": "2024-05-22T11:50:39.022851Z",
     "iopub.status.busy": "2024-05-22T11:50:39.022462Z",
     "iopub.status.idle": "2024-05-22T11:50:39.045744Z",
     "shell.execute_reply": "2024-05-22T11:50:39.044758Z",
     "shell.execute_reply.started": "2024-05-22T11:50:39.022813Z"
    },
    "trusted": true
   },
   "outputs": [],
   "source": [
    "score = np.mean([dice_score(y_valid_argmax[i], y_pred_argmax[i]) for i in range(VALIDATION_SIZE)])\n",
    "print(f\"Dice score is {score}\")"
   ]
  },
  {
   "cell_type": "markdown",
   "metadata": {},
   "source": [
    "To see how the model perfoms a random image is selected from the validation dataset and the predicted segmentation mask is plotted."
   ]
  },
  {
   "cell_type": "code",
   "execution_count": null,
   "metadata": {
    "execution": {
     "iopub.execute_input": "2024-05-22T11:50:39.04744Z",
     "iopub.status.busy": "2024-05-22T11:50:39.047076Z",
     "iopub.status.idle": "2024-05-22T11:50:55.174545Z",
     "shell.execute_reply": "2024-05-22T11:50:55.173625Z",
     "shell.execute_reply.started": "2024-05-22T11:50:39.047408Z"
    },
    "trusted": true
   },
   "outputs": [],
   "source": [
    "img_number = 0\n",
    "img = X_valid[img_number]\n",
    "ground_truth = y_valid_argmax[img_number]\n",
    "\n",
    "img_input = X_valid_prepr[img_number]\n",
    "img_input=np.expand_dims(img_input, 0)\n",
    "prediction = (model.predict(img_input))\n",
    "predicted_img=np.argmax(prediction, axis=3)[0,:,:]\n",
    "\n",
    "plt.title('Testing Image')\n",
    "plt.imshow(img/255)\n",
    "plt.show()\n",
    "\n",
    "print('Testing Label')\n",
    "plot_mask(ground_truth)\n",
    "\n",
    "print('Prediction on test image')\n",
    "plot_mask(predicted_img)"
   ]
  },
  {
   "cell_type": "markdown",
   "metadata": {},
   "source": [
    "Prediction are now given in the choosen image size of the input, following codes resizes these predictions to the same size of the corresponding image."
   ]
  },
  {
   "cell_type": "code",
   "execution_count": null,
   "metadata": {
    "execution": {
     "iopub.execute_input": "2024-05-22T11:50:55.17673Z",
     "iopub.status.busy": "2024-05-22T11:50:55.17596Z",
     "iopub.status.idle": "2024-05-22T11:50:55.226355Z",
     "shell.execute_reply": "2024-05-22T11:50:55.225441Z",
     "shell.execute_reply.started": "2024-05-22T11:50:55.176695Z"
    },
    "trusted": true
   },
   "outputs": [],
   "source": [
    "validation_predictions = np.empty(VALIDATION_SIZE, dtype=object)\n",
    "for i, image in enumerate(train_df[\"img\"][-VALIDATION_SIZE:]):\n",
    "    validation_predictions[i] = resize_images([y_pred_argmax[i]], (image.shape[1], image.shape[0]))[0].astype(np.uint8)\n",
    "\n",
    "validation_predictions.shape"
   ]
  },
  {
   "cell_type": "markdown",
   "metadata": {},
   "source": [
    "Dice score after resizing:"
   ]
  },
  {
   "cell_type": "code",
   "execution_count": null,
   "metadata": {
    "execution": {
     "iopub.execute_input": "2024-05-22T11:50:55.228298Z",
     "iopub.status.busy": "2024-05-22T11:50:55.227607Z",
     "iopub.status.idle": "2024-05-22T11:50:55.285774Z",
     "shell.execute_reply": "2024-05-22T11:50:55.284779Z",
     "shell.execute_reply.started": "2024-05-22T11:50:55.228265Z"
    },
    "trusted": true
   },
   "outputs": [],
   "source": [
    "score = np.mean([dice_score(train_df.at[len(train_df)-VALIDATION_SIZE+i, \"seg\"], validation_predictions[i]) for i in range(VALIDATION_SIZE)])\n",
    "print(f\"Dice score is {score}\")"
   ]
  },
  {
   "cell_type": "markdown",
   "metadata": {},
   "source": [
    "By making a cofunsion matrix that visualised the predictions made for segmentation compared to the true labels gives a good insight in how the model performs. From the matrix can be observed that the model is good in predicting the labels for an airplane but isn't able to correctly label a chair."
   ]
  },
  {
   "cell_type": "code",
   "execution_count": null,
   "metadata": {
    "execution": {
     "iopub.execute_input": "2024-05-22T11:50:55.287958Z",
     "iopub.status.busy": "2024-05-22T11:50:55.287142Z",
     "iopub.status.idle": "2024-05-22T11:51:06.642297Z",
     "shell.execute_reply": "2024-05-22T11:51:06.641369Z",
     "shell.execute_reply.started": "2024-05-22T11:50:55.287923Z"
    },
    "trusted": true
   },
   "outputs": [],
   "source": [
    "true_labels = np.array([value for row in train_df[\"seg\"].tail(VALIDATION_SIZE) for value in row.flatten()])\n",
    "predicted_labels = np.array([value for row in validation_predictions for value in row.flatten()])\n",
    "\n",
    "import matplotlib.pyplot as plt\n",
    "import seaborn as sns\n",
    "from sklearn import metrics\n",
    "\n",
    "segmentation_labels = [\"background\"]\n",
    "segmentation_labels.extend(train_df.columns[:-2])\n",
    "\n",
    "confusion_matrix = metrics.confusion_matrix(true_labels, predicted_labels, normalize=\"pred\")\n",
    "confusion_matrix_df = pd.DataFrame(confusion_matrix, index=segmentation_labels, columns=segmentation_labels)\n",
    "\n",
    "plt.figure(figsize=(10, 8))\n",
    "sns.heatmap(confusion_matrix_df, annot=True, fmt=\".2f\", cmap='Blues', cbar=False,\n",
    "            xticklabels=segmentation_labels, yticklabels=segmentation_labels, annot_kws={\"size\": 10})\n",
    "\n",
    "plt.xlabel('Predicted Labels', fontsize=12)\n",
    "plt.ylabel('True Labels', fontsize=12)\n",
    "plt.title('Confusion Matrix', fontsize=15)\n",
    "\n",
    "plt.xticks(rotation=45, ha='right', fontsize=10)\n",
    "plt.yticks(fontsize=10)\n",
    "\n",
    "plt.tight_layout()\n",
    "plt.show()"
   ]
  },
  {
   "cell_type": "markdown",
   "metadata": {},
   "source": [
    "In some cases, the predicted masks may contain incorrect sections from labels of objects that are not present in the image. To address this issue, ground truth classifications are utilized to replace these labels. This replacement involves assigning either the label of the background or the label of a neighboring section that corresponds to an object in the image. For testing purposes, the ground truth predictions are used. However, in practice, these labels would typically be predicted by another model before being utilized. Following code implements an algorithm to achieve this goal."
   ]
  },
  {
   "cell_type": "code",
   "execution_count": null,
   "metadata": {
    "execution": {
     "iopub.execute_input": "2024-05-22T11:51:06.644322Z",
     "iopub.status.busy": "2024-05-22T11:51:06.643642Z",
     "iopub.status.idle": "2024-05-22T11:51:06.655395Z",
     "shell.execute_reply": "2024-05-22T11:51:06.654573Z",
     "shell.execute_reply.started": "2024-05-22T11:51:06.64428Z"
    },
    "trusted": true
   },
   "outputs": [],
   "source": [
    "def get_neighbors(row, col, matrix):\n",
    "    # Get the dimensions of the matrix\n",
    "    rows, cols = matrix.shape\n",
    "\n",
    "    # Define the relative positions of the neighbors\n",
    "    neighbors_offsets = [(-1, -1), (-1, 0), (-1, 1),\n",
    "                         (0, -1),         (0, 1),\n",
    "                         (1, -1), (1, 0), (1, 1)]\n",
    "    \n",
    "    neighbors = []\n",
    "    \n",
    "    for dr, dc in neighbors_offsets:\n",
    "        r, c = row + dr, col + dc\n",
    "        if 0 <= r < rows and 0 <= c < cols:\n",
    "            neighbors.append(matrix[r, c])\n",
    "    \n",
    "    return neighbors\n",
    "    \n",
    "def correct_segmentation_mask(predicted_mask, predicted_labels):\n",
    "    corrected_mask = predicted_mask.copy().astype(int)\n",
    "    invalid_mask = ~np.isin(corrected_mask, np.concatenate((predicted_labels, [0])))\n",
    "    corrected_mask[invalid_mask] = -1\n",
    "\n",
    "    changes = 1\n",
    "    while changes != 0:\n",
    "        changes = 0\n",
    "        coords = np.argwhere(corrected_mask == -1)\n",
    "        np.random.shuffle(coords)  # Shuffle to ensure random selection from valid neighbors\n",
    "        \n",
    "        for coord in coords:\n",
    "            row, col = coord\n",
    "            neighbors = get_neighbors(row, col, corrected_mask)\n",
    "            valid_neighbors = [n for n in neighbors if n in predicted_labels]\n",
    "            if valid_neighbors:\n",
    "                corrected_mask[row, col] = random.choice(valid_neighbors)\n",
    "                changes += 1\n",
    "\n",
    "    corrected_mask[corrected_mask == -1] = 0\n",
    "\n",
    "    return corrected_mask.astype(np.uint8)   "
   ]
  },
  {
   "cell_type": "markdown",
   "metadata": {},
   "source": [
    "The following code blocks showcase this algorithm applied to a test image."
   ]
  },
  {
   "cell_type": "code",
   "execution_count": null,
   "metadata": {
    "execution": {
     "iopub.execute_input": "2024-05-22T11:51:06.656651Z",
     "iopub.status.busy": "2024-05-22T11:51:06.656413Z",
     "iopub.status.idle": "2024-05-22T11:51:06.672928Z",
     "shell.execute_reply": "2024-05-22T11:51:06.672252Z",
     "shell.execute_reply.started": "2024-05-22T11:51:06.65663Z"
    },
    "trusted": true
   },
   "outputs": [],
   "source": [
    "val_index = 0\n",
    "index = val_index - VALIDATION_SIZE + len(train_df)"
   ]
  },
  {
   "cell_type": "code",
   "execution_count": null,
   "metadata": {
    "execution": {
     "iopub.execute_input": "2024-05-22T11:51:06.674164Z",
     "iopub.status.busy": "2024-05-22T11:51:06.673916Z",
     "iopub.status.idle": "2024-05-22T11:51:07.174713Z",
     "shell.execute_reply": "2024-05-22T11:51:07.173762Z",
     "shell.execute_reply.started": "2024-05-22T11:51:06.674135Z"
    },
    "trusted": true
   },
   "outputs": [],
   "source": [
    "plot_mask(train_df.at[index, \"seg\"])"
   ]
  },
  {
   "cell_type": "code",
   "execution_count": null,
   "metadata": {
    "execution": {
     "iopub.execute_input": "2024-05-22T11:51:07.17636Z",
     "iopub.status.busy": "2024-05-22T11:51:07.176066Z",
     "iopub.status.idle": "2024-05-22T11:51:07.728254Z",
     "shell.execute_reply": "2024-05-22T11:51:07.727344Z",
     "shell.execute_reply.started": "2024-05-22T11:51:07.176335Z"
    },
    "trusted": true
   },
   "outputs": [],
   "source": [
    "plot_mask(validation_predictions[val_index])"
   ]
  },
  {
   "cell_type": "code",
   "execution_count": null,
   "metadata": {
    "execution": {
     "iopub.execute_input": "2024-05-22T11:51:07.730358Z",
     "iopub.status.busy": "2024-05-22T11:51:07.729695Z",
     "iopub.status.idle": "2024-05-22T11:51:18.945011Z",
     "shell.execute_reply": "2024-05-22T11:51:18.944073Z",
     "shell.execute_reply.started": "2024-05-22T11:51:07.730322Z"
    },
    "trusted": true
   },
   "outputs": [],
   "source": [
    "predicted_labels = np.where(train_df.loc[index][:NUM_CLASSES-1] == 1)[0] + 1\n",
    "\n",
    "print(predicted_labels)\n",
    "\n",
    "corrected_predicition = correct_segmentation_mask(validation_predictions[val_index], predicted_labels)\n",
    "\n",
    "plot_mask(corrected_predicition)"
   ]
  },
  {
   "cell_type": "markdown",
   "metadata": {},
   "source": [
    "Now this algorithm can be applied to all predictions of the validation set to improve the accuracy of the segmentation."
   ]
  },
  {
   "cell_type": "code",
   "execution_count": null,
   "metadata": {
    "execution": {
     "iopub.execute_input": "2024-05-22T11:51:18.947013Z",
     "iopub.status.busy": "2024-05-22T11:51:18.946621Z",
     "iopub.status.idle": "2024-05-22T11:58:05.7486Z",
     "shell.execute_reply": "2024-05-22T11:58:05.74777Z",
     "shell.execute_reply.started": "2024-05-22T11:51:18.94698Z"
    },
    "trusted": true
   },
   "outputs": [],
   "source": [
    "corrected_validation_predictions = [] \n",
    "for i in range(VALIDATION_SIZE):\n",
    "    predicted_labels = np.where(train_df.loc[i - VALIDATION_SIZE + len(train_df)][:NUM_CLASSES-1] == 1)[0] + 1\n",
    "    corrected_prediction = correct_segmentation_mask(validation_predictions[i], predicted_labels)\n",
    "    corrected_validation_predictions.append(corrected_prediction)"
   ]
  },
  {
   "cell_type": "markdown",
   "metadata": {},
   "source": [
    "Dice score after filtering/changing labels of the segmentation predictions by utilizing the classification labels:"
   ]
  },
  {
   "cell_type": "code",
   "execution_count": null,
   "metadata": {
    "execution": {
     "iopub.execute_input": "2024-05-22T11:58:05.750049Z",
     "iopub.status.busy": "2024-05-22T11:58:05.749762Z",
     "iopub.status.idle": "2024-05-22T11:58:05.804623Z",
     "shell.execute_reply": "2024-05-22T11:58:05.803708Z",
     "shell.execute_reply.started": "2024-05-22T11:58:05.750025Z"
    },
    "trusted": true
   },
   "outputs": [],
   "source": [
    "score = np.mean([dice_score(train_df.at[len(train_df)-VALIDATION_SIZE+i, \"seg\"], corrected_validation_predictions[i]) for i in range(VALIDATION_SIZE)])\n",
    "print(f\"Dice score is {score}\")"
   ]
  },
  {
   "cell_type": "markdown",
   "metadata": {},
   "source": [
    "Comparing the confusion matrix with before can be observerd that a lott less missclassification are happening between the object labels."
   ]
  },
  {
   "cell_type": "code",
   "execution_count": null,
   "metadata": {
    "execution": {
     "iopub.execute_input": "2024-05-22T11:58:05.806335Z",
     "iopub.status.busy": "2024-05-22T11:58:05.805933Z",
     "iopub.status.idle": "2024-05-22T11:58:16.892193Z",
     "shell.execute_reply": "2024-05-22T11:58:16.891267Z",
     "shell.execute_reply.started": "2024-05-22T11:58:05.806292Z"
    },
    "trusted": true
   },
   "outputs": [],
   "source": [
    "true_labels = np.array([value for row in train_df[\"seg\"].tail(VALIDATION_SIZE) for value in row.flatten()])\n",
    "predicted_labels = np.array([value for row in corrected_validation_predictions for value in row.flatten()])\n",
    "\n",
    "import matplotlib.pyplot as plt\n",
    "import seaborn as sns\n",
    "from sklearn import metrics\n",
    "\n",
    "segmentation_labels = [\"background\"]\n",
    "segmentation_labels.extend(train_df.columns[:-2])\n",
    "\n",
    "confusion_matrix = metrics.confusion_matrix(true_labels, predicted_labels, normalize=\"pred\")\n",
    "confusion_matrix_df = pd.DataFrame(confusion_matrix, index=segmentation_labels, columns=segmentation_labels)\n",
    "\n",
    "plt.figure(figsize=(10, 8))\n",
    "sns.heatmap(confusion_matrix_df, annot=True, fmt=\".2f\", cmap='Blues', cbar=False,\n",
    "            xticklabels=segmentation_labels, yticklabels=segmentation_labels, annot_kws={\"size\": 10})\n",
    "\n",
    "plt.xlabel('Predicted Labels', fontsize=12)\n",
    "plt.ylabel('True Labels', fontsize=12)\n",
    "plt.title('Confusion Matrix', fontsize=15)\n",
    "\n",
    "plt.xticks(rotation=45, ha='right', fontsize=10)\n",
    "plt.yticks(fontsize=10)\n",
    "\n",
    "plt.tight_layout()\n",
    "plt.show()"
   ]
  },
  {
   "cell_type": "markdown",
   "metadata": {},
   "source": [
    "To further improve the model's results, several strategies can be employed:\n",
    "\n",
    "1. **Weighted Loss Function**: Using a weighted loss function during training helps address the model's bias towards frequently occurring labels, such as the background. Implementing this approach has shown to improve the Dice score to 0.3756918497153965 on the validation set. Additionally, the Dice score further increases to 0.4993404081846432 after post-processing the labels with predictions from a multi-classification model.\n",
    "\n",
    "2. **Larger Input Images**: Increasing the size of the input images allows the model to learn more detailed information from the images. However, this approach will require more epochs for training as it becomes more challenging to fine-tune the weights.\n",
    "\n",
    "3. **Using the Full Training Set**: Training on the entire dataset without splitting it can also enhance the model's performance, as it leverages all available data for learning.\n",
    "\n",
    "By implementing these strategies, the overall performance of the model can be further improved. But after adding the weighed loss function to the model it wasn't possible to load the model in kaggle anymore due to an error. This error didn't occur when loading the model on the local machine."
   ]
  },
  {
   "cell_type": "markdown",
   "metadata": {},
   "source": [
    "## DETECTRON panoptic segmentation"
   ]
  },
  {
   "cell_type": "markdown",
   "metadata": {},
   "source": [
    "The next part implements a panoptic segmentation model developed by facebook called detectron2 (https://github.com/facebookresearch/detr?tab=readme-ov-file). Panoptic segmentation is a combination of semantic segmentation and instance segmentation. This method provides a comprehensive understanding of the scene by segmenting the image into semantically meaningful parts or regions, while also detecting and distinguishing individual instances of objects within those regions. The dectron model is trained with the COCO dataset which contains 250 different labels which all overlap with the 20 labels from the PASCAL VOC dataset."
   ]
  },
  {
   "cell_type": "code",
   "execution_count": null,
   "metadata": {
    "execution": {
     "iopub.execute_input": "2024-05-22T11:58:16.8941Z",
     "iopub.status.busy": "2024-05-22T11:58:16.893697Z",
     "iopub.status.idle": "2024-05-22T11:58:16.913446Z",
     "shell.execute_reply": "2024-05-22T11:58:16.912431Z",
     "shell.execute_reply.started": "2024-05-22T11:58:16.89405Z"
    },
    "trusted": true
   },
   "outputs": [],
   "source": [
    "from PIL import Image\n",
    "import requests\n",
    "import io\n",
    "import math\n",
    "import matplotlib.pyplot as plt\n",
    "%config InlineBackend.figure_format = 'retina'\n",
    "\n",
    "import torch\n",
    "from torch import nn\n",
    "from torchvision.models import resnet50\n",
    "import torchvision.transforms as T\n",
    "import numpy\n",
    "torch.set_grad_enabled(False);"
   ]
  },
  {
   "cell_type": "code",
   "execution_count": null,
   "metadata": {
    "execution": {
     "iopub.execute_input": "2024-05-22T11:58:16.915076Z",
     "iopub.status.busy": "2024-05-22T11:58:16.914684Z",
     "iopub.status.idle": "2024-05-22T12:00:51.877854Z",
     "shell.execute_reply": "2024-05-22T12:00:51.874932Z",
     "shell.execute_reply.started": "2024-05-22T11:58:16.915042Z"
    },
    "trusted": true
   },
   "outputs": [],
   "source": [
    "!pip install git+https://github.com/cocodataset/panopticapi.git\n",
    "!python -m pip install 'git+https://github.com/facebookresearch/detectron2.git'"
   ]
  },
  {
   "cell_type": "code",
   "execution_count": null,
   "metadata": {
    "execution": {
     "iopub.execute_input": "2024-05-22T12:00:51.882842Z",
     "iopub.status.busy": "2024-05-22T12:00:51.882558Z",
     "iopub.status.idle": "2024-05-22T12:00:51.896362Z",
     "shell.execute_reply": "2024-05-22T12:00:51.895623Z",
     "shell.execute_reply.started": "2024-05-22T12:00:51.882812Z"
    },
    "trusted": true
   },
   "outputs": [],
   "source": [
    "import panopticapi\n",
    "from panopticapi.utils import id2rgb, rgb2id"
   ]
  },
  {
   "cell_type": "markdown",
   "metadata": {},
   "source": [
    "Downloading the detectron model from facebook and assigning the GPU to use for this model."
   ]
  },
  {
   "cell_type": "code",
   "execution_count": null,
   "metadata": {
    "execution": {
     "iopub.execute_input": "2024-05-22T12:00:51.897655Z",
     "iopub.status.busy": "2024-05-22T12:00:51.897377Z",
     "iopub.status.idle": "2024-05-22T12:00:57.918239Z",
     "shell.execute_reply": "2024-05-22T12:00:57.917446Z",
     "shell.execute_reply.started": "2024-05-22T12:00:51.897614Z"
    },
    "trusted": true
   },
   "outputs": [],
   "source": [
    "model, postprocessor = torch.hub.load('facebookresearch/detr', 'detr_resnet101_panoptic', pretrained=True, return_postprocessor=True, num_classes=250)\n",
    "\n",
    "device = torch.device('cuda:1' if torch.cuda.is_available() else 'cpu')\n",
    "model = model.to(device)\n",
    "\n",
    "model.eval();"
   ]
  },
  {
   "cell_type": "code",
   "execution_count": null,
   "metadata": {
    "execution": {
     "iopub.execute_input": "2024-05-22T12:00:57.933152Z",
     "iopub.status.busy": "2024-05-22T12:00:57.932866Z",
     "iopub.status.idle": "2024-05-22T12:00:57.93811Z",
     "shell.execute_reply": "2024-05-22T12:00:57.937256Z",
     "shell.execute_reply.started": "2024-05-22T12:00:57.933128Z"
    },
    "trusted": true
   },
   "outputs": [],
   "source": [
    "# standard PyTorch mean-std input image normalization\n",
    "transform = T.Compose([\n",
    "    T.Resize(800),\n",
    "    T.ToTensor(),\n",
    "    T.Normalize([0.485, 0.456, 0.406], [0.229, 0.224, 0.225])\n",
    "])\n",
    "\n"
   ]
  },
  {
   "cell_type": "markdown",
   "metadata": {},
   "source": [
    "The following list contains the labels from the COCO dataset as strings, positioned such that each index corresponds to the same label in the PASCAL VOC dataset. This array is used to convert the labels between these two representations."
   ]
  },
  {
   "cell_type": "code",
   "execution_count": null,
   "metadata": {
    "execution": {
     "iopub.execute_input": "2024-05-22T12:00:57.939925Z",
     "iopub.status.busy": "2024-05-22T12:00:57.939601Z",
     "iopub.status.idle": "2024-05-22T12:00:57.948675Z",
     "shell.execute_reply": "2024-05-22T12:00:57.947752Z",
     "shell.execute_reply.started": "2024-05-22T12:00:57.939895Z"
    },
    "trusted": true
   },
   "outputs": [],
   "source": [
    "CLASSES = [\n",
    "    'N/A',\n",
    "    'airplane',\n",
    "    'bicycle',\n",
    "    'bird',\n",
    "    'boat',\n",
    "    'bottle',\n",
    "    'bus',\n",
    "    'car',\n",
    "    'cat',\n",
    "    'chair',\n",
    "    'cow',\n",
    "    'dining table',\n",
    "    'dog',\n",
    "    'horse',\n",
    "    'motorcycle',\n",
    "    'person',\n",
    "    'potted plant',\n",
    "    'sheep',\n",
    "    'couch',\n",
    "    'train',\n",
    "    'tv'\n",
    "]"
   ]
  },
  {
   "cell_type": "markdown",
   "metadata": {},
   "source": [
    "The next code block contains a function that goes thruth each label of the predicted mask and converts is from the COCO format predicted by the detectron model to the desired format that corresponds to the PASCAL VOC dataset.\n"
   ]
  },
  {
   "cell_type": "code",
   "execution_count": null,
   "metadata": {
    "execution": {
     "iopub.execute_input": "2024-05-22T12:00:57.951748Z",
     "iopub.status.busy": "2024-05-22T12:00:57.949784Z",
     "iopub.status.idle": "2024-05-22T12:00:58.43859Z",
     "shell.execute_reply": "2024-05-22T12:00:58.437706Z",
     "shell.execute_reply.started": "2024-05-22T12:00:57.951722Z"
    },
    "trusted": true
   },
   "outputs": [],
   "source": [
    "from detectron2.data import MetadataCatalog\n",
    "import numpy as np\n",
    "\n",
    "meta = MetadataCatalog.get(\"coco_2017_val_panoptic_separated\")\n",
    "\n",
    "def convert_categories(index):\n",
    "  if index < len(result[\"segments_info\"]):\n",
    "    c = result[\"segments_info\"][index][\"category_id\"]\n",
    "    label = meta.thing_classes[meta.thing_dataset_id_to_contiguous_id[c]] if result[\"segments_info\"][index][\"isthing\"] else meta.stuff_classes[meta.stuff_dataset_id_to_contiguous_id[c]]\n",
    "    return CLASSES.index(label) if label in CLASSES else 0\n",
    "  else:\n",
    "    return 0\n",
    "\n",
    "vectorized_convert_categories = np.vectorize(convert_categories)"
   ]
  },
  {
   "cell_type": "markdown",
   "metadata": {},
   "source": [
    "Now that it's possible to convert between formats it's possible to make predictions on the validation set and convert these to the desired format."
   ]
  },
  {
   "cell_type": "code",
   "execution_count": null,
   "metadata": {
    "execution": {
     "iopub.execute_input": "2024-05-22T12:00:58.440428Z",
     "iopub.status.busy": "2024-05-22T12:00:58.440041Z",
     "iopub.status.idle": "2024-05-22T12:03:32.184371Z",
     "shell.execute_reply": "2024-05-22T12:03:32.183255Z",
     "shell.execute_reply.started": "2024-05-22T12:00:58.4404Z"
    },
    "trusted": true
   },
   "outputs": [],
   "source": [
    "validation_predictions = np.empty(VALIDATION_SIZE, dtype=object)\n",
    "for i in range(VALIDATION_SIZE):\n",
    "  im = Image.fromarray(train_df.at[len(train_df)-VALIDATION_SIZE+i, \"img\"])\n",
    "\n",
    "  img = transform(im).unsqueeze(0).to(device)\n",
    "  out = model(img)\n",
    "\n",
    "  result = postprocessor(out, torch.as_tensor(img.shape[-2:]).unsqueeze(0))[0]\n",
    "\n",
    "  panoptic_seg = Image.open(io.BytesIO(result['png_string']))\n",
    "  panoptic_seg = numpy.array(panoptic_seg, dtype=numpy.uint8).copy()\n",
    "    \n",
    "  mask = vectorized_convert_categories(panoptic_seg[:,:,0])\n",
    "    \n",
    "  validation_predictions[i] =  cv2.resize(mask.astype(np.uint8), im.size, interpolation=cv2.INTER_NEAREST)\n",
    "\n",
    "  print(f\"DETR segmentation progress (validation) {i+1}/{VALIDATION_SIZE}\", end=\"\\r\")"
   ]
  },
  {
   "cell_type": "markdown",
   "metadata": {},
   "source": [
    "Calculating the dice score from the predictions made by the detectron model on the validation set gives a very good score. "
   ]
  },
  {
   "cell_type": "code",
   "execution_count": null,
   "metadata": {
    "execution": {
     "iopub.execute_input": "2024-05-22T12:03:32.186159Z",
     "iopub.status.busy": "2024-05-22T12:03:32.185827Z",
     "iopub.status.idle": "2024-05-22T12:03:32.255495Z",
     "shell.execute_reply": "2024-05-22T12:03:32.254506Z",
     "shell.execute_reply.started": "2024-05-22T12:03:32.18612Z"
    },
    "trusted": true
   },
   "outputs": [],
   "source": [
    "score = np.mean([dice_score(train_df.at[len(train_df)-VALIDATION_SIZE+i, \"seg\"], validation_predictions[i]) for i in range(VALIDATION_SIZE)])\n",
    "print(f\"Dice score is {score}\")"
   ]
  },
  {
   "cell_type": "markdown",
   "metadata": {},
   "source": [
    "From the confusion matrix can be observed that in general the model performance good, the model has the most difficulties for predicting the labels for chairs, bottles and bikes."
   ]
  },
  {
   "cell_type": "code",
   "execution_count": null,
   "metadata": {
    "execution": {
     "iopub.execute_input": "2024-05-22T12:03:32.257908Z",
     "iopub.status.busy": "2024-05-22T12:03:32.256967Z",
     "iopub.status.idle": "2024-05-22T12:03:43.753057Z",
     "shell.execute_reply": "2024-05-22T12:03:43.752085Z",
     "shell.execute_reply.started": "2024-05-22T12:03:32.25786Z"
    },
    "trusted": true
   },
   "outputs": [],
   "source": [
    "true_labels = np.array([value for row in train_df[\"seg\"].tail(VALIDATION_SIZE) for value in row.flatten()])\n",
    "predicted_labels = np.array([value for row in validation_predictions for value in row.flatten()])\n",
    "\n",
    "import matplotlib.pyplot as plt\n",
    "import seaborn as sns\n",
    "from sklearn import metrics\n",
    "\n",
    "segmentation_labels = [\"background\"]\n",
    "segmentation_labels.extend(train_df.columns[:-2])\n",
    "\n",
    "confusion_matrix = metrics.confusion_matrix(true_labels, predicted_labels, normalize=\"pred\")\n",
    "confusion_matrix_df = pd.DataFrame(confusion_matrix, index=segmentation_labels, columns=segmentation_labels)\n",
    "\n",
    "plt.figure(figsize=(10, 8))\n",
    "sns.heatmap(confusion_matrix_df, annot=True, fmt=\".2f\", cmap='Blues', cbar=False,\n",
    "            xticklabels=segmentation_labels, yticklabels=segmentation_labels, annot_kws={\"size\": 10})\n",
    "\n",
    "plt.xlabel('Predicted Labels', fontsize=12)\n",
    "plt.ylabel('True Labels', fontsize=12)\n",
    "plt.title('Confusion Matrix', fontsize=15)\n",
    "\n",
    "plt.xticks(rotation=45, ha='right', fontsize=10)\n",
    "plt.yticks(fontsize=10)\n",
    "\n",
    "plt.tight_layout()\n",
    "plt.show()"
   ]
  },
  {
   "cell_type": "markdown",
   "metadata": {},
   "source": [
    "Now the same method can be applied to the test set to use for the submission."
   ]
  },
  {
   "cell_type": "code",
   "execution_count": null,
   "metadata": {
    "execution": {
     "iopub.execute_input": "2024-05-22T12:03:43.754946Z",
     "iopub.status.busy": "2024-05-22T12:03:43.754485Z",
     "iopub.status.idle": "2024-05-22T12:22:55.659084Z",
     "shell.execute_reply": "2024-05-22T12:22:55.658022Z",
     "shell.execute_reply.started": "2024-05-22T12:03:43.754909Z"
    },
    "trusted": true
   },
   "outputs": [],
   "source": [
    "test_predictions = np.empty(len(test_df), dtype=object)\n",
    "for i in range(len(test_df)):\n",
    "  im = Image.fromarray(test_df.at[i, \"img\"])\n",
    "\n",
    "  img = transform(im).unsqueeze(0).to(device)\n",
    "  out = model(img)\n",
    "\n",
    "  result = postprocessor(out, torch.as_tensor(img.shape[-2:]).unsqueeze(0))[0]\n",
    "\n",
    "  panoptic_seg = Image.open(io.BytesIO(result['png_string']))\n",
    "  panoptic_seg = numpy.array(panoptic_seg, dtype=numpy.uint8).copy()\n",
    "    \n",
    "  mask = vectorized_convert_categories(panoptic_seg[:,:,0])\n",
    "    \n",
    "  test_predictions[i] =  cv2.resize(mask.astype(np.uint8), im.size, interpolation=cv2.INTER_NEAREST)\n",
    "\n",
    "  print(f\"DETR segmentation progress (test) {i+1}/{len(test_df)}\", end=\"\\r\")"
   ]
  },
  {
   "cell_type": "code",
   "execution_count": null,
   "metadata": {
    "execution": {
     "iopub.execute_input": "2024-05-22T12:22:55.660814Z",
     "iopub.status.busy": "2024-05-22T12:22:55.660506Z",
     "iopub.status.idle": "2024-05-22T12:22:55.666724Z",
     "shell.execute_reply": "2024-05-22T12:22:55.665719Z",
     "shell.execute_reply.started": "2024-05-22T12:22:55.660787Z"
    },
    "trusted": true
   },
   "outputs": [],
   "source": [
    "detr_predict_df[\"seg\"] = test_predictions "
   ]
  },
  {
   "cell_type": "code",
   "execution_count": null,
   "metadata": {
    "execution": {
     "iopub.execute_input": "2024-05-22T12:22:55.668081Z",
     "iopub.status.busy": "2024-05-22T12:22:55.667812Z",
     "iopub.status.idle": "2024-05-22T12:23:12.441018Z",
     "shell.execute_reply": "2024-05-22T12:23:12.439997Z",
     "shell.execute_reply.started": "2024-05-22T12:22:55.668058Z"
    },
    "trusted": true
   },
   "outputs": [],
   "source": [
    "detr_predict_df.head(5)"
   ]
  },
  {
   "cell_type": "markdown",
   "metadata": {},
   "source": [
    "### **3.3 Conclusion Segmentation**\n",
    "\n",
    "Semantic segmentation involves assigning a label to each pixel in an image, rather than just to the entire image. The goal is to accurately identify the locations of different objects within an image. In this section, a similar approach to image classification was taken to explore both from-scratch and pre-trained models.\n",
    "\n",
    "The from-scratch model demonstrated how a segmentation network can be built layer by layer. A U-Net architecture was chosen for this purpose, as it is particularly well-suited for medical image segmentation tasks. Training this model using only the available data yielded better results than the from-scratch image classification models, but there were still noticeable limitations.\n",
    "\n",
    "To improve results, pre-trained models were explored. Initially, a manual Fully Convolutional Network (FCN) was constructed, but its performance was lackluster, leading to its removal from further consideration. Next, a PSPNet model with a pre-trained backbone was tested. This model was run locally due to RAM limitations on Kaggle, and while some additional challenges were faced, potential solutions were proposed. Finally, a panoptic segmentation model based on the DETR architecture was explored. This model, which uses transformers for segmentation tasks, showed impressive performance and was ultimately used in the final submission.\n",
    "\n",
    "The task of segmentation proved to be more complex than classification, introducing additional challenges. However, exploring various solutions and evaluating their effectiveness provided valuable insights into the complexity of these models.\n"
   ]
  },
  {
   "cell_type": "markdown",
   "metadata": {
    "papermill": {
     "duration": 0.196901,
     "end_time": "2022-04-12T14:49:19.951018",
     "exception": false,
     "start_time": "2022-04-12T14:49:19.754117",
     "status": "completed"
    },
    "tags": []
   },
   "source": [
    "## Submit to competition\n"
   ]
  },
  {
   "cell_type": "code",
   "execution_count": null,
   "metadata": {
    "execution": {
     "iopub.execute_input": "2024-05-22T12:23:12.443454Z",
     "iopub.status.busy": "2024-05-22T12:23:12.443054Z",
     "iopub.status.idle": "2024-05-22T12:23:12.448065Z",
     "shell.execute_reply": "2024-05-22T12:23:12.447074Z",
     "shell.execute_reply.started": "2024-05-22T12:23:12.443419Z"
    },
    "trusted": true
   },
   "outputs": [],
   "source": [
    "# test_df.loc[:, labels] = np.ones_like(test_df.loc[:, labels])"
   ]
  },
  {
   "cell_type": "code",
   "execution_count": null,
   "metadata": {
    "execution": {
     "iopub.execute_input": "2024-05-22T12:26:32.054778Z",
     "iopub.status.busy": "2024-05-22T12:26:32.054363Z",
     "iopub.status.idle": "2024-05-22T12:26:32.060216Z",
     "shell.execute_reply": "2024-05-22T12:26:32.059035Z",
     "shell.execute_reply.started": "2024-05-22T12:26:32.054752Z"
    },
    "trusted": true
   },
   "outputs": [],
   "source": [
    "labels = train_df.columns[:-2]"
   ]
  },
  {
   "cell_type": "code",
   "execution_count": null,
   "metadata": {
    "execution": {
     "iopub.execute_input": "2024-05-22T12:26:35.588808Z",
     "iopub.status.busy": "2024-05-22T12:26:35.588124Z",
     "iopub.status.idle": "2024-05-22T12:27:08.376387Z",
     "shell.execute_reply": "2024-05-22T12:27:08.374659Z",
     "shell.execute_reply.started": "2024-05-22T12:26:35.588778Z"
    },
    "trusted": true
   },
   "outputs": [],
   "source": [
    "plot_images(detr_predict_df, labels)"
   ]
  },
  {
   "cell_type": "code",
   "execution_count": null,
   "metadata": {
    "execution": {
     "iopub.execute_input": "2024-05-22T12:27:26.624435Z",
     "iopub.status.busy": "2024-05-22T12:27:26.62362Z",
     "iopub.status.idle": "2024-05-22T12:27:34.080189Z",
     "shell.execute_reply": "2024-05-22T12:27:34.079235Z",
     "shell.execute_reply.started": "2024-05-22T12:27:26.624401Z"
    },
    "papermill": {
     "duration": 81.176133,
     "end_time": "2022-04-12T14:50:41.324425",
     "exception": false,
     "start_time": "2022-04-12T14:49:20.148292",
     "status": "completed"
    },
    "tags": [],
    "trusted": true
   },
   "outputs": [],
   "source": [
    "#generate_submission(test_df)\n",
    "#predictions_df['seg'] = np.empty(len(test_df), dtype=object)\n",
    "#predictions_df[\"seg\"] = test_predictions\n",
    "# detr_predict_df['seg'] = -1\n",
    "generate_submission(detr_predict_df)"
   ]
  },
  {
   "cell_type": "markdown",
   "metadata": {
    "papermill": {
     "duration": 0.197466,
     "end_time": "2022-04-12T14:50:41.721228",
     "exception": false,
     "start_time": "2022-04-12T14:50:41.523762",
     "status": "completed"
    },
    "tags": []
   },
   "source": [
    "# 4. Adversarial attack"
   ]
  },
  {
   "cell_type": "code",
   "execution_count": null,
   "metadata": {
    "execution": {
     "iopub.status.busy": "2024-05-22T12:23:13.956538Z",
     "iopub.status.idle": "2024-05-22T12:23:13.956858Z",
     "shell.execute_reply": "2024-05-22T12:23:13.956715Z",
     "shell.execute_reply.started": "2024-05-22T12:23:13.956702Z"
    },
    "trusted": true
   },
   "outputs": [],
   "source": [
    "import torch\n",
    "import torch.nn as nn\n",
    "import torch.optim as optim\n",
    "import torchvision.transforms as transforms\n",
    "from torchvision.models import resnet50\n",
    "from PIL import Image\n",
    "from matplotlib import pyplot as plt"
   ]
  },
  {
   "cell_type": "markdown",
   "metadata": {},
   "source": [
    "## Load the model\n",
    "put the model in evaluation mode so that it does not update the gradients."
   ]
  },
  {
   "cell_type": "code",
   "execution_count": null,
   "metadata": {
    "execution": {
     "iopub.status.busy": "2024-05-22T12:23:13.958474Z",
     "iopub.status.idle": "2024-05-22T12:23:13.958925Z",
     "shell.execute_reply": "2024-05-22T12:23:13.958709Z",
     "shell.execute_reply.started": "2024-05-22T12:23:13.95869Z"
    },
    "trusted": true
   },
   "outputs": [],
   "source": [
    "model = resnet50(pretrained=True)\n",
    "model.eval()"
   ]
  },
  {
   "cell_type": "markdown",
   "metadata": {},
   "source": [
    " ## Load ImageNet Class Labels\n"
   ]
  },
  {
   "cell_type": "code",
   "execution_count": null,
   "metadata": {
    "execution": {
     "iopub.status.busy": "2024-05-22T12:23:13.960679Z",
     "iopub.status.idle": "2024-05-22T12:23:13.960999Z",
     "shell.execute_reply": "2024-05-22T12:23:13.960858Z",
     "shell.execute_reply.started": "2024-05-22T12:23:13.960844Z"
    },
    "trusted": true
   },
   "outputs": [],
   "source": [
    "with open(\"imagenet_classes.txt\") as f:\n",
    "    classes = [line.strip() for line in f.readlines()]"
   ]
  },
  {
   "cell_type": "markdown",
   "metadata": {},
   "source": [
    "##  Preprocess the Image\n"
   ]
  },
  {
   "cell_type": "code",
   "execution_count": null,
   "metadata": {
    "execution": {
     "iopub.status.busy": "2024-05-22T12:23:13.962046Z",
     "iopub.status.idle": "2024-05-22T12:23:13.962387Z",
     "shell.execute_reply": "2024-05-22T12:23:13.962231Z",
     "shell.execute_reply.started": "2024-05-22T12:23:13.962197Z"
    },
    "trusted": true
   },
   "outputs": [],
   "source": [
    "def preprocess_image(image_path):\n",
    "    image = Image.open(image_path)\n",
    "    preprocess = transforms.Compose([\n",
    "        transforms.Resize((224, 224)),\n",
    "        transforms.ToTensor(),\n",
    "    ])\n",
    "    image = preprocess(image).unsqueeze(0)\n",
    "    return image"
   ]
  },
  {
   "cell_type": "code",
   "execution_count": null,
   "metadata": {
    "execution": {
     "iopub.status.busy": "2024-05-22T12:23:13.964291Z",
     "iopub.status.idle": "2024-05-22T12:23:13.964749Z",
     "shell.execute_reply": "2024-05-22T12:23:13.964537Z",
     "shell.execute_reply.started": "2024-05-22T12:23:13.964517Z"
    },
    "trusted": true
   },
   "outputs": [],
   "source": [
    "def predict(image):\n",
    "    output = model(image)\n",
    "    _, predicted = torch.max(output, 1)\n",
    "    percentage = torch.nn.functional.softmax(output, dim=1)[0] * 100\n",
    "    _, indices = torch.sort(output, descending=True)\n",
    "    return [(classes[idx], percentage[idx].item()) for idx in indices[0][:5]]"
   ]
  },
  {
   "cell_type": "markdown",
   "metadata": {},
   "source": [
    "## define loss function\n",
    "\n",
    "nn.CrossEntropyLoss() is a common loss function for classification tasks that combines nn.LogSoftmax() and nn.NLLLoss() (negative log likelihood loss)."
   ]
  },
  {
   "cell_type": "code",
   "execution_count": null,
   "metadata": {
    "execution": {
     "iopub.status.busy": "2024-05-22T12:23:13.966414Z",
     "iopub.status.idle": "2024-05-22T12:23:13.966744Z",
     "shell.execute_reply": "2024-05-22T12:23:13.966597Z",
     "shell.execute_reply.started": "2024-05-22T12:23:13.966583Z"
    },
    "trusted": true
   },
   "outputs": [],
   "source": [
    "criterion = nn.CrossEntropyLoss()"
   ]
  },
  {
   "cell_type": "markdown",
   "metadata": {},
   "source": [
    "## FGSM Attack Function\n",
    "\n",
    "The Fast Gradient Sign Method (FGSM) is a simple yet effective adversarial attack that targets neural networks. The attack is designed to be fast and requires minimal computational resources"
   ]
  },
  {
   "cell_type": "code",
   "execution_count": null,
   "metadata": {
    "execution": {
     "iopub.status.busy": "2024-05-22T12:23:13.967858Z",
     "iopub.status.idle": "2024-05-22T12:23:13.968161Z",
     "shell.execute_reply": "2024-05-22T12:23:13.968021Z",
     "shell.execute_reply.started": "2024-05-22T12:23:13.968009Z"
    },
    "trusted": true
   },
   "outputs": [],
   "source": [
    "def fgsm_attack(image, epsilon, data_grad):\n",
    "    sign_data_grad = data_grad.sign()\n",
    "    perturbed_image = image + epsilon * sign_data_grad\n",
    "    perturbed_image = torch.clamp(perturbed_image, 0, 1)\n",
    "    return perturbed_image\n"
   ]
  },
  {
   "cell_type": "markdown",
   "metadata": {},
   "source": [
    "fsgm works by using the gradient of the loss in relation to the input image to create a new image that maximizes the loss. The gradient is calculated with respect to the input image, and the sign of the gradient is used to create the new image. The epsilon parameter controls the magnitude of the perturbation.\n",
    "\n",
    "let's break down the steps of the FGSM attack function:\n",
    "\n",
    "1. Calculate the gradient of the loss with respect to the input image.\n",
    "2. Compute the sign of the gradient to determine the direction of the perturbation.\n",
    "3. Create a new image by adding the perturbation to the original image.\n",
    "4. Clip the pixel values of the new image to ensure they are within the valid range of [0, 1].\n",
    "5.  Return the perturbed image.\n",
    "\n",
    "\n",
    "## Test the FGSM Attack Function"
   ]
  },
  {
   "cell_type": "code",
   "execution_count": null,
   "metadata": {
    "execution": {
     "iopub.status.busy": "2024-05-22T12:23:13.969335Z",
     "iopub.status.idle": "2024-05-22T12:23:13.969659Z",
     "shell.execute_reply": "2024-05-22T12:23:13.969519Z",
     "shell.execute_reply.started": "2024-05-22T12:23:13.969506Z"
    },
    "trusted": true
   },
   "outputs": [],
   "source": [
    "image_path = \"bike.jpeg\"\n",
    "image = preprocess_image(image_path)\n",
    "image.requires_grad = True"
   ]
  },
  {
   "cell_type": "markdown",
   "metadata": {},
   "source": [
    "## peliminary prediction\n"
   ]
  },
  {
   "cell_type": "code",
   "execution_count": null,
   "metadata": {
    "execution": {
     "iopub.status.busy": "2024-05-22T12:23:13.971232Z",
     "iopub.status.idle": "2024-05-22T12:23:13.971628Z",
     "shell.execute_reply": "2024-05-22T12:23:13.971438Z",
     "shell.execute_reply.started": "2024-05-22T12:23:13.97142Z"
    },
    "trusted": true
   },
   "outputs": [],
   "source": [
    "# make a peliminary prediction\n",
    "print(\"Prediction before attack:\")\n",
    "preditiction = predict(image)\n",
    "#plot percentages of top 10 classes\n",
    "plt.figure(figsize=(6,3))\n",
    "plt.bar(*zip(*preditiction))\n",
    "plt.xticks(rotation=90)\n",
    "plt.show()"
   ]
  },
  {
   "cell_type": "markdown",
   "metadata": {},
   "source": [
    "## fsgm attack"
   ]
  },
  {
   "cell_type": "code",
   "execution_count": null,
   "metadata": {
    "execution": {
     "iopub.status.busy": "2024-05-22T12:23:13.972999Z",
     "iopub.status.idle": "2024-05-22T12:23:13.973468Z",
     "shell.execute_reply": "2024-05-22T12:23:13.973243Z",
     "shell.execute_reply.started": "2024-05-22T12:23:13.973222Z"
    },
    "trusted": true
   },
   "outputs": [],
   "source": [
    "epsilon = 0.03\n",
    "output = model(image)   \n",
    "loss = -criterion(output, torch.tensor([1]))  # 1 is the target class (goldfish)\n",
    "model.zero_grad()\n",
    "loss.backward()\n",
    "data_grad = image.grad.data\n",
    "perturbed_image = fgsm_attack(image, epsilon, data_grad)"
   ]
  },
  {
   "cell_type": "markdown",
   "metadata": {},
   "source": [
    "## Prediction after attack\n"
   ]
  },
  {
   "cell_type": "code",
   "execution_count": null,
   "metadata": {
    "execution": {
     "iopub.status.busy": "2024-05-22T12:23:13.974701Z",
     "iopub.status.idle": "2024-05-22T12:23:13.975041Z",
     "shell.execute_reply": "2024-05-22T12:23:13.97489Z",
     "shell.execute_reply.started": "2024-05-22T12:23:13.97487Z"
    },
    "trusted": true
   },
   "outputs": [],
   "source": [
    "plt.imshow(perturbed_image[0].permute(1, 2, 0).detach().numpy())\n",
    "print(\"Prediction after attack:\")\n",
    "prediction = predict(perturbed_image)\n",
    "plt.figure(figsize=(6,3))\n",
    "plt.bar(*zip(*prediction))\n",
    "plt.xticksa(rotation=90)"
   ]
  },
  {
   "cell_type": "markdown",
   "metadata": {},
   "source": [
    "## PGD-Attack\n",
    "\n",
    "The Projected Gradient Descent (PGD) attack is an iterative variant of the FGSM attack. It is considered to be more powerful than the FGSM attack, as it applies the FGSM attack multiple times with small step sizes. The PGD attack is designed to find the perturbation that maximizes the loss while staying within a certain epsilon value.\n"
   ]
  },
  {
   "cell_type": "code",
   "execution_count": null,
   "metadata": {
    "execution": {
     "iopub.status.busy": "2024-05-22T12:23:13.976641Z",
     "iopub.status.idle": "2024-05-22T12:23:13.977075Z",
     "shell.execute_reply": "2024-05-22T12:23:13.976868Z",
     "shell.execute_reply.started": "2024-05-22T12:23:13.97685Z"
    },
    "trusted": true
   },
   "outputs": [],
   "source": [
    "def pgd_attack(image, epsilon, alpha, num_iter, target_class):\n",
    "    perturbed_image = image.clone().detach()\n",
    "    for _ in range(num_iter):\n",
    "        perturbed_image.requires_grad = True\n",
    "        output = model(perturbed_image)\n",
    "        loss = -criterion(output, torch.tensor([target_class]))\n",
    "        model.zero_grad()\n",
    "        loss.backward()\n",
    "        with torch.no_grad():\n",
    "            perturbed_image = perturbed_image + alpha * perturbed_image.grad.sign()\n",
    "            perturbed_image = torch.max(torch.min(perturbed_image, image + epsilon), image - epsilon).detach()\n",
    "    return perturbed_image\n"
   ]
  },
  {
   "cell_type": "markdown",
   "metadata": {},
   "source": [
    "let's break down the steps of the PGD attack function:\n",
    "\n",
    "1. Create a copy of the input image to store the perturbed image.\n",
    "2. Iterate over a fixed number of iterations.\n",
    "3. Enable gradient computation for the perturbed image.\n",
    "4. Compute the output of the model and calculate the loss with respect to the target class.\n",
    "5. Backpropagate the loss to compute the gradient of the perturbed image.\n",
    "6. Update the perturbed image by adding a small step in the direction of the gradient.\n",
    "7. Clip the pixel values of the perturbed image to ensure they are within the valid range of [0, 1].\n",
    "8. Return the perturbed image."
   ]
  },
  {
   "cell_type": "markdown",
   "metadata": {},
   "source": [
    "## Test the PGD Attack Function\n"
   ]
  },
  {
   "cell_type": "code",
   "execution_count": null,
   "metadata": {
    "execution": {
     "iopub.status.busy": "2024-05-22T12:23:13.97837Z",
     "iopub.status.idle": "2024-05-22T12:23:13.978805Z",
     "shell.execute_reply": "2024-05-22T12:23:13.978594Z",
     "shell.execute_reply.started": "2024-05-22T12:23:13.978576Z"
    },
    "trusted": true
   },
   "outputs": [],
   "source": [
    "image_path = \"bike.jpeg\"\n",
    "image = preprocess_image(image_path)\n",
    "image.requires_grad = True\n",
    "\n",
    "# we use the same parameters as in the FGSM attack\n",
    "epsilon = 0.03\n",
    "# alpha is the step size for the PGD attack\n",
    "alpha = 0.01\n",
    "# number of iterations for the PGD attack\n",
    "num_iter = 40\n",
    "\n"
   ]
  },
  {
   "cell_type": "markdown",
   "metadata": {},
   "source": [
    "## Preliminary Prediction\n"
   ]
  },
  {
   "cell_type": "code",
   "execution_count": null,
   "metadata": {
    "execution": {
     "iopub.status.busy": "2024-05-22T12:23:13.979869Z",
     "iopub.status.idle": "2024-05-22T12:23:13.980324Z",
     "shell.execute_reply": "2024-05-22T12:23:13.980094Z",
     "shell.execute_reply.started": "2024-05-22T12:23:13.980076Z"
    },
    "trusted": true
   },
   "outputs": [],
   "source": [
    "print(\"Prediction before attack:\")\n",
    "prediction = predict(image)\n",
    "plt.figure(figsize=(6,3))\n",
    "plt.bar(*zip(*prediction))\n",
    "plt.xticks(rotation=90)\n",
    "plt.show()"
   ]
  },
  {
   "cell_type": "markdown",
   "metadata": {},
   "source": [
    "## PGD Attack\n"
   ]
  },
  {
   "cell_type": "code",
   "execution_count": null,
   "metadata": {
    "execution": {
     "iopub.status.busy": "2024-05-22T12:23:13.982422Z",
     "iopub.status.idle": "2024-05-22T12:23:13.982758Z",
     "shell.execute_reply": "2024-05-22T12:23:13.982607Z",
     "shell.execute_reply.started": "2024-05-22T12:23:13.982593Z"
    },
    "trusted": true
   },
   "outputs": [],
   "source": [
    "perturbed_image = pgd_attack(image, epsilon, alpha, num_iter, 1)\n"
   ]
  },
  {
   "cell_type": "markdown",
   "metadata": {},
   "source": [
    "## Prediction after attack\n"
   ]
  },
  {
   "cell_type": "code",
   "execution_count": null,
   "metadata": {
    "execution": {
     "iopub.status.busy": "2024-05-22T12:23:13.984384Z",
     "iopub.status.idle": "2024-05-22T12:23:13.984695Z",
     "shell.execute_reply": "2024-05-22T12:23:13.984553Z",
     "shell.execute_reply.started": "2024-05-22T12:23:13.984541Z"
    },
    "trusted": true
   },
   "outputs": [],
   "source": [
    "plt.imshow(perturbed_image[0].permute(1, 2, 0).detach().numpy())\n",
    "print(\"Prediction after attack:\")\n",
    "prediction = predict(perturbed_image)\n",
    "plt.figure(figsize=(6,3))\n",
    "plt.bar(*zip(*prediction))\n",
    "plt.xticks(rotation=90)"
   ]
  },
  {
   "cell_type": "markdown",
   "metadata": {},
   "source": [
    " the model is fooled by the attack and the target class is the top prediction."
   ]
  },
  {
   "cell_type": "markdown",
   "metadata": {},
   "source": [
    "## realworld attacks\n",
    "\n",
    "### Tecchincal feasibility of this attack\n",
    "#### Access to the model\n",
    "\n",
    "The attacker needs access to the model to compute the gradients and perform the attack. This can be done by querying the model through an API or by downloading the model and running it locally. just having access to the model is not enough, the attacker also needs to know the architecture of the model and the class labels.\n",
    "\n",
    "#### White-box vs Black-box Attacks\n",
    "for a black-box attack, the attacker does not have access to the model and needs to query the model through an API. This makes the attack more challenging, as the attacker does not have access to the gradients and needs to rely on other methods such as transfer learning or model inversion.\n",
    "\n",
    "### Practical Feasibility\n",
    "\n",
    "### physical world attacks\n",
    "a physical world attack is not feasible for this attack as the perturbation is sensitive to the input image and may not transfer well to the physical world. However, there are other attacks such as adversarial stickers or adversarial glasses that can be used to fool object detection systems in the physical world.\n",
    "\n",
    "### Defenses\n",
    "\n",
    "the defense for this attack is to use adversarial training, which involves training the model with adversarial examples to make it more robust to attacks. Other defenses include input preprocessing, gradient masking, and adversarial training with randomization. \n",
    "\n",
    "\n"
   ]
  },
  {
   "cell_type": "markdown",
   "metadata": {
    "papermill": {
     "duration": 0.195695,
     "end_time": "2022-04-12T14:50:42.117581",
     "exception": false,
     "start_time": "2022-04-12T14:50:41.921886",
     "status": "completed"
    },
    "tags": []
   },
   "source": [
    "# 5. Discussion\n",
    "\n",
    "In this project, three major challenges in computer vision were explored: image classification, semantic segmentation, and adversarial attacks. Each of these areas presented unique challenges and solutions, and provided insights into the complexities of real-world computer vision tasks.\n",
    "\n",
    "### **Multiclass Classification**\n",
    "\n",
    "Multiclass classification goes beyond traditional classification problems, as it involves predicting multiple labels that may appear in each image. This increases the complexity of the task. Several approaches to solving this challenge were explored, with a focus on both from-scratch and pre-trained models:\n",
    "\n",
    "- **From-scratch Models:** These models allowed for the construction of a model layer by layer. Two different architectures were explored: Vision Transformer (ViT) and Convolutional Neural Networks (CNN). Both architectures used a softmax activation function in the output layer and binary cross-entropy loss for multiclass classification. However, both models struggled to generalize beyond the training data, likely due to the limited amount of data available for training.\n",
    "\n",
    "- **Pre-trained Models:** These models have been trained on massive datasets and thus do not face the same limitations of data scarcity. The first strategy involved using models pre-trained on datasets with labels similar to those in the target dataset, which can be useful when the training data is scarce. The second strategy explored fine-tuning a pre-trained model by adding trainable layers on top to adapt the model to the specific task. Both strategies utilized the softmax activation function and binary cross-entropy loss. In the end, the pre-trained models outperformed the from-scratch models, demonstrating the significant advantage of leveraging large pre-trained networks.\n",
    "\n",
    "In conclusion, different models and approaches exist, each with its own strengths and weaknesses. Pre-trained models, in particular, proved to be the most effective for this task.\n",
    "\n",
    "### **Semantic Segmentation**\n",
    "\n",
    "Semantic segmentation involves not only labeling entire images but also determining where in the image each object is located. This task is more complex than classification, and we explored both from-scratch and pre-trained models to solve this challenge:\n",
    "\n",
    "- **From-scratch Model (U-Net):** A U-Net architecture was explored as a convolutional network designed specifically for image segmentation. The model was constructed layer by layer and used softmax activation with categorical cross-entropy loss. Despite being limited by the lack of large training data, this model performed better than the from-scratch image classification models. To improve its performance, a custom-weighted categorical cross-entropy loss function was introduced to address the class imbalance problem.\n",
    "\n",
    "- **Pre-trained Models:** Several pre-trained models were tested. The first was PSPNet, which uses a pre-trained CNN backbone for feature extraction. Although this model was trained on our dataset, it showed some issues, including misclassifying objects that weren't present in the image. A solution was proposed to refine these predictions by assigning misclassifications either to the background or the correct label. Additionally, a panoptic segmentation model, similar to the DETR used in classification, was explored. This model showed impressive results and was used for the final submission.\n",
    "\n",
    "In summary, the exploration of different architectures for segmentation provided valuable lessons on improving model performance, particularly in dealing with class imbalance and refining misclassifications. As with classification, pre-trained models were more successful than from-scratch models.\n",
    "\n",
    "### **Adversarial Attacks**\n",
    "\n",
    "Adversarial attacks are techniques used to deceive models into making incorrect predictions. These attacks can be classified into two major categories:\n",
    "\n",
    "- **White-box Attacks:** In this scenario, the attacker has full access to the targeted model's architecture and parameters, making it easier to craft effective attacks. \n",
    "    - **FGSM (Fast Gradient Sign Method):** This white-box attack introduces a perturbation to the image that maximizes the gradient of the loss with respect to the input image. The severity of the attack can be controlled using the epsilon value. The effectiveness of this attack was demonstrated by showing predictions before and after the attack, illustrating how the model was tricked.\n",
    "    - **PGD-Attack (Projected Gradient Descent):** Another white-box attack, PGD applies the FGSM attack multiple times with small step sizes, staying within a defined epsilon value. Similar to FGSM, this attack was effective in causing misclassification, as demonstrated in the predictions before and after the attack.\n",
    "\n",
    "- **Black-box Attacks:** Unlike white-box attacks, the attacker doesn't have access to the model’s inner workings and can only observe the model's outputs. This makes the attack more challenging to execute but still possible.\n",
    "\n",
    "The attacks showcased in this project demonstrated how small, seemingly imperceptible changes to an image can result in drastic misclassifications. These examples highlighted the need for models to be robust against adversarial noise, as such attacks can easily undermine the reliability of computer vision systems.\n",
    "\n",
    "### **Conclusion**\n",
    "\n",
    "Through the exploration of image classification, semantic segmentation, and adversarial attacks, several key takeaways emerged. In classification and segmentation tasks, pre-trained models provided a significant advantage, outperforming from-scratch models due to their ability to leverage vast amounts of pre-existing data. In the case of adversarial attacks, the demonstrated white-box attacks showcased the vulnerability of machine learning models to small perturbations, emphasizing the importance of developing robust systems.\n",
    "\n",
    "This project provided valuable insights into both the strengths and limitations of current computer vision techniques and will contribute to a deeper understanding of how these methods can be applied in real-world scenarios.\n"
   ]
  }
 ],
 "metadata": {
  "kaggle": {
   "accelerator": "nvidiaTeslaT4",
   "dataSources": [
    {
     "databundleVersionId": 7751254,
     "sourceId": 70925,
     "sourceType": "competition"
    },
    {
     "modelId": 52101,
     "modelInstanceId": 37112,
     "sourceId": 44190,
     "sourceType": "modelInstanceVersion"
    },
    {
     "modelId": 52101,
     "modelInstanceId": 38222,
     "sourceId": 45591,
     "sourceType": "modelInstanceVersion"
    },
    {
     "modelId": 52101,
     "modelInstanceId": 41107,
     "sourceId": 49197,
     "sourceType": "modelInstanceVersion"
    }
   ],
   "dockerImageVersionId": 30699,
   "isGpuEnabled": true,
   "isInternetEnabled": true,
   "language": "python",
   "sourceType": "notebook"
  },
  "kernelspec": {
   "display_name": "Python 3",
   "language": "python",
   "name": "python3"
  },
  "language_info": {
   "codemirror_mode": {
    "name": "ipython",
    "version": 3
   },
   "file_extension": ".py",
   "mimetype": "text/x-python",
   "name": "python",
   "nbconvert_exporter": "python",
   "pygments_lexer": "ipython3",
   "version": "3.10.11"
  },
  "papermill": {
   "default_parameters": {},
   "duration": 151.961305,
   "end_time": "2022-04-12T14:50:45.298914",
   "environment_variables": {},
   "exception": null,
   "input_path": "__notebook__.ipynb",
   "output_path": "__notebook__.ipynb",
   "parameters": {},
   "start_time": "2022-04-12T14:48:13.337609",
   "version": "2.3.3"
  }
 },
 "nbformat": 4,
 "nbformat_minor": 4
}
